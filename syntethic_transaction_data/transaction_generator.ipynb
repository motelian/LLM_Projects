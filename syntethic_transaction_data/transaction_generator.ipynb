{
 "cells": [
  {
   "cell_type": "code",
   "execution_count": 1,
   "id": "bf0fd296",
   "metadata": {},
   "outputs": [],
   "source": [
    "import os\n",
    "import re\n",
    "import time\n",
    "import json\n",
    "import openai\n",
    "from dotenv import load_dotenv, find_dotenv\n",
    "\n",
    "_ = load_dotenv(find_dotenv())\n",
    "\n",
    "openai.api_key = os.environ[\"OPENAI_API_KEY\"]"
   ]
  },
  {
   "cell_type": "markdown",
   "id": "98ed7f55",
   "metadata": {},
   "source": [
    "- Summerize key points in the client meta data"
   ]
  },
  {
   "cell_type": "code",
   "execution_count": 2,
   "id": "d1e9a8f0",
   "metadata": {},
   "outputs": [],
   "source": [
    "example = {'description': 'Robert King has worked at various hedge funds. He is currently CEO at one in San Francisco. He serves on multiple local boards and is very wealthy.',\n",
    " 'docs': {'_linkedin.html': {'Employment 1': 'Hedge Fund A, CEO',\n",
    "   'Employment 2': 'Hedge Fund B, Senior Portfolio Manager',\n",
    "   'Education': 'Stanford University, MBA',\n",
    "   'Board Member': 'San Francisco Symphony, Board Director',\n",
    "   'Bio': 'Robert King is an experienced finance professional with a strong background in hedge funds. He currently serves as the CEO of Hedge Fund A in San Francisco. Prior to this role, he worked as a Senior Portfolio Manager at Hedge Fund B. Robert is also actively involved in the community and serves as a Board Director for the San Francisco Symphony.'},\n",
    "  '_wealthx.html': {'Estimated Net Worth': 'At least $100 million',\n",
    "   'Estimated Liquid Assets': 'At least $50 million',\n",
    "   'Estimated Household Wealth': 'At least $150 million',\n",
    "   'Estimated Household Liquid Assets': 'At least $50 million',\n",
    "   'Estimated Family Net Worth': 'At least $500 million',\n",
    "   'Interests, Passions, Hobbies': 'Art collecting and philanthropy'},\n",
    "  '_relsci.html': {'Boards & Committees (Corporate)': 'Tech Company X, Board Director',\n",
    "   'Boards & Committees (Nonprofit)': 'San Francisco Museum of Modern Art, Trustee',\n",
    "   'Former/Prior Boards & Committees (Corporate)': 'Investment Firm Y, Board Director',\n",
    "   'Former/Prior Boards & Committees (Nonprofit)': 'Local Charity Z, Trustee',\n",
    "   'Top donations (Nonprofit)': 'American Red Cross - $1M, Boys & Girls Clubs of America - $500K, Habitat for Humanity - $250K',\n",
    "   'Top donations (Political parties)': 'Democratic National Committee - $100K, Joe Biden - $250K'},\n",
    "  '_equilar.html': {'Stock sold - Equity Transactions (Last 36 Months)': '$50 million',\n",
    "   'New Equity Grants - Equity Transactions (Last 36 Months)': '$20 million',\n",
    "   'Options Exercised - Equity Transactions (Last 36 Months)': '$10 million',\n",
    "   'Equity Holdings - Equity Transactions': '$80 million',\n",
    "   'Annual Compensation': '$5 million',\n",
    "   'Stock Sold': 'CEO, $1M at Hedge Fund A, June 1 2023 (SEC) | June 1 2023 (Effective)'},\n",
    "  '_zoominfo.html': {'Personal Email': 'robertking@email.com'},\n",
    "  '_pitchbook.html': {'Lead partner on deals': {'Company': 'Tech Startup XYZ',\n",
    "    'Deal Date': 'May 15 2023',\n",
    "    'Deal Type': 'Series B',\n",
    "    'Deal Size': '$30M',\n",
    "    'Deal Status': 'Completed',\n",
    "    'Location': 'San Francisco, CA',\n",
    "    'Representing': 'Hedge Fund A',\n",
    "    'Other Partners': 'John Doe, Jane Smith, Mark Johnson'}},\n",
    "  '_google.html': {'Article 1': {'Title': 'Robert King donates $1 million to local charity',\n",
    "    'Date': 'March 10, 2023',\n",
    "    'Abstract': 'In a generous act of philanthropy, Robert King has donated $1 million to a local charity. The donation will support various programs and initiatives aimed at improving the lives of underprivileged individuals in the community.'}},\n",
    "}}"
   ]
  },
  {
   "cell_type": "code",
   "execution_count": 3,
   "id": "b12f3dac",
   "metadata": {},
   "outputs": [],
   "source": [
    "kwargs = {\n",
    "    'max_tokens':1000,\n",
    "    'verbose':False,\n",
    "    'temperature':0,\n",
    "    'top_p':1,\n",
    "    'frequency_penalty':0,\n",
    "    'presence_penalty':0\n",
    "}\n",
    "\n",
    "def get_completion_from_messages(messages, model=\"gpt-3.5-turbo\", verbose=False, **kwargs):\n",
    "    \"\"\"\n",
    "    Prime the model with one or more input prompts\n",
    "        messages - list of prompts (each prompt is a dictionary of \"role\" and \"content\")\n",
    "        model - ChatGPT model to use\n",
    "        temperature - Single values in the range [0, 2]. Higher values\n",
    "            produce more randomness.\n",
    "        verbose - if True, print the full response and then\n",
    "            return only the chat response\n",
    "    \"\"\"\n",
    "    response = openai.ChatCompletion.create(\n",
    "        model=model,\n",
    "        messages=messages,\n",
    "        **kwargs\n",
    "    )\n",
    "    if verbose:\n",
    "        print(f\"full response:\\n{response}\")\n",
    "    return response.choices[0].message[\"content\"]"
   ]
  },
  {
   "cell_type": "code",
   "execution_count": 4,
   "id": "7596820a",
   "metadata": {},
   "outputs": [],
   "source": [
    "# Output schema:\n",
    "metadata_schema = {\"_linkedin.html\": {\n",
    "                  \"Employment 1\": \"Big Bank, Senior Data Scientist\",\n",
    "                  \"Employment 2\": \"Small Bank, Data Scientist\",\n",
    "                  \"Education\": \"UC Berkeley, PhD Astronomy\",\n",
    "                  \"Board Member\": \"Girls and Boys Club, Chairman\",\n",
    "                  \"Bio\": \"biography of up to 100 words that is consistent with the above information\",\n",
    "                 },\n",
    "\n",
    "                 \"_wealthx.html\": {\n",
    "                    \"Estimated Net Worth\": \"At least $19.5 million\",\n",
    "                    \"Estimated Liquid Assets\": \"At least $11.5 million\",\n",
    "                    \"Estimated Household Wealth\": \"At least $31.5 million\",\n",
    "                    \"Estimated Household Liquid Assets\": \"At least $11.5 million\",\n",
    "                    \"Estimated Family Net Worth\": \"At least $226.1 billion\",\n",
    "                    \"Interests, Passions, Hobbies\" : \"Tennis and golf\",\n",
    "                 },\n",
    "\n",
    "                 \"_relsci.html\": {\n",
    "                     \"Boards & Committees (Corporate)\": \"Paramount Global, Board Director\",\n",
    "                     \"Boards & Committees (Nonprofit)\": \"Brentwood School - California, Trustee\",\n",
    "                     \"Former/Prior Boards & Committees (Corporate)\": \"The Walt Disney Company, Board Director\",\n",
    "                     \"Former/Prior Boards & Committees (Nonprofit)\": \"The Paley Center for Media, Trustee\",\n",
    "                     \"Top donations (Nonprofit)\": \"Greenpeace - $2M, UCSF - $1M, Kiva - $500K\",\n",
    "                     \"Top donations (Political parties)\": \"Kamala Harris - $100K, CA Democratic Committee - $250K\",\n",
    "                 },\n",
    "\n",
    "                 \"_equilar.html\": {\n",
    "                    \"Stock sold - Equity Transactions (Last 36 Months)\": \"$215.3 million\",\n",
    "                    \"New Equity Grants - Equity Transactions (Last 36 Months)\": \"$93 million\",\n",
    "                    \"Options Exercised - Equity Transactions (Last 36 Months)\": \"$17.5 million\",\n",
    "                    \"Equity Holdings - Equity Transactions\": \"$167.5 million\",\n",
    "                    \"Annual Compensation\": \"$11.9 million\",\n",
    "                    \"Stock Sold\": \"CEO and Chairperson, $1.6M at Cerevel Therapeutics Holdings, Inc. (50,000 shares), June 5 2023 (SEC) | June 1 2023 (Effective)\",\n",
    "                 },\n",
    "\n",
    "                 \"_zoominfo.html\": {\n",
    "                     \"Personal Email\": \"email@domain.com\",\n",
    "                 },\n",
    "\n",
    "                 \"_pitchbook.html\": {\n",
    "                     \"Lead partner on deals\": {\n",
    "                          \"Company\": \"Harvey (Business/Productivity Software)\",\n",
    "                          \"Deal Date\": \"April 26 2023\",\n",
    "                          \"Deal Type\": \"Early Stage VC\",\n",
    "                          \"Deal Size\": \"$21M\",\n",
    "                          \"Deal Status\": \"Completed\",\n",
    "                          \"Location\": \"Los Angeles, CA\",\n",
    "                          \"Representing\": \"Sequoia Capital\",\n",
    "                          \"Other Partners\": \"Rich Dude I, Rich Guy II, Notso Rich III, Rich Wannabe\",\n",
    "                          #\"Other Partners emails\": \"richdude@aristocracy.com, richguy@aristocracy.com\",\n",
    "                     },\n",
    "#                     \"Investor bio\": \"A brief summary of the investor, his peers, and his investment deals\"\n",
    "                 },\n",
    "\n",
    "                 \"_google.html\": {\n",
    "                     \"Article 1\": {\n",
    "                         \"Title\": 'John Smith granted key to the city',\n",
    "                         'Date': 'January 1, 2023',\n",
    "                         \"Abstract\": '''In an expensive public ceremony, the mayor granted John Smith the key to the city. The mayor then spoke for 20 minutes on how great of a person is John Smith and how luck we are to be his contemporaries.'''\n",
    "                         },\n",
    "                 },\n",
    "                 ## Should we add info on:\n",
    "                     # criminal background\n",
    "                     # if existing client, current relationship depth (e.g. CRB info)\n",
    "                }"
   ]
  },
  {
   "cell_type": "code",
   "execution_count": 5,
   "id": "2893e4e3",
   "metadata": {},
   "outputs": [],
   "source": [
    "message_1_content = \"\"\"***Client description: {client_description}\n",
    "metadata: {client_metadata}*** \\\n",
    "<Your repsonse here> \"\"\""
   ]
  },
  {
   "cell_type": "code",
   "execution_count": 6,
   "id": "9573ad01",
   "metadata": {},
   "outputs": [],
   "source": [
    "messages =  [  \n",
    "{\"role\":\"system\",\n",
    " \"content\":f\"\"\"Given the following detailed meta data about an individual, \\\n",
    "generate a concise summary that captures the key details and any other significant \\\n",
    "aspects from the meta data and is consistent with the provided information:\n",
    "\n",
    " metadata: {metadata_schema}\n",
    " \"\"\"},    \n",
    "{\"role\":\"user\", \"content\": None},    \n",
    "]"
   ]
  },
  {
   "cell_type": "code",
   "execution_count": 7,
   "id": "85c946f0",
   "metadata": {},
   "outputs": [],
   "source": [
    "messages[1]['content'] = message_1_content.format(client_description=example['description'], client_metadata=example['docs'])"
   ]
  },
  {
   "cell_type": "code",
   "execution_count": 8,
   "id": "d0231bf4",
   "metadata": {},
   "outputs": [
    {
     "name": "stdout",
     "output_type": "stream",
     "text": [
      "***Client description: Robert King has worked at various hedge funds. He is currently CEO at one in San Francisco. He serves on multiple local boards and is very wealthy.\n",
      "metadata: {'_linkedin.html': {'Employment 1': 'Hedge Fund A, CEO', 'Employment 2': 'Hedge Fund B, Senior Portfolio Manager', 'Education': 'Stanford University, MBA', 'Board Member': 'San Francisco Symphony, Board Director', 'Bio': 'Robert King is an experienced finance professional with a strong background in hedge funds. He currently serves as the CEO of Hedge Fund A in San Francisco. Prior to this role, he worked as a Senior Portfolio Manager at Hedge Fund B. Robert is also actively involved in the community and serves as a Board Director for the San Francisco Symphony.'}, '_wealthx.html': {'Estimated Net Worth': 'At least $100 million', 'Estimated Liquid Assets': 'At least $50 million', 'Estimated Household Wealth': 'At least $150 million', 'Estimated Household Liquid Assets': 'At least $50 million', 'Estimated Family Net Worth': 'At least $500 million', 'Interests, Passions, Hobbies': 'Art collecting and philanthropy'}, '_relsci.html': {'Boards & Committees (Corporate)': 'Tech Company X, Board Director', 'Boards & Committees (Nonprofit)': 'San Francisco Museum of Modern Art, Trustee', 'Former/Prior Boards & Committees (Corporate)': 'Investment Firm Y, Board Director', 'Former/Prior Boards & Committees (Nonprofit)': 'Local Charity Z, Trustee', 'Top donations (Nonprofit)': 'American Red Cross - $1M, Boys & Girls Clubs of America - $500K, Habitat for Humanity - $250K', 'Top donations (Political parties)': 'Democratic National Committee - $100K, Joe Biden - $250K'}, '_equilar.html': {'Stock sold - Equity Transactions (Last 36 Months)': '$50 million', 'New Equity Grants - Equity Transactions (Last 36 Months)': '$20 million', 'Options Exercised - Equity Transactions (Last 36 Months)': '$10 million', 'Equity Holdings - Equity Transactions': '$80 million', 'Annual Compensation': '$5 million', 'Stock Sold': 'CEO, $1M at Hedge Fund A, June 1 2023 (SEC) | June 1 2023 (Effective)'}, '_zoominfo.html': {'Personal Email': 'robertking@email.com'}, '_pitchbook.html': {'Lead partner on deals': {'Company': 'Tech Startup XYZ', 'Deal Date': 'May 15 2023', 'Deal Type': 'Series B', 'Deal Size': '$30M', 'Deal Status': 'Completed', 'Location': 'San Francisco, CA', 'Representing': 'Hedge Fund A', 'Other Partners': 'John Doe, Jane Smith, Mark Johnson'}}, '_google.html': {'Article 1': {'Title': 'Robert King donates $1 million to local charity', 'Date': 'March 10, 2023', 'Abstract': 'In a generous act of philanthropy, Robert King has donated $1 million to a local charity. The donation will support various programs and initiatives aimed at improving the lives of underprivileged individuals in the community.'}}}*** <Your repsonse here> \n"
     ]
    }
   ],
   "source": [
    "print(messages[1]['content'])"
   ]
  },
  {
   "cell_type": "code",
   "execution_count": 9,
   "id": "5d25d12e",
   "metadata": {},
   "outputs": [],
   "source": [
    "kwargs = {\n",
    "    'verbose':False,\n",
    "    'temperature':0,\n",
    "    'top_p':1,\n",
    "    'frequency_penalty':0,\n",
    "    'presence_penalty':0\n",
    "}\n",
    "\n",
    "response = get_completion_from_messages(messages, model=\"gpt-3.5-turbo\", **kwargs)"
   ]
  },
  {
   "cell_type": "code",
   "execution_count": 19,
   "id": "d5eb4ee1",
   "metadata": {},
   "outputs": [
    {
     "data": {
      "text/plain": [
       "'Robert King is a highly accomplished finance professional with a strong background in hedge funds. He currently serves as the CEO of Hedge Fund A in San Francisco and previously worked as a Senior Portfolio Manager at Hedge Fund B. Robert is actively involved in the community and serves as a Board Director for the San Francisco Symphony. He is estimated to have a net worth of at least $100 million, with significant liquid assets. Robert is also engaged in philanthropy and has made substantial donations to organizations such as the American Red Cross and Boys & Girls Clubs of America. He holds board positions in both corporate and nonprofit entities, including Tech Company X and the San Francisco Museum of Modern Art. In addition, Robert has been involved in successful deals as a lead partner, representing Hedge Fund A in a recent Series B investment in Tech Startup XYZ.'"
      ]
     },
     "execution_count": 19,
     "metadata": {},
     "output_type": "execute_result"
    }
   ],
   "source": [
    "response"
   ]
  },
  {
   "cell_type": "code",
   "execution_count": 15,
   "id": "fa2a2767",
   "metadata": {},
   "outputs": [],
   "source": [
    "kwargs = {\n",
    "    'max_tokens':200,\n",
    "    'verbose':False,\n",
    "    'temperature':0,\n",
    "    'top_p':1,\n",
    "    'frequency_penalty':0,\n",
    "    'presence_penalty':0\n",
    "}\n",
    "\n",
    "response_limited_tokens = get_completion_from_messages(messages, model=\"gpt-3.5-turbo\", **kwargs)"
   ]
  },
  {
   "cell_type": "code",
   "execution_count": 16,
   "id": "4bdf7dce",
   "metadata": {},
   "outputs": [
    {
     "data": {
      "text/plain": [
       "'Robert King is a highly accomplished finance professional with a strong background in hedge funds. He currently serves as the CEO of Hedge Fund A in San Francisco and previously worked as a Senior Portfolio Manager at Hedge Fund B. Robert is actively involved in the community and serves as a Board Director for the San Francisco Symphony. He is estimated to have a net worth of at least $100 million, with significant liquid assets. Robert is also engaged in philanthropy and has made substantial donations to organizations such as the American Red Cross and Boys & Girls Clubs of America. He holds board positions in both corporate and nonprofit entities, including Tech Company X and the San Francisco Museum of Modern Art. In addition, Robert has been involved in successful deals as a lead partner, representing Hedge Fund A in a recent Series B investment in Tech Startup XYZ.'"
      ]
     },
     "execution_count": 16,
     "metadata": {},
     "output_type": "execute_result"
    }
   ],
   "source": [
    "response_limited_tokens"
   ]
  },
  {
   "cell_type": "markdown",
   "id": "fa1a35cf",
   "metadata": {},
   "source": [
    "- prompt template for transaction sturcture"
   ]
  },
  {
   "cell_type": "code",
   "execution_count": 24,
   "id": "ed489f62",
   "metadata": {},
   "outputs": [],
   "source": [
    "categories = {\n",
    "    \"Earned Income\": [\n",
    "        \"Freelance\", \n",
    "        \"Paycheck\", \n",
    "        \"Rideshare and delivery\"\n",
    "    ], \n",
    "    \"Essential Expenses\": [\n",
    "        \"Auto lease payment\", \n",
    "        \"Auto loan repayment\", \n",
    "        \"Childcare\", \n",
    "        \"Contribution to reserve fund\", \n",
    "        \"Council tax\", \n",
    "        \"Credit card bill\", \n",
    "        \"Credit card fee\", \n",
    "        \"Credit report\", \n",
    "        \"Debt collection\", \n",
    "        \"Drugstores and pharmacies\", \n",
    "        \"Education\", \n",
    "        \"Fuel\", \n",
    "        \"Funerals and bequests\", \n",
    "        \"Government\", \n",
    "        \"Groceries\", \n",
    "        \"Insurance\", \n",
    "        \"Interest\", \n",
    "        \"Loan repayment\", \n",
    "        \"Medical bill\", \n",
    "        \"Mortgage\", \n",
    "        \"Other transport\", \n",
    "        \"Pets\", \n",
    "        \"Public transport\", \n",
    "        \"Rent and property management fee\", \n",
    "        \"Retirement contributions\", \n",
    "        \"Ridesharing and taxis\", \n",
    "        \"Student loan repayment\", \n",
    "        \"Taxes\", \n",
    "        \"Utilities\", \n",
    "        \"Vehicle maintenance\"\n",
    "    ], \n",
    "    \"Non-Essential Expenses\": [\n",
    "        \"ATM/bank withdrawal\", \n",
    "        \"App stores\", \n",
    "        \"Bank fee\", \n",
    "        \"Books, newsletters, newspapers\", \n",
    "        \"Buy now, pay later\", \n",
    "        \"Cafes and coffee shops\", \n",
    "        \"Clothing\", \n",
    "        \"Convenience stores\", \n",
    "        \"Department and discount stores\", \n",
    "        \"Donation\", \n",
    "        \"Electronics\", \n",
    "        \"Entertainment and recreation\", \n",
    "        \"Firearms\", \n",
    "        \"Food and Drink\", \n",
    "        \"Gambling\", \n",
    "        \"Gifts\", \n",
    "        \"Home improvements and maintenance services\", \n",
    "        \"Hotels and lodging\", \n",
    "        \"Inter account transfer\", \n",
    "        \"Intra account transfer\", \n",
    "        \"Investment\", \n",
    "        \"Laundry\", \n",
    "        \"Legal services\", \n",
    "        \"Liquor\", \n",
    "        \"Media\", \n",
    "        \"Other consumer services\", \n",
    "        \"Other non-essential\", \n",
    "        \"Pawn shops\", \n",
    "        \"Peer to peer transfer\", \n",
    "        \"Recreational goods\", \n",
    "        \"Rent to own\", \n",
    "        \"SaaS tools\", \n",
    "        \"Self care\", \n",
    "        \"Sport and fitness\", \n",
    "        \"Toll charge\", \n",
    "        \"Towing companies\", \n",
    "        \"Trading (crypto)\", \n",
    "        \"Trading (non-crypto)\", \n",
    "        \"eCommerce purchase\"\n",
    "    ], \n",
    "    \"Other Incoming Transactions\": [\n",
    "        \"ATM/bank deposit\", \n",
    "        \"Cashback\", \n",
    "        \"Chargeback\", \n",
    "        \"Ecommerce\", \n",
    "        \"Grants and stipends\", \n",
    "        \"Insurance\", \n",
    "        \"Inter account transfer\", \n",
    "        \"Intra account transfer\", \n",
    "        \"Loans\", \n",
    "        \"Not enough information\", \n",
    "        \"Other\", \n",
    "        \"Pawn shops\", \n",
    "        \"Peer to peer transfer\", \n",
    "        \"Prenote\", \n",
    "        \"Refund\", \n",
    "        \"Reversal / adjustment\", \n",
    "        \"Tax refund\", \n",
    "        \"Trading (crypto)\", \n",
    "        \"Trading (non-crypto)\", \n",
    "        \"missing account holder information\"\n",
    "    ], \n",
    "    \"Other Outgoing Transactions\": [\n",
    "        \"Non-sufficient funds / Overdraft fee\", \n",
    "        \"Not enough information\", \n",
    "        \"Prenote\", \n",
    "        \"Reversal / adjustment\", \n",
    "        \"missing account holder information\"\n",
    "    ], \n",
    "    \"Passive Income\": [\n",
    "        \"Benefits\", \n",
    "        \"Interest / dividend\", \n",
    "        \"Property rental\"\n",
    "    ]\n",
    "}"
   ]
  },
  {
   "cell_type": "code",
   "execution_count": 47,
   "id": "8d205734",
   "metadata": {},
   "outputs": [],
   "source": [
    "transaction_types = ', '.join(\n",
    "    ['Branch TLR',\n",
    "     'Cashiers Check',\n",
    "     'ACH', \n",
    "     'Wire', \n",
    "     'Check', \n",
    "     'Credit Card', \n",
    "     'Transfer', \n",
    "     'Debit Card', \n",
    "     'Zelle', \n",
    "     'Bill Pay', \n",
    "     'Venmo', \n",
    "     'Apple Pay', \n",
    "     'Google Wallet', \n",
    "     'PayPal']\n",
    ")\n",
    "\n",
    "transaction_purposes = ''\n",
    "for k, v in categories.items():\n",
    "    transaction_purposes += ', '.join(v) + ', '\n",
    "    \n",
    "transaction_statement_examples = \"\"\"\n",
    "POS PURCHASE #2034 STARBUCKS SF CASTRO ST CA\n",
    "POS PURCHASE #0765 COSTCO WHOLESALE SF\n",
    "POS PURCHASE #6567 VENMO *UBER EATS 855-981-2 NY\n",
    "POS CREDIT POS REFUND TERMIL 4435353 WEGMANS ITHACA NY\n",
    "ACH CREDIT VANGUARD INVEST FUND DIVIDEND {name of the client}\n",
    "ACH DEBIT VENMO PAYMENT SENT TO SARAH CONNOR\n",
    "INCOMING WIRE REFUND - EMERSON RESORT & SPA\n",
    "INCOMING WIRE ALPHABET INC CLASS A SOLIUM MORGA\n",
    "DOMESTIC ONLINE WIRE FLYWIRE PAYMENTS CORPORATION \n",
    "ATM WITHDRAWAL #1734 BAY ATM LOCATOR SAN FRANCISCO CA\n",
    "ATM DEPOSIT #6763 POST OFFICE SQ BOSTON MA TERMIL 3324Q\n",
    "PAYROLL CREDIT ACH PACIFIC GATEWAY PAYROLL {name of the client}\n",
    "ONLINE BANKING TRANSFER TO CHECKING ACCOUNT {client's account number}\n",
    "ACH DEBIT CHASE AUTO LOAN BILL PAY {client's name}\n",
    "ACH DEBIT PAYCHEX-HRS 401(K) {client's company name}\n",
    "ACH DEBIT PERSHING BROKERAGE {client's name}\n",
    "ACH DEBIT CITIZENS BANK LOAN PAYMENT {client's name}\n",
    "ACH DEBIT USBANK HOME MTG PYMT {client's name}\n",
    "AUTO TRANSFER TO LN TRANSFER TO SCHEDUELED LOAN PAYMENT {masked client's account numebr: XXX23443}\n",
    "ACH DEBIT IRS USATAXPYMT QUARTERLY TAX 2023 {client's name}\n",
    "RETURN ITEM PAYPAL INST XFFER {client's name} LINKEDIN\n",
    "INTERNET TRANSFER FROM DDA {client's account number} ON 11/03 AT 08.10\n",
    "MOBILE DEPOSIT\n",
    "DEPOSIT TRANSFER TLR 18 BR 76 XFER FROM {client's name}\n",
    "ZELLE CREDIT PAYMENT FROM: MARGARET'S BOUTIQUE L TD ID:2324424A01\n",
    "ZELLE CREDIT PAYMENT FROM: TAX ARMOUT INC.\n",
    "INTEREST CREDIT\n",
    "DIRECT S/C WIRE TRANSFER FEE\n",
    "CHECK WITHDRAWAL CK # {last four digits of checking account number}\n",
    "WITHDRAWAL TLR 23 BR 90 REAL ESTATE INVESTMENT\n",
    "\"\"\""
   ]
  },
  {
   "cell_type": "markdown",
   "id": "3cd4f6d9",
   "metadata": {},
   "source": [
    "- Modular prompting"
   ]
  },
  {
   "cell_type": "code",
   "execution_count": 68,
   "id": "d339817a",
   "metadata": {},
   "outputs": [],
   "source": [
    "# Modular Prompt 1: Overview of Robert's Profile\n",
    "# profile_prompt = (\n",
    "#     \"Robert King is a high-net-worth individual, CEO of a hedge fund in San Francisco. \"\n",
    "#     \"He is an active philanthropist with diverse financial activities.\"\n",
    "# )\n",
    "\n",
    "# Modular Prompt 2: Key Banking Relationships\n",
    "banking_prompt = (\n",
    "    \"\"\"As the CEO of Hedge Fund A, Robert King holds significant financial responsibilities and privileges with the bank. His banking relationship is characterized by the following details:\n",
    "1. Authorized Signer: Robert is an authorized signer on two corporate accounts of Hedge Fund A, enabling him to conduct transactions on behalf of the company.\n",
    "2. Personal Checking Account: He maintains a personal checking account primarily used for paying off his mortgage, which is worth $3 million.\n",
    "3. Additional Checking Account with Debit Cards: Robert has another checking account that comes with two debit cards. \n",
    "- One card is for his personal use.\n",
    "- The other card is allocated to his college-going child for day-to-day expenses.\n",
    "4. Active Online Banking User: Robert frequently engages in online banking activities, utilizing platforms and services for efficient financial management.\n",
    "\"\"\"\n",
    ")\n"
   ]
  },
  {
   "cell_type": "code",
   "execution_count": 69,
   "id": "e1ee21b5",
   "metadata": {},
   "outputs": [],
   "source": [
    "messages =  [  \n",
    "{\"role\":\"system\", \"content\":None},    \n",
    "{\"role\":\"user\", \"content\": None},    \n",
    "]"
   ]
  },
  {
   "cell_type": "code",
   "execution_count": 78,
   "id": "0e6cd965",
   "metadata": {},
   "outputs": [],
   "source": [
    "message_1_content = \"\"\"- Profile Summary: [{profile_prompt}]\n",
    "- Banking Relationship:[{banking_prompt}]\n",
    "<Your repsonse here>\n",
    "\"\"\".format(profile_prompt=profile_prompt, banking_prompt=banking_prompt)\n",
    "\n",
    "messages[1][\"content\"] = message_1_content"
   ]
  },
  {
   "cell_type": "code",
   "execution_count": 79,
   "id": "0f8760c6",
   "metadata": {},
   "outputs": [
    {
     "name": "stdout",
     "output_type": "stream",
     "text": [
      "- Profile Summary: [Robert King is a highly accomplished finance professional with a strong background in hedge funds. He currently serves as the CEO of Hedge Fund A in San Francisco and previously worked as a Senior Portfolio Manager at Hedge Fund B. Robert is actively involved in the community and serves as a Board Director for the San Francisco Symphony. He is estimated to have a net worth of at least $100 million, with significant liquid assets. Robert is also engaged in philanthropy and has made substantial donations to organizations such as the American Red Cross and Boys & Girls Clubs of America. He holds board positions in both corporate and nonprofit entities, including Tech Company X and the San Francisco Museum of Modern Art. In addition, Robert has been involved in successful deals as a lead partner, representing Hedge Fund A in a recent Series B investment in Tech Startup XYZ.]\n",
      "- Banking Relationship:[As the CEO of Hedge Fund A, Robert King holds significant financial responsibilities and privileges with the bank. His banking relationship is characterized by the following details:\n",
      "1. Authorized Signer: Robert is an authorized signer on two corporate accounts of Hedge Fund A, enabling him to conduct transactions on behalf of the company.\n",
      "2. Personal Checking Account: He maintains a personal checking account primarily used for paying off his mortgage, which is worth $3 million.\n",
      "3. Additional Checking Account with Debit Cards: Robert has another checking account that comes with two debit cards. \n",
      "- One card is for his personal use.\n",
      "- The other card is allocated to his college-going child for day-to-day expenses.\n",
      "4. Active Online Banking User: Robert frequently engages in online banking activities, utilizing platforms and services for efficient financial management.\n",
      "]\n",
      "<Your repsonse here>\n",
      "\n"
     ]
    }
   ],
   "source": [
    "print(message_1_content)"
   ]
  },
  {
   "cell_type": "code",
   "execution_count": 83,
   "id": "6311f598",
   "metadata": {},
   "outputs": [],
   "source": [
    "# Modular Prompt 3: Transaction Generation\n",
    "messages[0][\"content\"] = \"\"\"Generate a list of transaction records for a given individual based on their profile, banking relationships, and specific criteria. \n",
    "Adhere to the following guidelines:\n",
    "\n",
    "- Output: The transactions should be in a list with each transaction as a python dictionary representing a transaction and contain the follwoing keys with appropriate values:\n",
    "'Transaction ID' (as an incrementing integer), 'Customer Key' (as an integer), 'Date', 'Account Number' (as an integer), 'Transaction Type', 'Transaction Purpose', 'Transaction Direction', 'Transaction Amount', and 'Transaction Statement'.\n",
    "- Timeline: Transactions are daily, covering two months starting from 10/01/2023. \n",
    "- Use actual companies, airlines, vendors, etc., in transactions, avoiding fictitious names.\n",
    "- You are allowed to generate multiple transactions on a day.\n",
    "- Use the predefined transaction types, purposes, and example formats, and ensure the transactions align with the individual's financial profile and banking habits.\n",
    "\n",
    "Predefined Transaction Types: {transaction_types}\n",
    "Predefined Transaction Purposes: {transaction_categories}\n",
    "Example Transaction Statements: {transaction_statement_examples}\n",
    "- Profile Summary: [Profile summary will be provided by the user]\n",
    "- Banking Relationship: [Banking relationship details will be provided by the user]\n",
    "\n",
    "Note: The mimimum total number of transactions should be 10 and should not exceed 120. Aim to generate a substantial number of transactions, close to 120 if possible.\"\"\".format(transaction_types=transaction_types, transaction_categories=transaction_purposes, transaction_statement_examples=transaction_statement_examples)"
   ]
  },
  {
   "cell_type": "code",
   "execution_count": 84,
   "id": "e6abd8f9",
   "metadata": {},
   "outputs": [
    {
     "name": "stdout",
     "output_type": "stream",
     "text": [
      "Generate a list of transaction records for a given individual based on their profile, banking relationships, and specific criteria. \n",
      "Adhere to the following guidelines:\n",
      "\n",
      "- Output: The transactions should be in a list with each transaction as a python dictionary representing a transaction and contain the follwoing keys with appropriate values:\n",
      "'Transaction ID' (as an incrementing integer), 'Customer Key' (as an integer), 'Date', 'Account Number' (as an integer), 'Transaction Type', 'Transaction Purpose', 'Transaction Direction', 'Transaction Amount', and 'Transaction Statement'.\n",
      "- Timeline: Transactions are daily, covering two months starting from 10/01/2023. \n",
      "- Use actual companies, airlines, vendors, etc., in transactions, avoiding fictitious names.\n",
      "- You are allowed to generate multiple transactions on a day.\n",
      "- Use the predefined transaction types, purposes, and example formats, and ensure the transactions align with the individual's financial profile and banking habits.\n",
      "\n",
      "Predefined Transaction Types: Branch TLR, Cashiers Check, ACH, Wire, Check, Credit Card, Transfer, Debit Card, Zelle, Bill Pay, Venmo, Apple Pay, Google Wallet, PayPal\n",
      "Predefined Transaction Purposes: Freelance, Paycheck, Rideshare and delivery, Auto lease payment, Auto loan repayment, Childcare, Contribution to reserve fund, Council tax, Credit card bill, Credit card fee, Credit report, Debt collection, Drugstores and pharmacies, Education, Fuel, Funerals and bequests, Government, Groceries, Insurance, Interest, Loan repayment, Medical bill, Mortgage, Other transport, Pets, Public transport, Rent and property management fee, Retirement contributions, Ridesharing and taxis, Student loan repayment, Taxes, Utilities, Vehicle maintenance, ATM/bank withdrawal, App stores, Bank fee, Books, newsletters, newspapers, Buy now, pay later, Cafes and coffee shops, Clothing, Convenience stores, Department and discount stores, Donation, Electronics, Entertainment and recreation, Firearms, Food and Drink, Gambling, Gifts, Home improvements and maintenance services, Hotels and lodging, Inter account transfer, Intra account transfer, Investment, Laundry, Legal services, Liquor, Media, Other consumer services, Other non-essential, Pawn shops, Peer to peer transfer, Recreational goods, Rent to own, SaaS tools, Self care, Sport and fitness, Toll charge, Towing companies, Trading (crypto), Trading (non-crypto), eCommerce purchase, ATM/bank deposit, Cashback, Chargeback, Ecommerce, Grants and stipends, Insurance, Inter account transfer, Intra account transfer, Loans, Not enough information, Other, Pawn shops, Peer to peer transfer, Prenote, Refund, Reversal / adjustment, Tax refund, Trading (crypto), Trading (non-crypto), missing account holder information, Non-sufficient funds / Overdraft fee, Not enough information, Prenote, Reversal / adjustment, missing account holder information, Benefits, Interest / dividend, Property rental, \n",
      "Example Transaction Statements: \n",
      "POS PURCHASE #2034 STARBUCKS SF CASTRO ST CA\n",
      "POS PURCHASE #0765 COSTCO WHOLESALE SF\n",
      "POS PURCHASE #6567 VENMO *UBER EATS 855-981-2 NY\n",
      "POS CREDIT POS REFUND TERMIL 4435353 WEGMANS ITHACA NY\n",
      "ACH CREDIT VANGUARD INVEST FUND DIVIDEND {name of the client}\n",
      "ACH DEBIT VENMO PAYMENT SENT TO SARAH CONNOR\n",
      "INCOMING WIRE REFUND - EMERSON RESORT & SPA\n",
      "INCOMING WIRE ALPHABET INC CLASS A SOLIUM MORGA\n",
      "DOMESTIC ONLINE WIRE FLYWIRE PAYMENTS CORPORATION \n",
      "ATM WITHDRAWAL #1734 BAY ATM LOCATOR SAN FRANCISCO CA\n",
      "ATM DEPOSIT #6763 POST OFFICE SQ BOSTON MA TERMIL 3324Q\n",
      "PAYROLL CREDIT ACH PACIFIC GATEWAY PAYROLL {name of the client}\n",
      "ONLINE BANKING TRANSFER TO CHECKING ACCOUNT {client's account number}\n",
      "ACH DEBIT CHASE AUTO LOAN BILL PAY {client's name}\n",
      "ACH DEBIT PAYCHEX-HRS 401(K) {client's company name}\n",
      "ACH DEBIT PERSHING BROKERAGE {client's name}\n",
      "ACH DEBIT CITIZENS BANK LOAN PAYMENT {client's name}\n",
      "ACH DEBIT USBANK HOME MTG PYMT {client's name}\n",
      "AUTO TRANSFER TO LN TRANSFER TO SCHEDUELED LOAN PAYMENT {masked client's account numebr: XXX23443}\n",
      "ACH DEBIT IRS USATAXPYMT QUARTERLY TAX 2023 {client's name}\n",
      "RETURN ITEM PAYPAL INST XFFER {client's name} LINKEDIN\n",
      "INTERNET TRANSFER FROM DDA {client's account number} ON 11/03 AT 08.10\n",
      "MOBILE DEPOSIT\n",
      "DEPOSIT TRANSFER TLR 18 BR 76 XFER FROM {client's name}\n",
      "ZELLE CREDIT PAYMENT FROM: MARGARET'S BOUTIQUE L TD ID:2324424A01\n",
      "ZELLE CREDIT PAYMENT FROM: TAX ARMOUT INC.\n",
      "INTEREST CREDIT\n",
      "DIRECT S/C WIRE TRANSFER FEE\n",
      "CHECK WITHDRAWAL CK # {last four digits of checking account number}\n",
      "WITHDRAWAL TLR 23 BR 90 REAL ESTATE INVESTMENT\n",
      "\n",
      "- Profile Summary: [Profile summary will be provided by the user]\n",
      "- Banking Relationship: [Banking relationship details will be provided by the user]\n",
      "\n",
      "Note: The mimimum total number of transactions should be 10 and should not exceed 120. Aim to generate a substantial number of transactions, close to 120 if possible.\n"
     ]
    }
   ],
   "source": [
    "print(messages[0][\"content\"])"
   ]
  },
  {
   "cell_type": "code",
   "execution_count": 85,
   "id": "1e825271",
   "metadata": {},
   "outputs": [],
   "source": [
    "kwargs = {\n",
    "    'verbose':False,\n",
    "    'temperature':0,\n",
    "    'top_p':1,\n",
    "    'frequency_penalty':0,\n",
    "    'presence_penalty':0\n",
    "}\n",
    "\n",
    "response = get_completion_from_messages(messages, model=\"gpt-3.5-turbo\", **kwargs)"
   ]
  },
  {
   "cell_type": "code",
   "execution_count": 86,
   "id": "2f3b79ca",
   "metadata": {},
   "outputs": [
    {
     "name": "stdout",
     "output_type": "stream",
     "text": [
      "Based on the provided profile summary and banking relationship details, here is a list of transaction records for Robert King:\n",
      "\n",
      "1. {'Transaction ID': 1, 'Customer Key': 1, 'Date': '10/01/2023', 'Account Number': 12345678, 'Transaction Type': 'ACH', 'Transaction Purpose': 'ACH CREDIT', 'Transaction Direction': 'CREDIT', 'Transaction Amount': 50000, 'Transaction Statement': 'ACH CREDIT VANGUARD INVEST FUND DIVIDEND Robert King'}\n",
      "2. {'Transaction ID': 2, 'Customer Key': 1, 'Date': '10/01/2023', 'Account Number': 12345678, 'Transaction Type': 'ACH', 'Transaction Purpose': 'ACH DEBIT', 'Transaction Direction': 'DEBIT', 'Transaction Amount': 10000, 'Transaction Statement': 'ACH DEBIT VENMO PAYMENT SENT TO SARAH CONNOR'}\n",
      "3. {'Transaction ID': 3, 'Customer Key': 1, 'Date': '10/02/2023', 'Account Number': 12345678, 'Transaction Type': 'INCOMING WIRE', 'Transaction Purpose': 'INCOMING WIRE', 'Transaction Direction': 'CREDIT', 'Transaction Amount': 250000, 'Transaction Statement': 'INCOMING WIRE REFUND - EMERSON RESORT & SPA'}\n",
      "4. {'Transaction ID': 4, 'Customer Key': 1, 'Date': '10/02/2023', 'Account Number': 12345678, 'Transaction Type': 'INCOMING WIRE', 'Transaction Purpose': 'INCOMING WIRE', 'Transaction Direction': 'CREDIT', 'Transaction Amount': 500000, 'Transaction Statement': 'INCOMING WIRE ALPHABET INC CLASS A SOLIUM MORGA'}\n",
      "5. {'Transaction ID': 5, 'Customer Key': 1, 'Date': '10/03/2023', 'Account Number': 12345678, 'Transaction Type': 'DOMESTIC ONLINE WIRE', 'Transaction Purpose': 'DOMESTIC ONLINE WIRE', 'Transaction Direction': 'DEBIT', 'Transaction Amount': 1000000, 'Transaction Statement': 'DOMESTIC ONLINE WIRE FLYWIRE PAYMENTS CORPORATION'}\n",
      "6. {'Transaction ID': 6, 'Customer Key': 1, 'Date': '10/03/2023', 'Account Number': 87654321, 'Transaction Type': 'ATM WITHDRAWAL', 'Transaction Purpose': 'ATM WITHDRAWAL', 'Transaction Direction': 'DEBIT', 'Transaction Amount': 500, 'Transaction Statement': 'ATM WITHDRAWAL #1734 BAY ATM LOCATOR SAN FRANCISCO CA'}\n",
      "7. {'Transaction ID': 7, 'Customer Key': 1, 'Date': '10/04/2023', 'Account Number': 87654321, 'Transaction Type': 'ATM DEPOSIT', 'Transaction Purpose': 'ATM DEPOSIT', 'Transaction Direction': 'CREDIT', 'Transaction Amount': 1000, 'Transaction Statement': 'ATM DEPOSIT #6763 POST OFFICE SQ BOSTON MA TERMIL 3324Q'}\n",
      "8. {'Transaction ID': 8, 'Customer Key': 1, 'Date': '10/05/2023', 'Account Number': 12345678, 'Transaction Type': 'PAYROLL CREDIT', 'Transaction Purpose': 'PAYROLL CREDIT', 'Transaction Direction': 'CREDIT', 'Transaction Amount': 100000, 'Transaction Statement': 'PAYROLL CREDIT ACH PACIFIC GATEWAY PAYROLL Robert King'}\n",
      "9. {'Transaction ID': 9, 'Customer Key': 1, 'Date': '10/05/2023', 'Account Number': 12345678, 'Transaction Type': 'ONLINE BANKING TRANSFER', 'Transaction Purpose': 'ONLINE BANKING TRANSFER', 'Transaction Direction': 'DEBIT', 'Transaction Amount': 50000, 'Transaction Statement': 'ONLINE BANKING TRANSFER TO CHECKING ACCOUNT 87654321'}\n",
      "10. {'Transaction ID': 10, 'Customer Key': 1, 'Date': '10/06/2023', 'Account Number': 12345678, 'Transaction Type': 'ACH DEBIT', 'Transaction Purpose': 'ACH DEBIT', 'Transaction Direction': 'DEBIT', 'Transaction Amount': 20000, 'Transaction Statement': 'ACH DEBIT CHASE AUTO LOAN BILL PAY Robert King'}\n",
      "11. {'Transaction ID': 11, 'Customer Key': 1, 'Date': '10/06/2023', 'Account Number': 12345678, 'Transaction Type': 'ACH DEBIT', 'Transaction Purpose': 'ACH DEBIT', 'Transaction Direction': 'DEBIT', 'Transaction Amount': 5000, 'Transaction Statement': 'ACH DEBIT PAYCHEX-HRS 401(K) Robert King'}\n",
      "12. {'Transaction ID': 12, 'Customer Key': 1, 'Date': '10/07/2023', 'Account Number': 12345678, 'Transaction Type': 'ACH DEBIT', 'Transaction Purpose': 'ACH DEBIT', 'Transaction Direction': 'DEBIT', 'Transaction Amount': 10000, 'Transaction Statement': 'ACH DEBIT PERSHING BROKERAGE Robert King'}\n",
      "13. {'Transaction ID': 13, 'Customer Key': 1, 'Date': '10/07/2023', 'Account Number': 12345678, 'Transaction Type': 'ACH DEBIT', 'Transaction Purpose': 'ACH DEBIT', 'Transaction Direction': 'DEBIT', 'Transaction Amount': 15000, 'Transaction Statement': 'ACH DEBIT CITIZENS BANK LOAN PAYMENT Robert King'}\n",
      "14. {'Transaction ID': 14, 'Customer Key': 1, 'Date': '10/08/2023', 'Account Number': 12345678, 'Transaction Type': 'ACH DEBIT', 'Transaction Purpose': 'ACH DEBIT', 'Transaction Direction': 'DEBIT', 'Transaction Amount': 20000, 'Transaction Statement': 'ACH DEBIT USBANK HOME MTG PYMT Robert King'}\n",
      "15. {'Transaction ID': 15, 'Customer Key': 1, 'Date': '10/08/2023', 'Account Number': 87654321, 'Transaction Type': 'AUTO TRANSFER', 'Transaction Purpose': 'AUTO TRANSFER', 'Transaction Direction': 'DEBIT', 'Transaction Amount': 5000, 'Transaction Statement': 'AUTO TRANSFER TO LN TRANSFER TO SCHEDUELED LOAN PAYMENT XXX23443'}\n",
      "16. {'Transaction ID': 16, 'Customer Key': 1, 'Date': '10/09/2023', 'Account Number': 12345678, 'Transaction Type': 'ACH DEBIT', 'Transaction Purpose': 'ACH DEBIT', 'Transaction Direction': 'DEBIT', 'Transaction Amount': 30000, 'Transaction Statement': 'ACH DEBIT IRS USATAXPYMT QUARTERLY TAX 2023 Robert King'}\n",
      "17. {'Transaction ID': 17, 'Customer Key': 1, 'Date': '10/09/2023', 'Account Number': 12345678, 'Transaction Type': 'RETURN ITEM', 'Transaction Purpose': 'RETURN ITEM', 'Transaction Direction': 'CREDIT', 'Transaction Amount': 1000, 'Transaction Statement': 'RETURN ITEM PAYPAL INST XFFER Robert King LINKEDIN'}\n",
      "18. {'Transaction ID': 18, 'Customer Key': 1, 'Date': '10/10/2023', 'Account Number': 12345678, 'Transaction Type': 'INTERNET TRANSFER', 'Transaction Purpose': 'INTERNET TRANSFER', 'Transaction Direction': 'CREDIT', 'Transaction Amount': 5000, 'Transaction Statement': 'INTERNET TRANSFER FROM DDA 12345678 ON 11/03 AT 08.10'}\n",
      "19. {'Transaction ID': 19, 'Customer Key': 1, 'Date': '10/10/2023', 'Account Number': 87654321, 'Transaction Type': 'MOBILE DEPOSIT', 'Transaction Purpose': 'MOBILE DEPOSIT', 'Transaction Direction': 'CREDIT', 'Transaction Amount': 2000, 'Transaction Statement': 'MOBILE DEPOSIT'}\n",
      "20. {'Transaction ID': 20, 'Customer Key': 1, 'Date': '10/11/2023', 'Account Number': 87654321, 'Transaction Type': 'DEPOSIT TRANSFER', 'Transaction Purpose': 'DEPOSIT TRANSFER', 'Transaction Direction': 'CREDIT', 'Transaction Amount': 10000, 'Transaction Statement': 'DEPOSIT TRANSFER TLR 18 BR 76 XFER FROM Robert King'}\n",
      "21. {'Transaction ID': 21, 'Customer Key': 1, 'Date': '10/11/2023', 'Account Number': 12345678, 'Transaction Type': 'ZELLE CREDIT', 'Transaction Purpose': 'ZELLE CREDIT', 'Transaction Direction': 'CREDIT', 'Transaction Amount': 5000, 'Transaction Statement': 'ZELLE CREDIT PAYMENT FROM: MARGARET'S BOUTIQUE L TD ID:2324424A01'}\n",
      "22. {'Transaction ID': 22, 'Customer Key': 1, 'Date': '10/12/2023', 'Account Number': 12345678, 'Transaction Type': 'ZELLE CREDIT', 'Transaction Purpose': 'ZELLE CREDIT', 'Transaction Direction': 'CREDIT', 'Transaction Amount': 10000, 'Transaction Statement': 'ZELLE CREDIT PAYMENT FROM: TAX ARMOUT INC.'}\n",
      "23. {'Transaction ID': 23, 'Customer Key': 1, 'Date': '10/12/2023', 'Account Number': 12345678, 'Transaction Type': 'INTEREST CREDIT', 'Transaction Purpose': 'INTEREST CREDIT', 'Transaction Direction': 'CREDIT', 'Transaction Amount': 500, 'Transaction Statement': 'INTEREST CREDIT'}\n",
      "24. {'Transaction ID': 24, 'Customer Key': 1, 'Date': '10/13/2023', 'Account Number': 12345678, 'Transaction Type': 'DIRECT S/C WIRE', 'Transaction Purpose': 'DIRECT S/C WIRE', 'Transaction Direction': 'DEBIT', 'Transaction Amount': 50, 'Transaction Statement': 'DIRECT S/C WIRE TRANSFER FEE'}\n",
      "25. {'Transaction ID': 25, 'Customer Key': 1, 'Date': '10/13/2023', 'Account Number': 87654321, 'Transaction Type': 'CHECK WITHDRAWAL', 'Transaction Purpose': 'CHECK WITHDRAWAL', 'Transaction Direction': 'DEBIT', 'Transaction Amount': 100, 'Transaction Statement': 'CHECK WITHDRAWAL CK # 4321'}\n",
      "26. {'Transaction ID': 26, 'Customer Key': 1, 'Date': '10/14/2023', 'Account Number': 87654321, 'Transaction Type': 'WITHDRAWAL', 'Transaction Purpose': 'WITHDRAWAL', 'Transaction Direction': 'DEBIT', 'Transaction Amount': 200, 'Transaction Statement': 'WITHDRAWAL TLR 23 BR 90 REAL ESTATE INVESTMENT'}\n",
      "\n",
      "Please note that this is a sample list of transactions and the actual number and details of transactions may vary based on the specific criteria and preferences.\n"
     ]
    }
   ],
   "source": [
    "print(response)"
   ]
  },
  {
   "cell_type": "code",
   "execution_count": 89,
   "id": "3d89080e",
   "metadata": {},
   "outputs": [],
   "source": [
    "import tiktoken"
   ]
  },
  {
   "cell_type": "code",
   "execution_count": 90,
   "id": "c701e888",
   "metadata": {},
   "outputs": [],
   "source": [
    "def num_tokens(x, model='text-embedding-ada-002'):\n",
    "    encoding = tiktoken.encoding_for_model(model)\n",
    "    return len(encoding.encode(x))"
   ]
  },
  {
   "cell_type": "code",
   "execution_count": 93,
   "id": "0893ef3f",
   "metadata": {},
   "outputs": [
    {
     "data": {
      "text/plain": [
       "2442"
      ]
     },
     "execution_count": 93,
     "metadata": {},
     "output_type": "execute_result"
    }
   ],
   "source": [
    "num_tokens(response)"
   ]
  },
  {
   "cell_type": "code",
   "execution_count": 94,
   "id": "0c14604e",
   "metadata": {},
   "outputs": [
    {
     "data": {
      "text/plain": [
       "1205"
      ]
     },
     "execution_count": 94,
     "metadata": {},
     "output_type": "execute_result"
    }
   ],
   "source": [
    "num_tokens(messages[0][\"content\"])"
   ]
  },
  {
   "cell_type": "code",
   "execution_count": 95,
   "id": "aea66bfa",
   "metadata": {},
   "outputs": [
    {
     "data": {
      "text/plain": [
       "3647"
      ]
     },
     "execution_count": 95,
     "metadata": {},
     "output_type": "execute_result"
    }
   ],
   "source": [
    "2442 + 1205"
   ]
  },
  {
   "cell_type": "code",
   "execution_count": null,
   "id": "0d3662f9",
   "metadata": {},
   "outputs": [],
   "source": []
  }
 ],
 "metadata": {
  "kernelspec": {
   "display_name": "llm",
   "language": "python",
   "name": "llm"
  },
  "language_info": {
   "codemirror_mode": {
    "name": "ipython",
    "version": 3
   },
   "file_extension": ".py",
   "mimetype": "text/x-python",
   "name": "python",
   "nbconvert_exporter": "python",
   "pygments_lexer": "ipython3",
   "version": "3.11.5"
  }
 },
 "nbformat": 4,
 "nbformat_minor": 5
}
