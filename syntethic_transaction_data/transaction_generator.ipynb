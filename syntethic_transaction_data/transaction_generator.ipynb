{
 "cells": [
  {
   "cell_type": "code",
   "execution_count": 1,
   "id": "a5be6d10",
   "metadata": {},
   "outputs": [
    {
     "data": {
      "text/html": [
       "\n",
       "    <style>\n",
       "        div#notebook-container    {width: 95%; }\n",
       "        div#menubar-container     {width: 65%; }\n",
       "        div#maintoolbar-container {width: 99%; }\n",
       "    </style>\n",
       "    "
      ],
      "text/plain": [
       "<IPython.core.display.HTML object>"
      ]
     },
     "metadata": {},
     "output_type": "display_data"
    }
   ],
   "source": [
    "def set_jupyter_widescreen():\n",
    "    from IPython.display import display, HTML\n",
    "    \n",
    "    display(HTML(data=\"\"\"\n",
    "    <style>\n",
    "        div#notebook-container    {width: 95%; }\n",
    "        div#menubar-container     {width: 65%; }\n",
    "        div#maintoolbar-container {width: 99%; }\n",
    "    </style>\n",
    "    \"\"\"))\n",
    "set_jupyter_widescreen()"
   ]
  },
  {
   "cell_type": "code",
   "execution_count": 2,
   "id": "251ab352",
   "metadata": {},
   "outputs": [],
   "source": [
    "import os\n",
    "import re\n",
    "import time\n",
    "import json\n",
    "import openai\n",
    "from dotenv import load_dotenv, find_dotenv\n",
    "import pandas as pd\n",
    "pd.set_option('display.max_rows', None)\n",
    "pd.set_option('display.max_columns', None)\n",
    "pd.options.mode.chained_assignment = None\n",
    "\n",
    "_ = load_dotenv(find_dotenv())\n",
    "\n",
    "openai.api_key = os.environ[\"OPENAI_API_KEY\"]"
   ]
  },
  {
   "cell_type": "markdown",
   "id": "df43d1c6",
   "metadata": {},
   "source": [
    "- Summerize key points in the client meta data"
   ]
  },
  {
   "cell_type": "code",
   "execution_count": 3,
   "id": "5bb6127d",
   "metadata": {},
   "outputs": [
    {
     "data": {
      "text/plain": [
       "('Zeus Manly',\n",
       " {'description': 'is a professional athlete that won 3 Olympic gold medals for discus throwing. \\n                    He lives in Montana with his two pitbulls - Ares and Apollo.'})"
      ]
     },
     "execution_count": 3,
     "metadata": {},
     "output_type": "execute_result"
    }
   ],
   "source": [
    "import pickle\n",
    "with open(\"./clients_data.pkl\", 'rb') as f:\n",
    "    clients = pickle.load(f) \n",
    "\n",
    "clients.popitem()"
   ]
  },
  {
   "cell_type": "code",
   "execution_count": 4,
   "id": "a2257b87",
   "metadata": {},
   "outputs": [],
   "source": [
    "def get_completion_from_messages(messages, model=\"gpt-3.5-turbo\", verbose=False, **kwargs):\n",
    "    \"\"\"\n",
    "    Prime the model with one or more input prompts\n",
    "        messages - list of prompts (each prompt is a dictionary of \"role\" and \"content\")\n",
    "        model - ChatGPT model to use\n",
    "        temperature - Single values in the range [0, 2]. Higher values\n",
    "            produce more randomness.\n",
    "        verbose - if True, print the full response and then\n",
    "            return only the chat response\n",
    "    \"\"\"\n",
    "    response = openai.ChatCompletion.create(\n",
    "        model=model,\n",
    "        messages=messages,\n",
    "        **kwargs\n",
    "    )\n",
    "    if verbose:\n",
    "        print(f\"full response:\\n{response}\")\n",
    "    return response.choices[0].message[\"content\"]"
   ]
  },
  {
   "cell_type": "markdown",
   "id": "c4c4065b",
   "metadata": {},
   "source": [
    "- Create profile prompt"
   ]
  },
  {
   "cell_type": "code",
   "execution_count": 5,
   "id": "80e4bc24",
   "metadata": {},
   "outputs": [],
   "source": [
    "# Output schema:\n",
    "metadata_schema = {\"_linkedin.html\": {\n",
    "                  \"Employment 1\": \"Big Bank, Senior Data Scientist\",\n",
    "                  \"Employment 2\": \"Small Bank, Data Scientist\",\n",
    "                  \"Education\": \"UC Berkeley, PhD Astronomy\",\n",
    "                  \"Board Member\": \"Girls and Boys Club, Chairman\",\n",
    "                  \"Bio\": \"biography of up to 100 words that is consistent with the above information\",\n",
    "                 },\n",
    "\n",
    "                 \"_wealthx.html\": {\n",
    "                    \"Estimated Net Worth\": \"At least $19.5 million\",\n",
    "                    \"Estimated Liquid Assets\": \"At least $11.5 million\",\n",
    "                    \"Estimated Household Wealth\": \"At least $31.5 million\",\n",
    "                    \"Estimated Household Liquid Assets\": \"At least $11.5 million\",\n",
    "                    \"Estimated Family Net Worth\": \"At least $226.1 billion\",\n",
    "                    \"Interests, Passions, Hobbies\" : \"Tennis and golf\",\n",
    "                 },\n",
    "\n",
    "                 \"_relsci.html\": {\n",
    "                     \"Boards & Committees (Corporate)\": \"Paramount Global, Board Director\",\n",
    "                     \"Boards & Committees (Nonprofit)\": \"Brentwood School - California, Trustee\",\n",
    "                     \"Former/Prior Boards & Committees (Corporate)\": \"The Walt Disney Company, Board Director\",\n",
    "                     \"Former/Prior Boards & Committees (Nonprofit)\": \"The Paley Center for Media, Trustee\",\n",
    "                     \"Top donations (Nonprofit)\": \"Greenpeace - $2M, UCSF - $1M, Kiva - $500K\",\n",
    "                     \"Top donations (Political parties)\": \"Kamala Harris - $100K, CA Democratic Committee - $250K\",\n",
    "                 },\n",
    "\n",
    "                 \"_equilar.html\": {\n",
    "                    \"Stock sold - Equity Transactions (Last 36 Months)\": \"$215.3 million\",\n",
    "                    \"New Equity Grants - Equity Transactions (Last 36 Months)\": \"$93 million\",\n",
    "                    \"Options Exercised - Equity Transactions (Last 36 Months)\": \"$17.5 million\",\n",
    "                    \"Equity Holdings - Equity Transactions\": \"$167.5 million\",\n",
    "                    \"Annual Compensation\": \"$11.9 million\",\n",
    "                    \"Stock Sold\": \"CEO and Chairperson, $1.6M at Cerevel Therapeutics Holdings, Inc. (50,000 shares), June 5 2023 (SEC) | June 1 2023 (Effective)\",\n",
    "                 },\n",
    "\n",
    "                 \"_zoominfo.html\": {\n",
    "                     \"Personal Email\": \"email@domain.com\",\n",
    "                 },\n",
    "\n",
    "                 \"_pitchbook.html\": {\n",
    "                     \"Lead partner on deals\": {\n",
    "                          \"Company\": \"Harvey (Business/Productivity Software)\",\n",
    "                          \"Deal Date\": \"April 26 2023\",\n",
    "                          \"Deal Type\": \"Early Stage VC\",\n",
    "                          \"Deal Size\": \"$21M\",\n",
    "                          \"Deal Status\": \"Completed\",\n",
    "                          \"Location\": \"Los Angeles, CA\",\n",
    "                          \"Representing\": \"Sequoia Capital\",\n",
    "                          \"Other Partners\": \"Rich Dude I, Rich Guy II, Notso Rich III, Rich Wannabe\",\n",
    "                          #\"Other Partners emails\": \"richdude@aristocracy.com, richguy@aristocracy.com\",\n",
    "                     },\n",
    "#                     \"Investor bio\": \"A brief summary of the investor, his peers, and his investment deals\"\n",
    "                 },\n",
    "\n",
    "                 \"_google.html\": {\n",
    "                     \"Article 1\": {\n",
    "                         \"Title\": 'John Smith granted key to the city',\n",
    "                         'Date': 'January 1, 2023',\n",
    "                         \"Abstract\": '''In an expensive public ceremony, the mayor granted John Smith the key to the city. The mayor then spoke for 20 minutes on how great of a person is John Smith and how luck we are to be his contemporaries.'''\n",
    "                         },\n",
    "                 },\n",
    "                 ## Should we add info on:\n",
    "                     # criminal background\n",
    "                     # if existing client, current relationship depth (e.g. CRB info)\n",
    "                }"
   ]
  },
  {
   "cell_type": "code",
   "execution_count": 6,
   "id": "28a9643c",
   "metadata": {},
   "outputs": [],
   "source": [
    "message_1_content = \"\"\"***Client description: {client_description}\n",
    "metadata: {client_metadata}*** \\\n",
    "<Your repsonse here> \"\"\"\n",
    "\n",
    "messages =  [  \n",
    "{\"role\":\"system\",\n",
    " \"content\":f\"\"\"Given the following detailed meta data about an individual, \\\n",
    "generate a concise summary that captures the key details and any other significant \\\n",
    "aspects from the meta data and is consistent with the provided information:\n",
    "\n",
    " metadata: {metadata_schema}\n",
    " \"\"\"},    \n",
    "{\"role\":\"user\", \"content\": None},    \n",
    "]"
   ]
  },
  {
   "cell_type": "code",
   "execution_count": 8,
   "id": "48e43e42",
   "metadata": {},
   "outputs": [
    {
     "name": "stdout",
     "output_type": "stream",
     "text": [
      "Robert King\n",
      "profile prompt created\n",
      "Julia Harpman\n",
      "profile prompt created\n",
      "Hanna Smith\n",
      "profile prompt created\n",
      "Jerry Smith\n",
      "profile prompt created\n",
      "Mariann Avocado\n",
      "profile prompt created\n",
      "Velvet Throat\n",
      "profile prompt created\n",
      "Jared Livinglife\n",
      "profile prompt created\n",
      "Aphrodite Greek\n",
      "profile prompt created\n",
      "Helen Troy\n",
      "profile prompt created\n"
     ]
    }
   ],
   "source": [
    "kwargs = {\n",
    "    'verbose':False,\n",
    "    'temperature':0,\n",
    "    'top_p':1,\n",
    "    'frequency_penalty':0,\n",
    "    'presence_penalty':0\n",
    "}\n",
    "\n",
    "for name in clients.keys():\n",
    "    print(name)\n",
    "    client_description = name + ' ' + clients[name]['description']\n",
    "    client_metadata = clients[name]['docs']\n",
    "    messages[1]['content'] = message_1_content.format(client_description=client_description, client_metadata=client_metadata)\n",
    "    profile_prompt = get_completion_from_messages(messages, model=\"gpt-3.5-turbo\", **kwargs)\n",
    "    print('profile prompt created')\n",
    "    clients[name]['profile_prompt'] = profile_prompt"
   ]
  },
  {
   "cell_type": "markdown",
   "id": "5f1cbac5",
   "metadata": {},
   "source": [
    "- create banking prompt"
   ]
  },
  {
   "cell_type": "code",
   "execution_count": 29,
   "id": "552208fe",
   "metadata": {},
   "outputs": [
    {
     "name": "stdout",
     "output_type": "stream",
     "text": [
      "Robert King\n",
      "banking prompt created\n",
      "Julia Harpman\n",
      "banking prompt created\n",
      "Hanna Smith\n",
      "banking prompt created\n",
      "Jerry Smith\n",
      "banking prompt created\n",
      "Mariann Avocado\n",
      "banking prompt created\n",
      "Velvet Throat\n",
      "banking prompt created\n",
      "Jared Livinglife\n",
      "banking prompt created\n",
      "Aphrodite Greek\n",
      "banking prompt created\n",
      "Helen Troy\n",
      "banking prompt created\n"
     ]
    }
   ],
   "source": [
    "message_1_content = \"\"\"***Client description: {client_description}*** \\\n",
    "<Your repsonse here> \"\"\"\n",
    "\n",
    "messages =  [  \n",
    "{\n",
    "  \"role\": \"system\",\n",
    "  \"content\": \"\"\"You are an expert in banking. Given a brief description of an individual, generate a concise summary of their \\\n",
    "  banking relationship with up to three accounts, tailored to their lifestyle and interests. Focus solely on the account types \\\n",
    "  and their primary features, avoiding any introductory or concluding remarks. Be direct and succinct. Consider the client's \\\n",
    "  financial activity level (highly active, moderate, inactive) when detailing the account types and usage.\n",
    "\n",
    "  Example:\n",
    "  Client Description: Robert King is a highly successful finance professional... [additional details]\n",
    "  \n",
    "  Output: Robert King, as CEO of Hedge Fund A, oversees significant financial activities with the bank. His banking engagement includes:\n",
    "  - Authority on two corporate accounts of Hedge Fund A for company transactions.\n",
    "  - A personal checking account used mainly for his $3 million mortgage.\n",
    "  - Another checking account with dual debit cards: one for personal use and another for his child’s daily expenses.\n",
    "  - Financial activity: highly active with engagement in online banking.\"\"\"\n",
    "},\n",
    "{\"role\": \"user\", \"content\": None} \n",
    "]\n",
    "\n",
    "\n",
    "kwargs = {\n",
    "    'verbose':False,\n",
    "    'temperature':0,\n",
    "    'top_p':1,\n",
    "    'frequency_penalty':0,\n",
    "    'presence_penalty':0\n",
    "}\n",
    "\n",
    "for name in clients.keys():\n",
    "    print(name)\n",
    "    client_description = clients[name]['profile_prompt']\n",
    "    messages[1]['content'] = message_1_content.format(client_description=client_description)\n",
    "    banking_prompt = get_completion_from_messages(messages, model=\"gpt-3.5-turbo\", **kwargs)\n",
    "    print('banking prompt created')\n",
    "    clients[name]['banking_prompt'] = banking_prompt"
   ]
  },
  {
   "cell_type": "markdown",
   "id": "20ea011c",
   "metadata": {},
   "source": [
    "- prompt template for transaction sturcture"
   ]
  },
  {
   "cell_type": "code",
   "execution_count": 31,
   "id": "b1601dca",
   "metadata": {},
   "outputs": [],
   "source": [
    "categories = ['Automotive',\n",
    "              'Bills & utilities',\n",
    "              'Education',\n",
    "              'Entertainment',\n",
    "              'Fees & adjustments',\n",
    "              'Food & drink',\n",
    "              'Gas',\n",
    "              'Gift & Donations',\n",
    "              'Grocieries', \n",
    "              'Health & Wellness', \n",
    "              'Home', \n",
    "              'Misc', \n",
    "              'Personal', \n",
    "              'Professional Services', \n",
    "              'Shopping', \n",
    "              'Travel', \n",
    "              'Employment', \n",
    "              'Benefits', \n",
    "              'Investment',\n",
    "              'Loan', \n",
    "              'Tax']\n",
    "categories = sorted(categories)\n",
    "transaction_purposes= ', '.join(categories)"
   ]
  },
  {
   "cell_type": "code",
   "execution_count": 32,
   "id": "3f4486a6",
   "metadata": {},
   "outputs": [],
   "source": [
    "transaction_types = ', '.join(\n",
    "    ['Branch TLR',\n",
    "     'Cashiers Check',\n",
    "     'ACH', \n",
    "     'Wire', \n",
    "     'Check', \n",
    "     'Credit Card', \n",
    "     'Transfer', \n",
    "     'Debit Card', \n",
    "     'Zelle', \n",
    "     'Bill Pay', \n",
    "     'Venmo', \n",
    "     'Apple Pay', \n",
    "     'Google Wallet', \n",
    "     'PayPal']\n",
    ")\n",
    "\n",
    "transaction_statement_examples = \"\"\"\n",
    "POS PURCHASE #2034 STARBUCKS SF CASTRO ST CA\n",
    "POS PURCHASE #0765 COSTCO WHOLESALE SF\n",
    "POS PURCHASE #6567 VENMO *UBER EATS 855-981-2 NY\n",
    "POS CREDIT POS REFUND TERMIL 4435353 WEGMANS ITHACA NY\n",
    "ACH CREDIT VANGUARD INVEST FUND DIVIDEND {name of the client}\n",
    "ACH DEBIT VENMO PAYMENT SENT TO SARAH CONNOR\n",
    "INCOMING WIRE REFUND - EMERSON RESORT & SPA\n",
    "INCOMING WIRE ALPHABET INC CLASS A SOLIUM MORGA\n",
    "DOMESTIC ONLINE WIRE FLYWIRE PAYMENTS CORPORATION \n",
    "ATM WITHDRAWAL #1734 BAY ATM LOCATOR SAN FRANCISCO CA\n",
    "ATM DEPOSIT #6763 POST OFFICE SQ BOSTON MA TERMIL 3324Q\n",
    "PAYROLL CREDIT ACH PACIFIC GATEWAY PAYROLL {name of the client}\n",
    "ONLINE BANKING TRANSFER TO CHECKING ACCOUNT {client's account number}\n",
    "ACH DEBIT CHASE AUTO LOAN BILL PAY {client's name}\n",
    "ACH DEBIT PAYCHEX-HRS 401(K) {client's company name}\n",
    "ACH DEBIT PERSHING BROKERAGE {client's name}\n",
    "ACH DEBIT CITIZENS BANK LOAN PAYMENT {client's name}\n",
    "ACH DEBIT USBANK HOME MTG PYMT {client's name}\n",
    "AUTO TRANSFER TO LN TRANSFER TO SCHEDUELED LOAN PAYMENT {mask the first four client's account number digits with XXXX}\n",
    "ACH DEBIT IRS USATAXPYMT QUARTERLY TAX 2023 {client's name}\n",
    "RETURN ITEM PAYPAL INST XFFER {client's name} LINKEDIN\n",
    "INTERNET TRANSFER FROM DDA {client's account number} ON 11/03 AT 08.10\n",
    "MOBILE DEPOSIT\n",
    "DEPOSIT TRANSFER TLR 18 BR 76 XFER FROM {client's name}\n",
    "ZELLE CREDIT PAYMENT FROM: MARGARET'S BOUTIQUE L TD ID:2324424A01\n",
    "ZELLE CREDIT PAYMENT FROM: TAX ARMOUT INC.\n",
    "INTEREST CREDIT\n",
    "DIRECT S/C WIRE TRANSFER FEE\n",
    "CHECK WITHDRAWAL CK # {last four digits of checking account number}\n",
    "WITHDRAWAL TLR 23 BR 90 REAL ESTATE INVESTMENT\"\"\""
   ]
  },
  {
   "cell_type": "code",
   "execution_count": 36,
   "id": "fe1ccc6f",
   "metadata": {},
   "outputs": [],
   "source": [
    "transaction_statement_examples = ['POS PURCHASE #2034 STARBUCKS SF',\n",
    "                                  'ACH CREDIT VANGUARD INVEST FUND DIVIDEND',\n",
    "                                  'ACH DEBIT VENMO PAYMENT SENT TO SARAH CONNOR',\n",
    "                                  'ATM WITHDRAWAL #1734 BAY ATM LOCATOR SF',\n",
    "                                  'INCOMING WIRE ALPHABET INC CLASS A SOLIUM MORGA',\n",
    "                                  'BILL PAY AUTO DEBIT COMCAST SAN FRANCISCO UTILITY BILL'\n",
    "                                 ]\n",
    "\n",
    "transaction_statement_examples = ','.join(transaction_statement_examples)"
   ]
  },
  {
   "cell_type": "code",
   "execution_count": 41,
   "id": "3df42859",
   "metadata": {},
   "outputs": [],
   "source": [
    "messages =  [  \n",
    "{\"role\":\"system\", \"content\":None},    \n",
    "{\"role\":\"user\", \"content\": None},    \n",
    "]\n",
    "\n",
    "message_1_content = \"\"\"- Profile Summary: [{profile_prompt}]\n",
    "- Banking Relationship:[{banking_prompt}]\n",
    "<Your repsonse here>\n",
    "\"\"\""
   ]
  },
  {
   "cell_type": "code",
   "execution_count": 103,
   "id": "3bdbfc87",
   "metadata": {},
   "outputs": [],
   "source": [
    "messages[0][\"content\"] = \"\"\"Assume the role of an expert assistant in generating financial bank transactions. Create transaction records for an individual, reflecting their profile and banking relationships. Guidelines:\n",
    "- Format: CSV-like, single-line transactions with headers 'Date', 'Account_Number', 'Transaction_Type', 'Transaction_Purpose', 'Transaction_Amount', 'Transaction_Description'.\n",
    "- Data Types: 'Account_Number' as integer, 'Transaction_Amount' as float, with outgoing amounts as negative and incoming as positive.\n",
    "- Timeline: Over two months from 2023-08-01 to 2023-11-01.\n",
    "- Activity Levels: Generate 10-40 transactions for inactive, 30-100 for moderate, 100-270 for highly active profiles.\n",
    "- Recurring Transactions: Include monthly recurring (e.g., utilities, mortgage) and frequent (e.g., daily POS) transactions.\n",
    "- Multiple Daily Transactions: Include at least a few examples.\n",
    "- Use following transaction purposes: {transaction_categories}\n",
    "- Use following transaction purposes: {transaction_types}\n",
    "- Transaction Descriptions: Follow standard formats, avoid fictitious entities. Here are a few examples:{transaction_statement_examples}. Extrapolate similar formats for other transactions.\n",
    "- Profile and Banking Details: [Provided by the user].\n",
    "\n",
    "Note: make sure to avoid any introductory or concluding remarks\n",
    "\"\"\".format(transaction_types=transaction_types, transaction_categories=transaction_purposes, transaction_statement_examples=transaction_statement_examples)"
   ]
  },
  {
   "cell_type": "code",
   "execution_count": 104,
   "id": "f0179a4a",
   "metadata": {},
   "outputs": [
    {
     "name": "stdout",
     "output_type": "stream",
     "text": [
      "Assume the role of an expert assistant in generating financial bank transactions. Create transaction records for an individual, reflecting their profile and banking relationships. Guidelines:\n",
      "- Format: CSV-like, single-line transactions with headers 'Date', 'Account_Number', 'Transaction_Type', 'Transaction_Purpose', 'Transaction_Amount', 'Transaction_Description'.\n",
      "- Data Types: 'Account_Number' as integer, 'Transaction_Amount' as float, with outgoing amounts as negative and incoming as positive.\n",
      "- Timeline: Over two months from 2023-08-01 to 2023-11-01.\n",
      "- Activity Levels: Generate 10-40 transactions for inactive, 30-100 for moderate, 100-270 for highly active profiles.\n",
      "- Recurring Transactions: Include monthly recurring (e.g., utilities, mortgage) and frequent (e.g., daily POS) transactions.\n",
      "- Multiple Daily Transactions: Include at least a few examples.\n",
      "- Use following transaction purposes: Automotive, Benefits, Bills & utilities, Education, Employment, Entertainment, Fees & adjustments, Food & drink, Gas, Gift & Donations, Grocieries, Health & Wellness, Home, Investment, Loan, Misc, Personal, Professional Services, Shopping, Tax, Travel\n",
      "- Use following transaction purposes: Branch TLR, Cashiers Check, ACH, Wire, Check, Credit Card, Transfer, Debit Card, Zelle, Bill Pay, Venmo, Apple Pay, Google Wallet, PayPal\n",
      "- Transaction Descriptions: Follow standard formats, avoid fictitious entities. Here are a few examples:POS PURCHASE #2034 STARBUCKS SF,ACH CREDIT VANGUARD INVEST FUND DIVIDEND,ACH DEBIT VENMO PAYMENT SENT TO SARAH CONNOR,ATM WITHDRAWAL #1734 BAY ATM LOCATOR SF,INCOMING WIRE ALPHABET INC CLASS A SOLIUM MORGA,BILL PAY AUTO DEBIT COMCAST SAN FRANCISCO UTILITY BILL. Extrapolate similar formats for other transactions.\n",
      "- Profile and Banking Details: [Provided by the user].\n",
      "\n",
      "Note: make sure to avoid any introductory or concluding remarks\n",
      "\n"
     ]
    }
   ],
   "source": [
    "print(messages[0][\"content\"])"
   ]
  },
  {
   "cell_type": "code",
   "execution_count": 105,
   "id": "1628e126",
   "metadata": {},
   "outputs": [
    {
     "name": "stdout",
     "output_type": "stream",
     "text": [
      "Hanna Smith\n",
      "\n",
      " Hanna Smith, the owner and baker at Hanna's French Pastries, has a banking relationship that supports her entrepreneurial endeavors. Her banking engagement includes:\n",
      "- A business checking account for managing her bakery's finances and processing customer payments.\n",
      "- A savings account to set aside funds for future business expansion or unexpected expenses.\n",
      "- A personal checking account for her personal expenses and managing her household finances.\n",
      "- Financial activity: moderate, with regular deposits from her bakery sales and occasional withdrawals for personal expenses. \n",
      "\n",
      "transactions created\n",
      "Jerry Smith\n",
      "\n",
      " Jerry Smith, the race car driver and philanthropist, has a banking relationship that aligns with his active lifestyle and charitable endeavors. His banking engagement includes:\n",
      "- A high-yield savings account to maximize his wealth and savings.\n",
      "- A premium credit card with exclusive benefits for his frequent travel and racing expenses.\n",
      "- A business account for his motorsports company, allowing for efficient financial management.\n",
      "- Financial activity: highly active with regular transactions and donations, utilizing online banking for convenience. \n",
      "\n",
      "transactions created\n",
      "Mariann Avocado\n",
      "\n",
      " Mariann Avocado, as CEO of Enertech, has a banking relationship that supports her active financial management. Her banking engagement includes:\n",
      "- Authority on two corporate accounts for Enertech's financial transactions.\n",
      "- A business savings account to accumulate funds for future investments.\n",
      "- A personal checking account for day-to-day expenses.\n",
      "- Financial activity: highly active with a focus on online banking and international transactions. \n",
      "\n",
      "transactions created\n",
      "Velvet Throat\n",
      "\n",
      " Velvet Throat, with her impressive success in music and entrepreneurship, has a banking relationship that caters to her lifestyle and interests. Her banking engagement includes:\n",
      "\n",
      "- A high-yield savings account to maximize her substantial net worth and provide a secure place for her funds to grow.\n",
      "- A business checking account for her cosmetics company, VIPglow, to manage online transactions and track business expenses.\n",
      "- A personal checking account for her day-to-day financial needs, such as managing her personal expenses and receiving royalty payments.\n",
      "- Financial activity: highly active with frequent online banking usage to monitor her accounts and track her financial growth. \n",
      "\n",
      "transactions created\n",
      "Jared Livinglife\n",
      "\n",
      " Jared Livinglife, a retired individual with a passion for charity and volunteering, maintains a banking relationship with us that aligns with his lifestyle and interests. His banking engagement includes:\n",
      "- A personal checking account for day-to-day expenses and occasional dog-sitting income.\n",
      "- A savings account to grow his funds for future endeavors.\n",
      "- A debit card for convenient access to his funds.\n",
      "- Financial activity: moderate, with occasional transactions and online banking usage. \n",
      "\n",
      "transactions created\n",
      "Aphrodite Greek\n",
      "\n",
      " Aphrodite Greek, the talented jewelry designer and owner of Aphrodite Greek Jewelry, has a banking relationship that caters to her entrepreneurial lifestyle and interests. Her banking engagement includes:\n",
      "\n",
      "- A business checking account for Aphrodite Greek Jewelry, allowing her to manage her small craft store on Etsy and handle business transactions.\n",
      "- A personal savings account to help her grow her net worth and save for future business endeavors.\n",
      "- Online banking services to conveniently manage her finances and track her business and personal expenses.\n",
      "\n",
      "Financial activity: moderate, with a focus on business transactions and savings. \n",
      "\n",
      "transactions created\n",
      "Helen Troy\n",
      "\n",
      " Helen Troy, a successful lead model and city council member, maintains a banking relationship that aligns with her lifestyle and interests. Her banking engagement includes:\n",
      "- A high-yield savings account to maximize her wealth accumulation.\n",
      "- A premium credit card with exclusive fashion-related perks and rewards.\n",
      "- A philanthropic account for managing donations to various nonprofits supporting domestic abuse victims.\n",
      "- Financial activity: highly active with frequent transactions and online banking. \n",
      "\n",
      "transactions created\n"
     ]
    }
   ],
   "source": [
    "kwargs = {\n",
    "    'verbose':False,\n",
    "    'temperature':0,\n",
    "    'top_p':1,\n",
    "    'frequency_penalty':0,\n",
    "    'presence_penalty':0,\n",
    "}\n",
    "\n",
    "for name in ['Hanna Smith', 'Jerry Smith', 'Mariann Avocado', 'Velvet Throat', 'Jared Livinglife', 'Aphrodite Greek', 'Helen Troy']:\n",
    "    print(name)\n",
    "    pprompt = clients[name]['profile_prompt']\n",
    "    bprompt = clients[name]['banking_prompt']\n",
    "    print(f'\\n {bprompt} \\n')\n",
    "    messages[1]['content'] = message_1_content.format(profile_prompt=pprompt, banking_prompt=bprompt)\n",
    "    transactions = get_completion_from_messages(messages, model=\"gpt-4-1106-preview\", **kwargs)\n",
    "    print('transactions created')\n",
    "    clients[name]['transactions'] = transactions\n",
    "    \n",
    "    data = transactions.split('\\n')\n",
    "    df = pd.DataFrame([x.split(',') for x in data[1:]], columns=data[0].split(','))\n",
    "#     df['Transaction_Amount'] = df.apply(lambda x: x['Transaction_Amount']*-1 if x['Transaction_Direction'] in ('Debit', 'Out') else x['Transaction_Amount'], axis=1)\n",
    "#     df = df.drop(columns = ['Transaction_Direction'])\n",
    "    df.to_excel(f'{name.replace(\" \",\"_\").upper()}.xlsx')\n"
   ]
  },
  {
   "cell_type": "code",
   "execution_count": 9,
   "id": "6a6cd6dc",
   "metadata": {},
   "outputs": [],
   "source": [
    "helen = \"\"\"Helen Troy, a successful lead model and city council member, maintains a banking \\nrelationship that aligns with her lifestyle and interests.\\nHer banking engagement includes:\n",
    "- A high-yield savings account to maximize her wealth accumulation.\n",
    "- A premium credit card with exclusive fashion-related perks and rewards.\n",
    "- A philanthropic account for managing donations to various nonprofits \\nsupporting domestic abuse victims.\n",
    "- Financial activity: highly active with frequent transactions and online banking.\"\"\""
   ]
  },
  {
   "cell_type": "code",
   "execution_count": 10,
   "id": "9aae0a89",
   "metadata": {},
   "outputs": [
    {
     "name": "stdout",
     "output_type": "stream",
     "text": [
      "Helen Troy, a successful lead model and city council member, maintains a banking \n",
      "relationship that aligns with her lifestyle and interests.\n",
      "Her banking engagement includes:\n",
      "- A high-yield savings account to maximize her wealth accumulation.\n",
      "- A premium credit card with exclusive fashion-related perks and rewards.\n",
      "- A philanthropic account for managing donations to various nonprofits \n",
      "supporting domestic abuse victims.\n",
      "- Financial activity: highly active with frequent transactions and online banking.\n"
     ]
    }
   ],
   "source": [
    "print(helen)"
   ]
  },
  {
   "cell_type": "code",
   "execution_count": 11,
   "id": "2c320c04",
   "metadata": {},
   "outputs": [],
   "source": [
    "trans_examples = \"\"\"\n",
    "TRANSFER TO TD AMERITRADE INVESTMENT ACCOUNT\n",
    "POS PURCHASE #1903 BLOOMINGDALE'S GLENDALE\n",
    "ACH CREDIT MODELLING AGENCY PAYMENT RECEIVED\n",
    "OUTGOING WIRE TO DOMESTIC ABUSE FOUNDATION DONATION\n",
    "\n",
    "\"\"\""
   ]
  },
  {
   "cell_type": "code",
   "execution_count": 12,
   "id": "50f43a5d",
   "metadata": {},
   "outputs": [
    {
     "data": {
      "text/plain": [
       "\"\\nPOS PURCHASE #2034 STARBUCKS SF CASTRO ST CA\\nPOS PURCHASE #0765 COSTCO WHOLESALE SF\\nPOS PURCHASE #6567 VENMO *UBER EATS 855-981-2 NY\\nPOS CREDIT POS REFUND TERMIL 4435353 WEGMANS ITHACA NY\\nACH CREDIT VANGUARD INVEST FUND DIVIDEND {name of the client}\\nACH DEBIT VENMO PAYMENT SENT TO SARAH CONNOR\\nINCOMING WIRE REFUND - EMERSON RESORT & SPA\\nINCOMING WIRE ALPHABET INC CLASS A SOLIUM MORGA\\nDOMESTIC ONLINE WIRE FLYWIRE PAYMENTS CORPORATION \\nATM WITHDRAWAL #1734 BAY ATM LOCATOR SAN FRANCISCO CA\\nATM DEPOSIT #6763 POST OFFICE SQ BOSTON MA TERMIL 3324Q\\nPAYROLL CREDIT ACH PACIFIC GATEWAY PAYROLL {name of the client}\\nONLINE BANKING TRANSFER TO CHECKING ACCOUNT {client's account number}\\nACH DEBIT CHASE AUTO LOAN BILL PAY {client's name}\\nACH DEBIT PAYCHEX-HRS 401(K) {client's company name}\\nACH DEBIT PERSHING BROKERAGE {client's name}\\nACH DEBIT CITIZENS BANK LOAN PAYMENT {client's name}\\nACH DEBIT USBANK HOME MTG PYMT {client's name}\\nAUTO TRANSFER TO LN TRANSFER TO SCHEDUELED LOAN PAYMENT {mask the first four client's account number digits with XXXX}\\nACH DEBIT IRS USATAXPYMT QUARTERLY TAX 2023 {client's name}\\nRETURN ITEM PAYPAL INST XFFER {client's name} LINKEDIN\\nINTERNET TRANSFER FROM DDA {client's account number} ON 11/03 AT 08.10\\nMOBILE DEPOSIT\\nDEPOSIT TRANSFER TLR 18 BR 76 XFER FROM {client's name}\\nZELLE CREDIT PAYMENT FROM: MARGARET'S BOUTIQUE L TD ID:2324424A01\\nZELLE CREDIT PAYMENT FROM: TAX ARMOUT INC.\\nINTEREST CREDIT\\nDIRECT S/C WIRE TRANSFER FEE\\nCHECK WITHDRAWAL CK # {last four digits of checking account number}\\nWITHDRAWAL TLR 23 BR 90 REAL ESTATE INVESTMENT\""
      ]
     },
     "execution_count": 12,
     "metadata": {},
     "output_type": "execute_result"
    }
   ],
   "source": []
  },
  {
   "cell_type": "code",
   "execution_count": null,
   "id": "0fdeb184",
   "metadata": {},
   "outputs": [],
   "source": []
  }
 ],
 "metadata": {
  "kernelspec": {
   "display_name": "llm",
   "language": "python",
   "name": "llm"
  },
  "language_info": {
   "codemirror_mode": {
    "name": "ipython",
    "version": 3
   },
   "file_extension": ".py",
   "mimetype": "text/x-python",
   "name": "python",
   "nbconvert_exporter": "python",
   "pygments_lexer": "ipython3",
   "version": "3.11.5"
  }
 },
 "nbformat": 4,
 "nbformat_minor": 5
}
