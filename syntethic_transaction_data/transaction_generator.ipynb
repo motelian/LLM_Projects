{
 "cells": [
  {
   "cell_type": "code",
   "execution_count": 1,
   "id": "a5be6d10",
   "metadata": {},
   "outputs": [
    {
     "data": {
      "text/html": [
       "\n",
       "    <style>\n",
       "        div#notebook-container    {width: 95%; }\n",
       "        div#menubar-container     {width: 65%; }\n",
       "        div#maintoolbar-container {width: 99%; }\n",
       "    </style>\n",
       "    "
      ],
      "text/plain": [
       "<IPython.core.display.HTML object>"
      ]
     },
     "metadata": {},
     "output_type": "display_data"
    }
   ],
   "source": [
    "def set_jupyter_widescreen():\n",
    "    from IPython.display import display, HTML\n",
    "    \n",
    "    display(HTML(data=\"\"\"\n",
    "    <style>\n",
    "        div#notebook-container    {width: 95%; }\n",
    "        div#menubar-container     {width: 65%; }\n",
    "        div#maintoolbar-container {width: 99%; }\n",
    "    </style>\n",
    "    \"\"\"))\n",
    "set_jupyter_widescreen()"
   ]
  },
  {
   "cell_type": "code",
   "execution_count": 2,
   "id": "251ab352",
   "metadata": {},
   "outputs": [],
   "source": [
    "import os\n",
    "import re\n",
    "import time\n",
    "import json\n",
    "import openai\n",
    "from dotenv import load_dotenv, find_dotenv\n",
    "import pandas as pd\n",
    "pd.set_option('display.max_rows', None)\n",
    "pd.set_option('display.max_columns', None)\n",
    "pd.options.mode.chained_assignment = None\n",
    "\n",
    "_ = load_dotenv(find_dotenv())\n",
    "\n",
    "openai.api_key = os.environ[\"OPENAI_API_KEY\"]"
   ]
  },
  {
   "cell_type": "markdown",
   "id": "df43d1c6",
   "metadata": {},
   "source": [
    "- Summerize key points in the client meta data"
   ]
  },
  {
   "cell_type": "code",
   "execution_count": 3,
   "id": "9de79765",
   "metadata": {},
   "outputs": [],
   "source": [
    "example = {'description': 'Robert King has worked at various hedge funds. He is currently CEO at one in San Francisco. He serves on multiple local boards and is very wealthy.',\n",
    " 'docs': {'_linkedin.html': {'Employment 1': 'Hedge Fund A, CEO',\n",
    "   'Employment 2': 'Hedge Fund B, Senior Portfolio Manager',\n",
    "   'Education': 'Stanford University, MBA',\n",
    "   'Board Member': 'San Francisco Symphony, Board Director',\n",
    "   'Bio': 'Robert King is an experienced finance professional with a strong background in hedge funds. He currently serves as the CEO of Hedge Fund A in San Francisco. Prior to this role, he worked as a Senior Portfolio Manager at Hedge Fund B. Robert is also actively involved in the community and serves as a Board Director for the San Francisco Symphony.'},\n",
    "  '_wealthx.html': {'Estimated Net Worth': 'At least $100 million',\n",
    "   'Estimated Liquid Assets': 'At least $50 million',\n",
    "   'Estimated Household Wealth': 'At least $150 million',\n",
    "   'Estimated Household Liquid Assets': 'At least $50 million',\n",
    "   'Estimated Family Net Worth': 'At least $500 million',\n",
    "   'Interests, Passions, Hobbies': 'Art collecting and philanthropy'},\n",
    "  '_relsci.html': {'Boards & Committees (Corporate)': 'Tech Company X, Board Director',\n",
    "   'Boards & Committees (Nonprofit)': 'San Francisco Museum of Modern Art, Trustee',\n",
    "   'Former/Prior Boards & Committees (Corporate)': 'Investment Firm Y, Board Director',\n",
    "   'Former/Prior Boards & Committees (Nonprofit)': 'Local Charity Z, Trustee',\n",
    "   'Top donations (Nonprofit)': 'American Red Cross - $1M, Boys & Girls Clubs of America - $500K, Habitat for Humanity - $250K',\n",
    "   'Top donations (Political parties)': 'Democratic National Committee - $100K, Joe Biden - $250K'},\n",
    "  '_equilar.html': {'Stock sold - Equity Transactions (Last 36 Months)': '$50 million',\n",
    "   'New Equity Grants - Equity Transactions (Last 36 Months)': '$20 million',\n",
    "   'Options Exercised - Equity Transactions (Last 36 Months)': '$10 million',\n",
    "   'Equity Holdings - Equity Transactions': '$80 million',\n",
    "   'Annual Compensation': '$5 million',\n",
    "   'Stock Sold': 'CEO, $1M at Hedge Fund A, June 1 2023 (SEC) | June 1 2023 (Effective)'},\n",
    "  '_zoominfo.html': {'Personal Email': 'robertking@email.com'},\n",
    "  '_pitchbook.html': {'Lead partner on deals': {'Company': 'Tech Startup XYZ',\n",
    "    'Deal Date': 'May 15 2023',\n",
    "    'Deal Type': 'Series B',\n",
    "    'Deal Size': '$30M',\n",
    "    'Deal Status': 'Completed',\n",
    "    'Location': 'San Francisco, CA',\n",
    "    'Representing': 'Hedge Fund A',\n",
    "    'Other Partners': 'John Doe, Jane Smith, Mark Johnson'}},\n",
    "  '_google.html': {'Article 1': {'Title': 'Robert King donates $1 million to local charity',\n",
    "    'Date': 'March 10, 2023',\n",
    "    'Abstract': 'In a generous act of philanthropy, Robert King has donated $1 million to a local charity. The donation will support various programs and initiatives aimed at improving the lives of underprivileged individuals in the community.'}},\n",
    "}}"
   ]
  },
  {
   "cell_type": "code",
   "execution_count": 4,
   "id": "a2257b87",
   "metadata": {},
   "outputs": [],
   "source": [
    "kwargs = {\n",
    "    'max_tokens':1000,\n",
    "    'verbose':False,\n",
    "    'temperature':0,\n",
    "    'top_p':1,\n",
    "    'frequency_penalty':0,\n",
    "    'presence_penalty':0\n",
    "}\n",
    "\n",
    "def get_completion_from_messages(messages, model=\"gpt-3.5-turbo\", verbose=False, **kwargs):\n",
    "    \"\"\"\n",
    "    Prime the model with one or more input prompts\n",
    "        messages - list of prompts (each prompt is a dictionary of \"role\" and \"content\")\n",
    "        model - ChatGPT model to use\n",
    "        temperature - Single values in the range [0, 2]. Higher values\n",
    "            produce more randomness.\n",
    "        verbose - if True, print the full response and then\n",
    "            return only the chat response\n",
    "    \"\"\"\n",
    "    response = openai.ChatCompletion.create(\n",
    "        model=model,\n",
    "        messages=messages,\n",
    "        **kwargs\n",
    "    )\n",
    "    if verbose:\n",
    "        print(f\"full response:\\n{response}\")\n",
    "    return response.choices[0].message[\"content\"]"
   ]
  },
  {
   "cell_type": "code",
   "execution_count": 5,
   "id": "80e4bc24",
   "metadata": {},
   "outputs": [],
   "source": [
    "# Output schema:\n",
    "metadata_schema = {\"_linkedin.html\": {\n",
    "                  \"Employment 1\": \"Big Bank, Senior Data Scientist\",\n",
    "                  \"Employment 2\": \"Small Bank, Data Scientist\",\n",
    "                  \"Education\": \"UC Berkeley, PhD Astronomy\",\n",
    "                  \"Board Member\": \"Girls and Boys Club, Chairman\",\n",
    "                  \"Bio\": \"biography of up to 100 words that is consistent with the above information\",\n",
    "                 },\n",
    "\n",
    "                 \"_wealthx.html\": {\n",
    "                    \"Estimated Net Worth\": \"At least $19.5 million\",\n",
    "                    \"Estimated Liquid Assets\": \"At least $11.5 million\",\n",
    "                    \"Estimated Household Wealth\": \"At least $31.5 million\",\n",
    "                    \"Estimated Household Liquid Assets\": \"At least $11.5 million\",\n",
    "                    \"Estimated Family Net Worth\": \"At least $226.1 billion\",\n",
    "                    \"Interests, Passions, Hobbies\" : \"Tennis and golf\",\n",
    "                 },\n",
    "\n",
    "                 \"_relsci.html\": {\n",
    "                     \"Boards & Committees (Corporate)\": \"Paramount Global, Board Director\",\n",
    "                     \"Boards & Committees (Nonprofit)\": \"Brentwood School - California, Trustee\",\n",
    "                     \"Former/Prior Boards & Committees (Corporate)\": \"The Walt Disney Company, Board Director\",\n",
    "                     \"Former/Prior Boards & Committees (Nonprofit)\": \"The Paley Center for Media, Trustee\",\n",
    "                     \"Top donations (Nonprofit)\": \"Greenpeace - $2M, UCSF - $1M, Kiva - $500K\",\n",
    "                     \"Top donations (Political parties)\": \"Kamala Harris - $100K, CA Democratic Committee - $250K\",\n",
    "                 },\n",
    "\n",
    "                 \"_equilar.html\": {\n",
    "                    \"Stock sold - Equity Transactions (Last 36 Months)\": \"$215.3 million\",\n",
    "                    \"New Equity Grants - Equity Transactions (Last 36 Months)\": \"$93 million\",\n",
    "                    \"Options Exercised - Equity Transactions (Last 36 Months)\": \"$17.5 million\",\n",
    "                    \"Equity Holdings - Equity Transactions\": \"$167.5 million\",\n",
    "                    \"Annual Compensation\": \"$11.9 million\",\n",
    "                    \"Stock Sold\": \"CEO and Chairperson, $1.6M at Cerevel Therapeutics Holdings, Inc. (50,000 shares), June 5 2023 (SEC) | June 1 2023 (Effective)\",\n",
    "                 },\n",
    "\n",
    "                 \"_zoominfo.html\": {\n",
    "                     \"Personal Email\": \"email@domain.com\",\n",
    "                 },\n",
    "\n",
    "                 \"_pitchbook.html\": {\n",
    "                     \"Lead partner on deals\": {\n",
    "                          \"Company\": \"Harvey (Business/Productivity Software)\",\n",
    "                          \"Deal Date\": \"April 26 2023\",\n",
    "                          \"Deal Type\": \"Early Stage VC\",\n",
    "                          \"Deal Size\": \"$21M\",\n",
    "                          \"Deal Status\": \"Completed\",\n",
    "                          \"Location\": \"Los Angeles, CA\",\n",
    "                          \"Representing\": \"Sequoia Capital\",\n",
    "                          \"Other Partners\": \"Rich Dude I, Rich Guy II, Notso Rich III, Rich Wannabe\",\n",
    "                          #\"Other Partners emails\": \"richdude@aristocracy.com, richguy@aristocracy.com\",\n",
    "                     },\n",
    "#                     \"Investor bio\": \"A brief summary of the investor, his peers, and his investment deals\"\n",
    "                 },\n",
    "\n",
    "                 \"_google.html\": {\n",
    "                     \"Article 1\": {\n",
    "                         \"Title\": 'John Smith granted key to the city',\n",
    "                         'Date': 'January 1, 2023',\n",
    "                         \"Abstract\": '''In an expensive public ceremony, the mayor granted John Smith the key to the city. The mayor then spoke for 20 minutes on how great of a person is John Smith and how luck we are to be his contemporaries.'''\n",
    "                         },\n",
    "                 },\n",
    "                 ## Should we add info on:\n",
    "                     # criminal background\n",
    "                     # if existing client, current relationship depth (e.g. CRB info)\n",
    "                }"
   ]
  },
  {
   "cell_type": "code",
   "execution_count": 6,
   "id": "4d437d65",
   "metadata": {},
   "outputs": [],
   "source": [
    "message_1_content = \"\"\"***Client description: {client_description}\n",
    "metadata: {client_metadata}*** \\\n",
    "<Your repsonse here> \"\"\""
   ]
  },
  {
   "cell_type": "code",
   "execution_count": 7,
   "id": "28a9643c",
   "metadata": {},
   "outputs": [],
   "source": [
    "messages =  [  \n",
    "{\"role\":\"system\",\n",
    " \"content\":f\"\"\"Given the following detailed meta data about an individual, \\\n",
    "generate a concise summary that captures the key details and any other significant \\\n",
    "aspects from the meta data and is consistent with the provided information:\n",
    "\n",
    " metadata: {metadata_schema}\n",
    " \"\"\"},    \n",
    "{\"role\":\"user\", \"content\": None},    \n",
    "]"
   ]
  },
  {
   "cell_type": "code",
   "execution_count": 8,
   "id": "2f26d2b9",
   "metadata": {},
   "outputs": [],
   "source": [
    "messages[1]['content'] = message_1_content.format(client_description=example['description'], client_metadata=example['docs'])"
   ]
  },
  {
   "cell_type": "code",
   "execution_count": 9,
   "id": "48e43e42",
   "metadata": {},
   "outputs": [],
   "source": [
    "kwargs = {\n",
    "    'verbose':False,\n",
    "    'temperature':0,\n",
    "    'top_p':1,\n",
    "    'frequency_penalty':0,\n",
    "    'presence_penalty':0\n",
    "}\n",
    "\n",
    "profile_prompt = get_completion_from_messages(messages, model=\"gpt-3.5-turbo\", **kwargs)"
   ]
  },
  {
   "cell_type": "code",
   "execution_count": 10,
   "id": "5a4e0386",
   "metadata": {},
   "outputs": [
    {
     "name": "stdout",
     "output_type": "stream",
     "text": [
      "Robert King is a highly accomplished finance professional with a strong background in hedge funds. He currently serves as the CEO of Hedge Fund A in San Francisco and previously worked as a Senior Portfolio Manager at Hedge Fund B. Robert is actively involved in the community and serves as a Board Director for the San Francisco Symphony. He is estimated to have a net worth of at least $100 million, with significant liquid assets. Robert is also engaged in philanthropy and has made substantial donations to organizations such as the American Red Cross and Boys & Girls Clubs of America. He holds board positions in both corporate and nonprofit entities, including Tech Company X and the San Francisco Museum of Modern Art. In addition, Robert has been involved in successful deals as a lead partner, representing Hedge Fund A in a recent Series B investment in Tech Startup XYZ.\n"
     ]
    }
   ],
   "source": [
    "print(profile_prompt)"
   ]
  },
  {
   "cell_type": "markdown",
   "id": "20ea011c",
   "metadata": {},
   "source": [
    "- prompt template for transaction sturcture"
   ]
  },
  {
   "cell_type": "code",
   "execution_count": 11,
   "id": "b1601dca",
   "metadata": {},
   "outputs": [],
   "source": [
    "categories = ['Automotive',\n",
    "              'Bills & utilities',\n",
    "              'Education',\n",
    "              'Entertainment',\n",
    "              'Fees & adjustments',\n",
    "              'Food & drink',\n",
    "              'Gas',\n",
    "              'Gift & Donations',\n",
    "              'Grocieries', \n",
    "              'Health & Wellness', \n",
    "              'Home', \n",
    "              'Misc', \n",
    "              'Personal', \n",
    "              'Professional Services', \n",
    "              'Shopping', \n",
    "              'Travel', \n",
    "              'Employment', \n",
    "              'Benefits', \n",
    "              'Investment',\n",
    "              'Loan', \n",
    "              'Tax']\n",
    "categories = sorted(categories)\n",
    "transaction_purposes= ', '.join(categories)"
   ]
  },
  {
   "cell_type": "code",
   "execution_count": 12,
   "id": "3f4486a6",
   "metadata": {},
   "outputs": [],
   "source": [
    "transaction_types = ', '.join(\n",
    "    ['Branch TLR',\n",
    "     'Cashiers Check',\n",
    "     'ACH', \n",
    "     'Wire', \n",
    "     'Check', \n",
    "     'Credit Card', \n",
    "     'Transfer', \n",
    "     'Debit Card', \n",
    "     'Zelle', \n",
    "     'Bill Pay', \n",
    "     'Venmo', \n",
    "     'Apple Pay', \n",
    "     'Google Wallet', \n",
    "     'PayPal']\n",
    ")\n",
    "\n",
    "transaction_statement_examples = \"\"\"\n",
    "POS PURCHASE #2034 STARBUCKS SF CASTRO ST CA\n",
    "POS PURCHASE #0765 COSTCO WHOLESALE SF\n",
    "POS PURCHASE #6567 VENMO *UBER EATS 855-981-2 NY\n",
    "POS CREDIT POS REFUND TERMIL 4435353 WEGMANS ITHACA NY\n",
    "ACH CREDIT VANGUARD INVEST FUND DIVIDEND {name of the client}\n",
    "ACH DEBIT VENMO PAYMENT SENT TO SARAH CONNOR\n",
    "INCOMING WIRE REFUND - EMERSON RESORT & SPA\n",
    "INCOMING WIRE ALPHABET INC CLASS A SOLIUM MORGA\n",
    "DOMESTIC ONLINE WIRE FLYWIRE PAYMENTS CORPORATION \n",
    "ATM WITHDRAWAL #1734 BAY ATM LOCATOR SAN FRANCISCO CA\n",
    "ATM DEPOSIT #6763 POST OFFICE SQ BOSTON MA TERMIL 3324Q\n",
    "PAYROLL CREDIT ACH PACIFIC GATEWAY PAYROLL {name of the client}\n",
    "ONLINE BANKING TRANSFER TO CHECKING ACCOUNT {client's account number}\n",
    "ACH DEBIT CHASE AUTO LOAN BILL PAY {client's name}\n",
    "ACH DEBIT PAYCHEX-HRS 401(K) {client's company name}\n",
    "ACH DEBIT PERSHING BROKERAGE {client's name}\n",
    "ACH DEBIT CITIZENS BANK LOAN PAYMENT {client's name}\n",
    "ACH DEBIT USBANK HOME MTG PYMT {client's name}\n",
    "AUTO TRANSFER TO LN TRANSFER TO SCHEDUELED LOAN PAYMENT {mask the first four client's account number digits with XXXX}\n",
    "ACH DEBIT IRS USATAXPYMT QUARTERLY TAX 2023 {client's name}\n",
    "RETURN ITEM PAYPAL INST XFFER {client's name} LINKEDIN\n",
    "INTERNET TRANSFER FROM DDA {client's account number} ON 11/03 AT 08.10\n",
    "MOBILE DEPOSIT\n",
    "DEPOSIT TRANSFER TLR 18 BR 76 XFER FROM {client's name}\n",
    "ZELLE CREDIT PAYMENT FROM: MARGARET'S BOUTIQUE L TD ID:2324424A01\n",
    "ZELLE CREDIT PAYMENT FROM: TAX ARMOUT INC.\n",
    "INTEREST CREDIT\n",
    "DIRECT S/C WIRE TRANSFER FEE\n",
    "CHECK WITHDRAWAL CK # {last four digits of checking account number}\n",
    "WITHDRAWAL TLR 23 BR 90 REAL ESTATE INVESTMENT\"\"\""
   ]
  },
  {
   "cell_type": "code",
   "execution_count": 13,
   "id": "fe1ccc6f",
   "metadata": {},
   "outputs": [],
   "source": [
    "transaction_statement_examples = \"\"\"POS PURCHASE #2034 STARBUCKS SF CASTRO ST CA\n",
    "ACH DEBIT CHASE AUTO LOAN BILL PAY {client's name}\n",
    "MOBILE DEPOSIT\n",
    "DEPOSIT TRANSFER TLR 18 BR 76 XFER FROM {client's name}\n",
    "ZELLE CREDIT PAYMENT FROM: MARGARET'S BOUTIQUE L TD ID:2324424A01\n",
    "CHECK WITHDRAWAL CK # {last four digits of checking account number}\n",
    "WITHDRAWAL TLR 23 BR 90 REAL ESTATE INVESTMENT\n",
    "PAYROLL CREDIT ACH PACIFIC GATEWAY PAYROLL {name of the client}\n",
    "INCOMING WIRE ALPHABET INC CLASS A SOLIUM MORGA\"\"\""
   ]
  },
  {
   "cell_type": "markdown",
   "id": "c0d89d68",
   "metadata": {},
   "source": [
    "- Modular prompting"
   ]
  },
  {
   "cell_type": "code",
   "execution_count": null,
   "id": "1ff6a2a3",
   "metadata": {},
   "outputs": [],
   "source": [
    "prompt_profile"
   ]
  },
  {
   "cell_type": "code",
   "execution_count": 14,
   "id": "75b4ba0c",
   "metadata": {},
   "outputs": [],
   "source": [
    "# Modular Prompt 1: Overview of Robert's Profile\n",
    "# profile_prompt = (\n",
    "#     \"Robert King is a high-net-worth individual, CEO of a hedge fund in San Francisco. \"\n",
    "#     \"He is an active philanthropist with diverse financial activities.\"\n",
    "# )\n",
    "\n",
    "# Modular Prompt 2: Key Banking Relationships\n",
    "banking_prompt = (\n",
    "    \"\"\"Robert King, as CEO of Hedge Fund A, oversees significant financial activities with the bank. His banking engagement includes:\n",
    "- Authority on two corporate accounts of Hedge Fund A for company transactions.\n",
    "- A personal checking account used mainly for his $3 million mortgage.\n",
    "- Another checking account with dual debit cards: one for personal use and another for his child’s daily expenses.\n",
    "- Financial activity: highly active with engagement in online banking.\"\"\"\n",
    ")\n"
   ]
  },
  {
   "cell_type": "code",
   "execution_count": 15,
   "id": "3df42859",
   "metadata": {},
   "outputs": [],
   "source": [
    "messages =  [  \n",
    "{\"role\":\"system\", \"content\":None},    \n",
    "{\"role\":\"user\", \"content\": None},    \n",
    "]\n",
    "\n",
    "message_1_content = \"\"\"- Profile Summary: [{profile_prompt}]\n",
    "- Banking Relationship:[{banking_prompt}]\n",
    "<Your repsonse here>\n",
    "\"\"\".format(profile_prompt=profile_prompt, banking_prompt=banking_prompt)\n",
    "\n",
    "messages[1][\"content\"] = message_1_content"
   ]
  },
  {
   "cell_type": "code",
   "execution_count": 16,
   "id": "d7480de5",
   "metadata": {},
   "outputs": [
    {
     "name": "stdout",
     "output_type": "stream",
     "text": [
      "- Profile Summary: [Robert King is a highly accomplished finance professional with a strong background in hedge funds. He currently serves as the CEO of Hedge Fund A in San Francisco and previously worked as a Senior Portfolio Manager at Hedge Fund B. Robert is actively involved in the community and serves as a Board Director for the San Francisco Symphony. He is estimated to have a net worth of at least $100 million, with significant liquid assets. Robert is also engaged in philanthropy and has made substantial donations to organizations such as the American Red Cross and Boys & Girls Clubs of America. He holds board positions in both corporate and nonprofit entities, including Tech Company X and the San Francisco Museum of Modern Art. In addition, Robert has been involved in successful deals as a lead partner, representing Hedge Fund A in a recent Series B investment in Tech Startup XYZ.]\n",
      "- Banking Relationship:[Robert King, as CEO of Hedge Fund A, oversees significant financial activities with the bank. His banking engagement includes:\n",
      "- Authority on two corporate accounts of Hedge Fund A for company transactions.\n",
      "- A personal checking account used mainly for his $3 million mortgage.\n",
      "- Another checking account with dual debit cards: one for personal use and another for his child’s daily expenses.\n",
      "- Financial activity: highly active with engagement in online banking.]\n",
      "<Your repsonse here>\n",
      "\n"
     ]
    }
   ],
   "source": [
    "print(message_1_content)"
   ]
  },
  {
   "cell_type": "code",
   "execution_count": 17,
   "id": "3bdbfc87",
   "metadata": {},
   "outputs": [],
   "source": [
    "messages[0][\"content\"] = \"\"\"Assume the role of an expert assistant in generating financial bank transactions. Create transaction records for an individual, reflecting their profile and banking relationships. Guidelines:\n",
    "- Format: CSV-like, single-line transactions with headers 'Date', 'Account_Number', 'Transaction_Type', 'Transaction_Purpose', 'Transaction_Direction', 'Transaction_Amount', 'Transaction_Description'.\n",
    "- Data Types: 'Account_Number' as integer, 'Transaction_Amount' as float.\n",
    "- Timeline: Over two months from 2023-08-01 to 2023-11-01.\n",
    "- Activity Levels: Generate 10-40 transactions for inactive, 30-100 for moderate, 100-270 for highly active profiles.\n",
    "- Recurring Transactions: Include monthly recurring (e.g., utilities, mortgage) and frequent (e.g., daily POS) transactions.\n",
    "- Multiple Daily Transactions: Include at least a few examples.\n",
    "- Use following transaction purposes: {transaction_categories}\n",
    "- Use following transaction purposes: {transaction_types}\n",
    "- Transaction Descriptions: Follow standard formats, avoid fictitious entities. Here are a few examples: 'POS PURCHASE #2034 STARBUCKS SF', 'ACH CREDIT VANGUARD INVEST FUND DIVIDEND', 'ATM WITHDRAWAL #1734 BAY ATM LOCATOR SF', 'INCOMING WIRE ALPHABET INC CLASS A SOLIUM MORGA', 'BILL PAY AUTO DEBIT COMCAST SAN FRANCISCO UTILITY BILL'. Extrapolate similar formats for other transactions.\n",
    "- Profile and Banking Details: [Provided by the user].\n",
    "\"\"\".format(transaction_types=transaction_types, transaction_categories=transaction_purposes, transaction_description_examples=transaction_statement_examples)"
   ]
  },
  {
   "cell_type": "code",
   "execution_count": 18,
   "id": "f0179a4a",
   "metadata": {},
   "outputs": [
    {
     "name": "stdout",
     "output_type": "stream",
     "text": [
      "Assume the role of an expert assistant in generating financial bank transactions. Create transaction records for an individual, reflecting their profile and banking relationships. Guidelines:\n",
      "- Format: CSV-like, single-line transactions with headers 'Date', 'Account_Number', 'Transaction_Type', 'Transaction_Purpose', 'Transaction_Direction', 'Transaction_Amount', 'Transaction_Description'.\n",
      "- Data Types: 'Account_Number' as integer, 'Transaction_Amount' as float.\n",
      "- Timeline: Over two months from 2023-08-01 to 2023-11-01.\n",
      "- Activity Levels: Generate 10-40 transactions for inactive, 30-100 for moderate, 100-270 for highly active profiles.\n",
      "- Recurring Transactions: Include monthly recurring (e.g., utilities, mortgage) and frequent (e.g., daily POS) transactions.\n",
      "- Multiple Daily Transactions: Include at least a few examples.\n",
      "- Use following transaction purposes: Automotive, Benefits, Bills & utilities, Education, Employment, Entertainment, Fees & adjustments, Food & drink, Gas, Gift & Donations, Grocieries, Health & Wellness, Home, Investment, Loan, Misc, Personal, Professional Services, Shopping, Tax, Travel\n",
      "- Use following transaction purposes: Branch TLR, Cashiers Check, ACH, Wire, Check, Credit Card, Transfer, Debit Card, Zelle, Bill Pay, Venmo, Apple Pay, Google Wallet, PayPal\n",
      "- Transaction Descriptions: Follow standard formats, avoid fictitious entities. Here are a few examples: 'POS PURCHASE #2034 STARBUCKS SF', 'ACH CREDIT VANGUARD INVEST FUND DIVIDEND', 'ATM WITHDRAWAL #1734 BAY ATM LOCATOR SF', 'INCOMING WIRE ALPHABET INC CLASS A SOLIUM MORGA', 'BILL PAY AUTO DEBIT COMCAST SAN FRANCISCO UTILITY BILL'. Extrapolate similar formats for other transactions.\n",
      "- Profile and Banking Details: [Provided by the user].\n",
      "\n"
     ]
    }
   ],
   "source": [
    "print(messages[0][\"content\"])"
   ]
  },
  {
   "cell_type": "code",
   "execution_count": null,
   "id": "1628e126",
   "metadata": {},
   "outputs": [],
   "source": [
    "kwargs = {\n",
    "    'verbose':False,\n",
    "    'temperature':0,\n",
    "    'top_p':1,\n",
    "    'frequency_penalty':0,\n",
    "    'presence_penalty':0,\n",
    "}\n",
    "\n",
    "response_revised_prompt = get_completion_from_messages(messages, model=\"gpt-4-1106-preview\", **kwargs)"
   ]
  },
  {
   "cell_type": "code",
   "execution_count": null,
   "id": "90ce53af",
   "metadata": {},
   "outputs": [],
   "source": [
    "import pandas as pd\n",
    "data = response_revised_prompt.split('\\n')\n",
    "df = pd.DataFrame([x.split(',') for x in data[1:]], columns=data[0].split(','))"
   ]
  },
  {
   "cell_type": "code",
   "execution_count": null,
   "id": "88893120",
   "metadata": {},
   "outputs": [],
   "source": [
    "df.to_excel('ROBERT_KING_TRANSACTION.xlsx')"
   ]
  }
 ],
 "metadata": {
  "kernelspec": {
   "display_name": "llm",
   "language": "python",
   "name": "llm"
  },
  "language_info": {
   "codemirror_mode": {
    "name": "ipython",
    "version": 3
   },
   "file_extension": ".py",
   "mimetype": "text/x-python",
   "name": "python",
   "nbconvert_exporter": "python",
   "pygments_lexer": "ipython3",
   "version": "3.11.5"
  }
 },
 "nbformat": 4,
 "nbformat_minor": 5
}
