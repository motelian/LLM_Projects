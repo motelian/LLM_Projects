{
 "cells": [
  {
   "cell_type": "code",
   "execution_count": null,
   "metadata": {},
   "outputs": [],
   "source": [
    "import pandas as pd\n",
    "import manager as m\n",
    "from openai_textgen import TextGenerator\n",
    "from datamodel import Goal\n",
    "from datamodel import Summary, Persona\n",
    "\n",
    "llm_config = {\"n\":1, \"temperature\": 0, }\n",
    "text_gen = TextGenerator()"
   ]
  },
  {
   "cell_type": "code",
   "execution_count": null,
   "metadata": {},
   "outputs": [],
   "source": [
    "df = pd.read_excel(\"../data/ROBERT_KING.xlsx\", index_col=0)\n",
    "nlviz = m.Manager(text_gen=text_gen, data=df)\n",
    "data_summary = nlviz.summarize(textgen_config=llm_config, summary_method=\"default\")"
   ]
  },
  {
   "cell_type": "code",
   "execution_count": null,
   "metadata": {},
   "outputs": [],
   "source": [
    "display(Summary(**data_summary))"
   ]
  },
  {
   "cell_type": "markdown",
   "metadata": {},
   "source": [
    "# Suggest questions to ask based on dataset"
   ]
  },
  {
   "cell_type": "code",
   "execution_count": null,
   "metadata": {},
   "outputs": [],
   "source": [
    "display(Summary(**data_summary))"
   ]
  },
  {
   "cell_type": "code",
   "execution_count": null,
   "metadata": {},
   "outputs": [],
   "source": [
    "from datamodel import Persona\n",
    "persona= Persona(persona=\"A highly skilled data analyst who can come up with complex, insightful goals about data\",rationale=\"\")\n",
    "goals = nlviz.goals(\n",
    "        summary=data_summary,\n",
    "        textgen_config=llm_config,\n",
    "        n = 3,\n",
    "        persona=persona)\n",
    "\n",
    "for g in goals:\n",
    "    display(g)"
   ]
  },
  {
   "cell_type": "code",
   "execution_count": null,
   "metadata": {},
   "outputs": [],
   "source": [
    "nlviz = m.Manager(text_gen=text_gen, data=df)\n",
    "charts = nlviz.visualize(summary=data_summary, goal=goals[0], textgen_config=llm_config, return_error=True)\n",
    "charts[0]"
   ]
  },
  {
   "cell_type": "code",
   "execution_count": null,
   "metadata": {},
   "outputs": [],
   "source": [
    "print(charts[0].code)"
   ]
  },
  {
   "cell_type": "code",
   "execution_count": null,
   "metadata": {},
   "outputs": [],
   "source": [
    "nlviz = m.Manager(text_gen=text_gen, data=df)\n",
    "charts = nlviz.visualize(summary=data_summary, goal=goals[1], textgen_config=llm_config, return_error=True)\n",
    "charts[0]"
   ]
  },
  {
   "cell_type": "code",
   "execution_count": null,
   "metadata": {},
   "outputs": [],
   "source": [
    "print(charts[0].code)"
   ]
  },
  {
   "cell_type": "code",
   "execution_count": null,
   "metadata": {},
   "outputs": [],
   "source": [
    "nlviz = m.Manager(text_gen=text_gen, data=df)\n",
    "charts = nlviz.visualize(summary=data_summary, goal=goals[2], textgen_config=llm_config, return_error=True)\n",
    "charts[0]"
   ]
  },
  {
   "cell_type": "code",
   "execution_count": null,
   "metadata": {},
   "outputs": [],
   "source": [
    "print(charts[0].code)"
   ]
  },
  {
   "cell_type": "markdown",
   "metadata": {},
   "source": [
    "# Generate plots based on user questions"
   ]
  },
  {
   "cell_type": "code",
   "execution_count": null,
   "metadata": {},
   "outputs": [],
   "source": [
    "question = \"what is the distribution of transaction purposes ?\"\n",
    "charts = nlviz.visualize(summary=data_summary, goal=question, textgen_config=llm_config, return_error=True)\n",
    "charts[0]"
   ]
  },
  {
   "cell_type": "code",
   "execution_count": null,
   "metadata": {},
   "outputs": [],
   "source": [
    "question = \"What is the break down of total transaction amounts (in thousand dollars) per transaction category?\"\n",
    "charts = nlviz.visualize(summary=data_summary, goal=question, textgen_config=llm_config, return_error=True)\n",
    "charts[0]"
   ]
  },
  {
   "cell_type": "code",
   "execution_count": null,
   "metadata": {},
   "outputs": [],
   "source": [
    "question = \"What is the break down of total transaction amounts (in thousand dollars) per transaction purpose?\"\n",
    "viz_spces = \"Avoid labels in the plot and rotate x labels by 90 degrees\"\n",
    "goal = Goal(question=question, visualization=viz_spces, rationale=\"\")\n",
    "nlviz = m.Manager(text_gen=text_gen, data=df)\n",
    "charts = nlviz.visualize(summary=data_summary, goal=goal, textgen_config=llm_config, return_error=True)\n",
    "charts[0]"
   ]
  },
  {
   "cell_type": "code",
   "execution_count": null,
   "metadata": {},
   "outputs": [],
   "source": [
    "question = \"show the evolution of monthly transaction amounts over time, broken down by transaction category\"\n",
    "nlviz = m.Manager(text_gen=text_gen, data=df)\n",
    "charts = nlviz.visualize(summary=data_summary, goal=question, textgen_config=llm_config, return_error=True)\n",
    "charts[0]"
   ]
  },
  {
   "cell_type": "code",
   "execution_count": null,
   "metadata": {},
   "outputs": [],
   "source": [
    "question = \"analyze the transaction amount trends over the two-month period.\"\n",
    "# viz_specs = \"stacked bar chart\"\n",
    "# goal = Goal(question=question, visualization=viz_spces, rationale=\"\")\n",
    "nlviz = m.Manager(text_gen=text_gen, data=df)\n",
    "charts = nlviz.visualize(summary=data_summary, goal=question, textgen_config=llm_config, return_error=True)\n",
    "charts[0]"
   ]
  },
  {
   "cell_type": "code",
   "execution_count": 4,
   "metadata": {},
   "outputs": [
    {
     "name": "stdout",
     "output_type": "stream",
     "text": [
      "```python\n",
      "import matplotlib.pyplot as plt\n",
      "import pandas as pd\n",
      "\n",
      "# plan -\n",
      "def plot(data: pd.DataFrame):\n",
      "    transaction_amounts = data['Transaction_Amount']\n",
      "    plt.pie(transaction_amounts, labels=data['Transaction_Description'], autopct='%1.1f%%')\n",
      "    plt.title('Distribution of Transaction Amounts')\n",
      "    plt.legend()\n",
      "    return plt\n",
      "\n",
      "chart = plot(data) # data already contains the data to be plotted. Always include this line. No additional code beyond this line.\n",
      "```\n",
      "****\n",
      " Wedge sizes 'x' must be non negative values\n"
     ]
    },
    {
     "data": {
      "image/png": "[encoded data removed]",
      "text/plain": [
       "<Figure size 640x480 with 1 Axes>"
      ]
     },
     "metadata": {},
     "output_type": "display_data"
    }
   ],
   "source": [
    "question = \"what is the distribution of transaction amounts (pie chart)\"\n",
    "nlviz = m.Manager(text_gen=text_gen, data=df)\n",
    "charts = nlviz.visualize(summary=data_summary, goal=question, textgen_config=llm_config, return_error=True)"
   ]
  },
  {
   "cell_type": "code",
   "execution_count": 5,
   "metadata": {},
   "outputs": [
    {
     "name": "stdout",
     "output_type": "stream",
     "text": [
      "import matplotlib.pyplot as plt\n",
      "import pandas as pd\n",
      "\n",
      "# plan -\n",
      "def plot(data: pd.DataFrame):\n",
      "    transaction_amounts = data['Transaction_Amount']\n",
      "    plt.pie(transaction_amounts, labels=data['Transaction_Description'], autopct='%1.1f%%')\n",
      "    plt.title('Distribution of Transaction Amounts')\n",
      "    plt.legend()\n",
      "    return plt\n",
      "\n",
      "chart = plot(data)\n"
     ]
    }
   ],
   "source": [
    "print(charts[0].code)"
   ]
  },
  {
   "cell_type": "code",
   "execution_count": 6,
   "metadata": {},
   "outputs": [],
   "source": [
    "code = charts[0].code\n",
    "eval_report = nlviz.evaluate(code=code, goal=Goal(question=question, visualization=question ,rationale=\"\"), summary=data_summary, textgen_config=llm_config)"
   ]
  },
  {
   "cell_type": "code",
   "execution_count": 18,
   "metadata": {},
   "outputs": [
    {
     "name": "stdout",
     "output_type": "stream",
     "text": [
      "Bugs: 8/10\n",
      "Rationale: \n",
      " The code does not have any syntax errors or typos.\n",
      " However, there is a potential bug in the data transformation step.\n",
      " The code directly uses the 'Transaction_Amount' column for the pie chart without any aggregation or grouping.\n",
      " This may result in a pie chart with too many slices, making it difficult to interpret.\n",
      "\n",
      "**********\n",
      "Transformation: 4/10\n",
      "Rationale: \n",
      " The data transformation step is not appropriate for the visualization type.\n",
      " The code directly uses the 'Transaction_Amount' column for the pie chart without any aggregation or grouping.\n",
      " To visualize the distribution of transaction amounts, it would be more appropriate to group the amounts into categories (e.\n",
      "g.\n",
      ", bins) and then create a pie chart based on the frequency of each category.\n",
      "\n",
      "**********\n",
      "Compliance: 6/10\n",
      "Rationale: \n",
      " The code partially meets the specified goal of visualizing the distribution of transaction amounts.\n",
      " However, the lack of appropriate data transformation makes it difficult to accurately represent the distribution.\n",
      "\n",
      "**********\n",
      "Type: 3/10\n",
      "Rationale: \n",
      " The pie chart is not the most effective visualization type for representing the distribution of transaction amounts.\n",
      " A histogram or a bar chart would be more appropriate as they can show the frequency of different transaction amount categories more clearly.\n",
      "\n",
      "**********\n",
      "Encoding: 7/10\n",
      "Rationale: \n",
      " The data encoding in the code is appropriate for a pie chart.\n",
      " The 'Transaction_Amount' column is used as the data for the pie chart slices, and the 'Transaction_Description' column is used as the labels.\n",
      "\n",
      "**********\n",
      "Aesthetics: 8/10\n",
      "Rationale: \n",
      " The aesthetics of the visualization are generally appropriate.\n",
      " The pie chart has labels for each slice and a title.\n",
      " However, the lack of appropriate data transformation may result in a cluttered and difficult-to-interpret pie chart.\n",
      "\n",
      "**********\n"
     ]
    }
   ],
   "source": [
    "for dim in eval_report[0]:\n",
    "    print(f\"{dim['dimension'].title()}: {dim['score']}/10\")\n",
    "    r = dim['rationale']\n",
    "    r = \".\\n\".join(r.split('.'))\n",
    "    print(f\"Rationale: \\n {r}\")\n",
    "    print(f\"{''.join(10*['*'])}\")\n"
   ]
  },
  {
   "cell_type": "code",
   "execution_count": 19,
   "metadata": {},
   "outputs": [
    {
     "name": "stdout",
     "output_type": "stream",
     "text": [
      "Bugs: 10/10\n",
      "Rationale: \n",
      " The code does not contain any bugs, logic errors, syntax errors, or typos.\n",
      " It is written correctly and is expected to compile without any issues.\n",
      "\n",
      "**********\n",
      "Transformation: 10/10\n",
      "Rationale: \n",
      " The data is appropriately transformed for the visualization type.\n",
      " The code filters the data based on positive and negative transaction amounts to separate inflow and outflow transactions.\n",
      " It then calculates the total inflow and outflow transaction amounts per transaction type using groupby.\n",
      " This transformation is necessary to obtain the desired information.\n",
      "\n",
      "**********\n",
      "Compliance: 10/10\n",
      "Rationale: \n",
      " The code meets the specified visualization goal of showing the total inflow and outflow transaction amounts per transaction type.\n",
      " It accurately calculates and displays this information in the chart.\n",
      "\n",
      "**********\n",
      "Type: 8/10\n",
      "Rationale: \n",
      " The visualization type (bar chart) is appropriate for comparing the total inflow and outflow transaction amounts per transaction type.\n",
      " However, a stacked bar chart may be more effective in visually representing the inflow and outflow amounts for each transaction type.\n",
      "\n",
      "**********\n",
      "Encoding: 10/10\n",
      "Rationale: \n",
      " The data is encoded appropriately for the visualization type.\n",
      " The transaction types are encoded on the x-axis, the transaction amounts are encoded on the y-axis, and the inflow and outflow amounts are encoded using different colors.\n",
      "\n",
      "**********\n",
      "Aesthetics: 9/10\n",
      "Rationale: \n",
      " The aesthetics of the visualization are generally appropriate.\n",
      " The colors used for the inflow and outflow bars are distinguishable and the chart has a title, labels, and a legend.\n",
      " However, the x-axis labels are rotated for better readability, but they may still overlap if there are many transaction types.\n",
      " Adjusting the rotation angle or using a horizontal bar chart may improve the aesthetics.\n",
      "\n",
      "**********\n"
     ]
    }
   ],
   "source": [
    "question = \"What are the total inflow and outflow transaction amounts per transactiontype? (rotate_the_labels)\"\n",
    "nlviz = m.Manager(text_gen=text_gen, data=df)\n",
    "charts = nlviz.visualize(summary=data_summary, goal=question, textgen_config=llm_config, return_error=True)\n",
    "code = charts[0].code\n",
    "eval_report = nlviz.evaluate(code=code, goal=Goal(question=question, visualization=question ,rationale=\"\"), summary=data_summary, textgen_config=llm_config)\n",
    "for dim in eval_report[0]:\n",
    "    print(f\"{dim['dimension'].title()}: {dim['score']}/10\")\n",
    "    r = dim['rationale']\n",
    "    r = \".\\n\".join(r.split('.'))\n",
    "    print(f\"Rationale: \\n {r}\")\n",
    "    print(f\"{''.join(10*['*'])}\")"
   ]
  },
  {
   "cell_type": "code",
   "execution_count": 21,
   "metadata": {},
   "outputs": [
    {
     "data": {
      "image/png": "[encoded data removed]",
      "text/plain": [
       "import matplotlib.pyplot as plt\n",
       "import pandas as pd\n",
       "\n",
       "# plan -\n",
       "def plot(data: pd.DataFrame):\n",
       "    inflow = data[data['Transaction_Amount'] > 0]\n",
       "    outflow = data[data['Transaction_Amount'] < 0]\n",
       "    \n",
       "    inflow_total = inflow.groupby('Transaction_Type')['Transaction_Amount'].sum()\n",
       "    outflow_total = outflow.groupby('Transaction_Type')['Transaction_Amount'].sum()\n",
       "    \n",
       "    transaction_types = data['Transaction_Type'].unique()\n",
       "    \n",
       "    fig, ax = plt.subplots()\n",
       "    ax.bar(transaction_types, inflow_total, label='Inflow', color='green')\n",
       "    ax.bar(transaction_types, outflow_total, label='Outflow', color='red')\n",
       "    \n",
       "    ax.axhline(0, color='black', linewidth=0.5)\n",
       "    \n",
       "    ax.set_xlabel('Transaction Type')\n",
       "    ax.set_ylabel('Transaction Amount')\n",
       "    ax.set_title('What are the total inflow and outflow transaction amounts per transaction type?')\n",
       "    ax.legend()\n",
       "    \n",
       "    plt.xticks(rotation=45, ha='right')\n",
       "    \n",
       "    return plt\n",
       "\n",
       "chart = plot(data)"
      ]
     },
     "execution_count": 21,
     "metadata": {},
     "output_type": "execute_result"
    }
   ],
   "source": [
    "charts[0]"
   ]
  },
  {
   "cell_type": "code",
   "execution_count": null,
   "metadata": {},
   "outputs": [],
   "source": []
  }
 ],
 "metadata": {
  "kernelspec": {
   "display_name": "Python 3 (ipykernel)",
   "language": "python",
   "name": "python3"
  },
  "language_info": {
   "codemirror_mode": {
    "name": "ipython",
    "version": 3
   },
   "file_extension": ".py",
   "mimetype": "text/x-python",
   "name": "python",
   "nbconvert_exporter": "python",
   "pygments_lexer": "ipython3",
   "version": "3.11.5"
  }
 },
 "nbformat": 4,
 "nbformat_minor": 2
}
