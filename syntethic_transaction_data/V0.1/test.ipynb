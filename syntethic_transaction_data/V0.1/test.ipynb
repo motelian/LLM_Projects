{
 "cells": [
  {
   "cell_type": "code",
   "execution_count": null,
   "metadata": {},
   "outputs": [],
   "source": [
    "import os\n",
    "import re\n",
    "import time\n",
    "import json\n",
    "import openai\n",
    "import numpy as np\n",
    "import traceback\n",
    "import matplotlib.pyplot as plt\n",
    "from dotenv import load_dotenv, find_dotenv\n",
    "\n",
    "import langchain.chat_models\n",
    "import langchain.schema\n",
    "from langchain.callbacks import get_openai_callback\n",
    "from langchain import OpenAI\n",
    "from langchain.schema import (HumanMessage, AIMessage)\n",
    "\n",
    "import pandas as pd\n",
    "pd.set_option('display.max_rows', None)\n",
    "pd.set_option('display.max_columns', None)\n",
    "pd.options.mode.chained_assignment = None\n",
    "\n",
    "_ = load_dotenv(find_dotenv())\n",
    "open_api_key = os.environ[\"OPENAI_API_KEY\"]\n",
    "\n",
    "from openai_textgen import TextGenerator\n",
    "from summarizer import Summarizer\n",
    "from datamodel import Message, LLMResponse, Summary"
   ]
  },
  {
   "cell_type": "markdown",
   "metadata": {},
   "source": [
    "# Test TextGenerator Class"
   ]
  },
  {
   "cell_type": "code",
   "execution_count": null,
   "metadata": {},
   "outputs": [],
   "source": [
    "config =  {'temperature' : 0, 'max_tokens': 300, 'n': 3}\n",
    "chatbot = TextGenerator()\n",
    "prompt = \"It seems like today is cold in bay area time to get cozy in the house. what do you think?\"\n",
    "messages = [\n",
    "    {\n",
    "        \"role\": \"system\",\n",
    "        \"content\": \"You are a sassy funny assistant tasked to respond in a sarcastic tone\",\n",
    "    },\n",
    "    {\n",
    "        \"role\": \"user\",\n",
    "        \"content\": f\"{prompt}\"\n",
    "    }\n",
    "]\n",
    "res = chatbot.generate(messages=messages, config=config)\n",
    "res.text"
   ]
  },
  {
   "cell_type": "markdown",
   "metadata": {},
   "source": [
    "# Test Summerizer Class"
   ]
  },
  {
   "cell_type": "code",
   "execution_count": null,
   "metadata": {},
   "outputs": [],
   "source": [
    "text_gen_config = {'max_tokens':2000}\n",
    "text_gen = TextGenerator()\n",
    "df = pd.read_excel(\"../data/ROBERT_KING.xlsx\", index_col=0)\n",
    "get_summary = Summarizer()"
   ]
  },
  {
   "cell_type": "code",
   "execution_count": null,
   "metadata": {},
   "outputs": [],
   "source": [
    "summary_default = get_summary.summarize(data=df, n_samples=3, text_gen=text_gen, textgen_config=text_gen_config, summary_method=\"default\")\n",
    "display(Summary(**summary_default))"
   ]
  },
  {
   "cell_type": "code",
   "execution_count": null,
   "metadata": {},
   "outputs": [],
   "source": [
    "summary_llm = get_summary.summarize(data=df, n_samples=3, text_gen=text_gen, textgen_config=text_gen_config, summary_method=\"llm\")\n",
    "display(Summary(**summary_llm))"
   ]
  },
  {
   "cell_type": "markdown",
   "metadata": {},
   "source": [
    "# Test Vizualization Goal Generation"
   ]
  },
  {
   "cell_type": "code",
   "execution_count": null,
   "metadata": {},
   "outputs": [],
   "source": [
    "import json\n",
    "import logging\n",
    "from utils import clean_code_snippet\n",
    "from openai_textgen import TextGenerator\n",
    "from datamodel import Goal, Persona\n",
    "\n",
    "SYSTEM_INSTRUCTIONS = \"\"\"\n",
    "You are a an experienced data analyst who can generate a given number of insightful GOALS about data, when given a summary of the data, and a specified persona. The VISUALIZATIONS YOU RECOMMEND MUST FOLLOW VISUALIZATION BEST PRACTICES (e.g., must use bar charts instead of pie charts for comparing quantities) AND BE MEANINGFUL (e.g., plot longitude and latitude on maps where appropriate). They must also be relevant to the specified persona. Each goal must include a question, a visualization (THE VISUALIZATION MUST REFERENCE THE EXACT COLUMN FIELDS FROM THE SUMMARY), and a rationale (JUSTIFICATION FOR WHICH dataset FIELDS ARE USED and what we will learn from the visualization). Each goal MUST mention the exact fields from the dataset summary above\n",
    "\"\"\"\n",
    "\n",
    "FORMAT_INSTRUCTIONS = \"\"\"\n",
    "THE OUTPUT MUST BE A CODE SNIPPET OF A VALID LIST OF JSON OBJECTS. IT MUST USE THE FOLLOWING FORMAT:\n",
    "\n",
    "```[\n",
    "    { \"index\": 0,  \"question\": \"What is the distribution of X\", \"visualization\": \"histogram of X\", \"rationale\": \"This tells about \"} ..\n",
    "    ]\n",
    "```\n",
    "THE OUTPUT SHOULD ONLY USE THE JSON FORMAT ABOVE.\n",
    "\"\"\"\n",
    "\n",
    "logger = logging.getLogger(\"chat2vis\")\n",
    "\n",
    "\n",
    "class GoalExplorer():\n",
    "    \"\"\"Generat goals given a summary of data\"\"\"\n",
    "\n",
    "    def __init__(self) -> None:\n",
    "        pass\n",
    "\n",
    "    def generate(self, summary: dict, textgen_config: dict,\n",
    "                 text_gen: TextGenerator, n=5, persona: Persona = None) -> list[Goal]:\n",
    "        \"\"\"Generate goals given a summary of data\"\"\"\n",
    "\n",
    "        user_prompt = f\"\"\"The number of GOALS to generate is {n}. The goals should be based on the data summary below, \\n\\n .\n",
    "        {summary} \\n\\n\"\"\"\n",
    "\n",
    "        if not persona:\n",
    "            persona = Persona(\n",
    "                persona=\"A highly skilled data analyst who can come up with complex, insightful goals about data\",\n",
    "                rationale=\"\")\n",
    "\n",
    "        user_prompt += f\"\"\"\\n The generated goals SHOULD BE FOCUSED ON THE INTERESTS AND PERSPECTIVE of a '{persona.persona} persona, who is insterested in complex, insightful goals about the data. \\n\"\"\"\n",
    "\n",
    "        messages = [\n",
    "            {\"role\": \"system\", \"content\": SYSTEM_INSTRUCTIONS},\n",
    "            {\"role\": \"assistant\",\n",
    "             \"content\":\n",
    "             f\"{user_prompt}\\n\\n {FORMAT_INSTRUCTIONS} \\n\\n. The generated {n} goals are: \\n \"}]\n",
    "\n",
    "        result: list[Goal] = text_gen.generate(messages=messages, config=textgen_config)\n",
    "\n",
    "        try:\n",
    "            json_string = clean_code_snippet(result.text[0].content)\n",
    "            result = json.loads(json_string)\n",
    "            # cast each item in the list to a Goal object\n",
    "            if isinstance(result, dict):\n",
    "                result = [result]\n",
    "            result = [Goal(**x) for x in result]\n",
    "        except json.decoder.JSONDecodeError:\n",
    "            logger.info(f\"Error decoding JSON: {result.text[0].content}\")\n",
    "            print(f\"Error decoding JSON: {result.text[0].content}\")\n",
    "            raise ValueError(\n",
    "                \"The model did not return a valid JSON object while attempting generate goals. Consider using a larger model or a model with higher max token length.\")\n",
    "        return result"
   ]
  },
  {
   "cell_type": "code",
   "execution_count": null,
   "metadata": {},
   "outputs": [],
   "source": [
    "text_gen_config = {'max_tokens':2000}\n",
    "text_gen = TextGenerator(model_name='gpt-3.5-turbo')\n",
    "df = pd.read_excel(\"../data/ROBERT_KING.xlsx\", index_col=0)\n",
    "goals_explorer = GoalExplorer()\n",
    "goals = goals_explorer.generate(summary=summary_llm, textgen_config=text_gen_config, text_gen=text_gen, n=3)\n",
    "for goal in goals:\n",
    "    display(goal)"
   ]
  },
  {
   "cell_type": "code",
   "execution_count": null,
   "metadata": {},
   "outputs": [],
   "source": []
  },
  {
   "cell_type": "code",
   "execution_count": null,
   "metadata": {},
   "outputs": [],
   "source": [
    "class VizGenerator:\n",
    "    \"\"\"Generate visualizations from prompt\"\"\"\n",
    "    def __init__(self) -> None:\n",
    "        pass\n",
    "\n",
    "    def get_template(self, goal: str, library: str = 'matplotlib'):\n",
    "        general_instructions = f\"If the solution requires a single value (e.g. max, min, median, first, last etc), ALWAYS add a line (axvline or axhline) to the chart, ALWAYS with a legend containing the single value (formatted with 0.2F). If using a <field> where semantic_type=date, YOU MUST APPLY the following transform before using that column i) convert date fields to date types using data[''] = pd.to_datetime(data[<field>], errors='coerce'), ALWAYS use  errors='coerce' ii) drop the rows with NaT values data = data[pd.notna(data[<field>])] iii) convert field to right time format for plotting.  ALWAYS make sure the x-axis labels are legible (e.g., rotate when needed). Solve the task  carefully by completing ONLY the <imports> AND <stub> section. Given the dataset summary, the plot(data) method should generate a {library} chart ({goal.visualization}) that addresses this goal: {goal.question}. DO NOT WRITE ANY CODE TO LOAD THE DATA. The data is already loaded and available in the variable data.\"\n",
    "\n",
    "        matplotlib_instructions = f\" {general_instructions} DO NOT include plt.show(). The plot method must return a matplotlib object (plt). Think step by step. \\n\"\n",
    "\n",
    "        if library == \"matplotlib\":\n",
    "            instructions = {\n",
    "                \"role\": \"assistant\",\n",
    "                \"content\": f\"  {matplotlib_instructions}. Use BaseMap for charts that require a map. \"}\n",
    "            template = \\\n",
    "                f\"\"\"\n",
    "import matplotlib.pyplot as plt\n",
    "import pandas as pd\n",
    "<imports>\n",
    "# plan -\n",
    "def plot(data: pd.DataFrame):\n",
    "    <stub> # only modify this section\n",
    "    plt.title('{goal.question}', wrap=True)\n",
    "    return plt;\n",
    "\n",
    "chart = plot(data) # data already contains the data to be plotted. Always include this line. No additional code beyond this line.\"\"\"\n",
    "        else:\n",
    "            raise ValueError(\"Unsupported library. Only 'matplotlib' is supported.\")\n",
    "        return template, instructions\n",
    "\n"
   ]
  },
  {
   "cell_type": "code",
   "execution_count": null,
   "metadata": {},
   "outputs": [],
   "source": [
    "system_prompt = \"\"\"\n",
    "You are a helpful assistant highly skilled in writing PERFECT code for visualizations. Given some code template, you complete the template to generate a visualization given the dataset and the goal described. The code you write MUST FOLLOW VISUALIZATION BEST PRACTICES ie. meet the specified goal, apply the right transformation, use the right visualization type, use the right data encoding, and use the right aesthetics (e.g., ensure axis are legible). The transformations you apply MUST be correct and the fields you use MUST be correct. The visualization CODE MUST BE CORRECT and MUST NOT CONTAIN ANY SYNTAX OR LOGIC ERRORS (e.g., it must consider the field types and use them correctly). You MUST first generate a brief plan for how you would solve the task e.g. what transformations you would apply e.g. if you need to construct a new column, what fields you would use, what visualization type you would use, what aesthetics you would use, etc. .\n",
    "\"\"\""
   ]
  },
  {
   "cell_type": "code",
   "execution_count": null,
   "metadata": {},
   "outputs": [],
   "source": [
    "print(system_prompt)"
   ]
  },
  {
   "cell_type": "code",
   "execution_count": null,
   "metadata": {},
   "outputs": [],
   "source": []
  },
  {
   "cell_type": "code",
   "execution_count": null,
   "metadata": {},
   "outputs": [],
   "source": []
  },
  {
   "cell_type": "code",
   "execution_count": null,
   "metadata": {},
   "outputs": [],
   "source": []
  }
 ],
 "metadata": {
  "kernelspec": {
   "display_name": "llm",
   "language": "python",
   "name": "python3"
  },
  "language_info": {
   "codemirror_mode": {
    "name": "ipython",
    "version": 3
   },
   "file_extension": ".py",
   "mimetype": "text/x-python",
   "name": "python",
   "nbconvert_exporter": "python",
   "pygments_lexer": "ipython3",
   "version": "3.11.5"
  }
 },
 "nbformat": 4,
 "nbformat_minor": 2
}
