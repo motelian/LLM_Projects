{
 "cells": [
  {
   "cell_type": "code",
   "execution_count": 8,
   "metadata": {},
   "outputs": [],
   "source": [
    "import os\n",
    "import re\n",
    "import time\n",
    "import json\n",
    "import openai\n",
    "import numpy as np\n",
    "import traceback\n",
    "import matplotlib.pyplot as plt\n",
    "from dotenv import load_dotenv, find_dotenv\n",
    "\n",
    "import langchain.chat_models\n",
    "import langchain.schema\n",
    "from langchain.callbacks import get_openai_callback\n",
    "from langchain import OpenAI\n",
    "from langchain.schema import (HumanMessage, AIMessage)\n",
    "\n",
    "import pandas as pd\n",
    "pd.set_option('display.max_rows', None)\n",
    "pd.set_option('display.max_columns', None)\n",
    "pd.options.mode.chained_assignment = None\n",
    "\n",
    "_ = load_dotenv(find_dotenv())\n",
    "open_api_key = os.environ[\"OPENAI_API_KEY\"]\n",
    "\n",
    "from openai_textgenerator import TextGenerator\n",
    "from summarizer import Summarizer\n",
    "from datamodel import Message, LLMResponse"
   ]
  },
  {
   "cell_type": "markdown",
   "metadata": {},
   "source": [
    "# Test TextGenerator Class"
   ]
  },
  {
   "cell_type": "code",
   "execution_count": null,
   "metadata": {},
   "outputs": [],
   "source": [
    "config =  {'temperature' : 0, 'max_tokens': 300, 'n': 3}\n",
    "chatbot = TextGenerator()\n",
    "prompt = \"It seems like today is cold in bay area time to get cozy in the house. what do you think?\"\n",
    "messages = [\n",
    "    {\n",
    "        \"role\": \"system\",\n",
    "        \"content\": \"You are a sassy funny assistant tasked to respond in a sarcastic tone\",\n",
    "    },\n",
    "    {\n",
    "        \"role\": \"user\",\n",
    "        \"content\": f\"{prompt}\"\n",
    "    }\n",
    "\n",
    "]\n",
    "res = chatbot.generate(messages=messages, config=config)"
   ]
  },
  {
   "cell_type": "code",
   "execution_count": null,
   "metadata": {},
   "outputs": [],
   "source": [
    "res.text"
   ]
  },
  {
   "cell_type": "markdown",
   "metadata": {},
   "source": [
    "# Test Summerizer Class"
   ]
  },
  {
   "cell_type": "code",
   "execution_count": 5,
   "metadata": {},
   "outputs": [],
   "source": [
    "text_gen_config = {'max_tokens':1000}\n",
    "text_gen = TextGenerator()\n",
    "df = pd.read_excel(\"../data/ROBERT_KING.xlsx\", index_col=0)\n",
    "get_summary = Summarizer()"
   ]
  },
  {
   "cell_type": "code",
   "execution_count": 3,
   "metadata": {},
   "outputs": [],
   "source": [
    "summary_default = get_summary.summarize(data=df, n_samples=3, text_gen=text_gen, textgen_config=text_gen_config, summary_method=\"default\")"
   ]
  },
  {
   "cell_type": "code",
   "execution_count": 4,
   "metadata": {},
   "outputs": [
    {
     "data": {
      "text/plain": [
       "{'name': '',\n",
       " 'file_name': '',\n",
       " 'dataset_description': '',\n",
       " 'fields': [{'column': 'Date',\n",
       "   'properties': {'dtype': 'date',\n",
       "    'min': '2023-08-01',\n",
       "    'max': '2023-11-01',\n",
       "    'samples': ['2023-09-10', '2023-08-23', '2023-09-25'],\n",
       "    'num_unique_values': 93,\n",
       "    'semantic_type': '',\n",
       "    'description': ''}},\n",
       "  {'column': 'Account_Number',\n",
       "   'properties': {'dtype': 'number',\n",
       "    'std': 0,\n",
       "    'min': 1012345678,\n",
       "    'max': 1012345679,\n",
       "    'samples': [1012345679, 1012345678],\n",
       "    'num_unique_values': 2,\n",
       "    'semantic_type': '',\n",
       "    'description': ''}},\n",
       "  {'column': 'Transaction_Type',\n",
       "   'properties': {'dtype': 'category',\n",
       "    'samples': ['ACH', 'Transfer'],\n",
       "    'num_unique_values': 6,\n",
       "    'semantic_type': '',\n",
       "    'description': ''}},\n",
       "  {'column': 'Transaction_Purpose',\n",
       "   'properties': {'dtype': 'category',\n",
       "    'samples': ['Bills & utilities', 'Investment'],\n",
       "    'num_unique_values': 16,\n",
       "    'semantic_type': '',\n",
       "    'description': ''}},\n",
       "  {'column': 'Transaction_Amount',\n",
       "   'properties': {'dtype': 'number',\n",
       "    'std': 67302.40037054197,\n",
       "    'min': -120000.0,\n",
       "    'max': 250000.0,\n",
       "    'samples': [-85.0, -320.5],\n",
       "    'num_unique_values': 69,\n",
       "    'semantic_type': '',\n",
       "    'description': ''}},\n",
       "  {'column': 'Transaction_Description',\n",
       "   'properties': {'dtype': 'string',\n",
       "    'samples': [\"POS PURCHASE #2468 BARRY'S BOOTCAMP PACKAGE SF\",\n",
       "     'ACH DEBIT LEGAL FEES FOR HEDGE FUND A CONSULTATION'],\n",
       "    'num_unique_values': 68,\n",
       "    'semantic_type': '',\n",
       "    'description': ''}}],\n",
       " 'field_names': ['Date',\n",
       "  'Account_Number',\n",
       "  'Transaction_Type',\n",
       "  'Transaction_Purpose',\n",
       "  'Transaction_Amount',\n",
       "  'Transaction_Description']}"
      ]
     },
     "execution_count": 4,
     "metadata": {},
     "output_type": "execute_result"
    }
   ],
   "source": [
    "summary_default"
   ]
  },
  {
   "cell_type": "code",
   "execution_count": 15,
   "metadata": {},
   "outputs": [],
   "source": [
    "summary_llm = get_summary.summarize(data=df, n_samples=3, text_gen=text_gen, textgen_config=text_gen_config, summary_method=\"llm\")"
   ]
  },
  {
   "cell_type": "code",
   "execution_count": 16,
   "metadata": {},
   "outputs": [
    {
     "data": {
      "text/plain": [
       "{'name': 'Bank Transactions',\n",
       " 'file_name': '',\n",
       " 'dataset_description': 'A dataset containing bank transactions',\n",
       " 'fields': [{'column': 'Date',\n",
       "   'properties': {'dtype': 'date',\n",
       "    'min': '2023-08-01',\n",
       "    'max': '2023-11-01',\n",
       "    'samples': ['2023-09-10', '2023-08-23', '2023-09-25'],\n",
       "    'num_unique_values': 93,\n",
       "    'semantic_type': 'date',\n",
       "    'description': 'The date of the transaction'}},\n",
       "  {'column': 'Account_Number',\n",
       "   'properties': {'dtype': 'number',\n",
       "    'std': 0,\n",
       "    'min': 1012345678,\n",
       "    'max': 1012345679,\n",
       "    'samples': [1012345679, 1012345678],\n",
       "    'num_unique_values': 2,\n",
       "    'semantic_type': 'account_number',\n",
       "    'description': 'The account number associated with the transaction'}},\n",
       "  {'column': 'Transaction_Type',\n",
       "   'properties': {'dtype': 'category',\n",
       "    'samples': ['ACH', 'Transfer'],\n",
       "    'num_unique_values': 6,\n",
       "    'semantic_type': 'transaction_type',\n",
       "    'description': 'The type of transaction'}},\n",
       "  {'column': 'Transaction_Purpose',\n",
       "   'properties': {'dtype': 'category',\n",
       "    'samples': ['Bills & utilities', 'Investment'],\n",
       "    'num_unique_values': 16,\n",
       "    'semantic_type': 'transaction_purpose',\n",
       "    'description': 'The purpose of the transaction'}},\n",
       "  {'column': 'Transaction_Amount',\n",
       "   'properties': {'dtype': 'number',\n",
       "    'std': 67302.40037054197,\n",
       "    'min': -120000.0,\n",
       "    'max': 250000.0,\n",
       "    'samples': [-85.0, -320.5],\n",
       "    'num_unique_values': 69,\n",
       "    'semantic_type': 'transaction_amount',\n",
       "    'description': 'The amount of the transaction'}},\n",
       "  {'column': 'Transaction_Description',\n",
       "   'properties': {'dtype': 'string',\n",
       "    'samples': [\"POS PURCHASE #2468 BARRY'S BOOTCAMP PACKAGE SF\",\n",
       "     'ACH DEBIT LEGAL FEES FOR HEDGE FUND A CONSULTATION'],\n",
       "    'num_unique_values': 68,\n",
       "    'semantic_type': 'transaction_description',\n",
       "    'description': 'The description of the transaction'}}],\n",
       " 'field_names': ['Date',\n",
       "  'Account_Number',\n",
       "  'Transaction_Type',\n",
       "  'Transaction_Purpose',\n",
       "  'Transaction_Amount',\n",
       "  'Transaction_Description']}"
      ]
     },
     "execution_count": 16,
     "metadata": {},
     "output_type": "execute_result"
    }
   ],
   "source": [
    "summary_llm"
   ]
  }
 ],
 "metadata": {
  "kernelspec": {
   "display_name": "llm",
   "language": "python",
   "name": "python3"
  },
  "language_info": {
   "codemirror_mode": {
    "name": "ipython",
    "version": 3
   },
   "file_extension": ".py",
   "mimetype": "text/x-python",
   "name": "python",
   "nbconvert_exporter": "python",
   "pygments_lexer": "ipython3",
   "version": "3.11.5"
  }
 },
 "nbformat": 4,
 "nbformat_minor": 2
}
