{
 "cells": [
  {
   "cell_type": "code",
   "execution_count": 1,
   "metadata": {},
   "outputs": [],
   "source": [
    "import os\n",
    "import re\n",
    "import time\n",
    "import json\n",
    "import openai\n",
    "import numpy as np\n",
    "import traceback\n",
    "import matplotlib.pyplot as plt\n",
    "from dotenv import load_dotenv, find_dotenv\n",
    "\n",
    "import langchain.chat_models\n",
    "import langchain.schema\n",
    "from langchain.callbacks import get_openai_callback\n",
    "from langchain import OpenAI\n",
    "from langchain.schema import (HumanMessage, AIMessage)\n",
    "\n",
    "import pandas as pd\n",
    "pd.set_option('display.max_rows', None)\n",
    "pd.set_option('display.max_columns', None)\n",
    "pd.options.mode.chained_assignment = None\n",
    "\n",
    "_ = load_dotenv(find_dotenv())\n",
    "open_api_key = os.environ[\"OPENAI_API_KEY\"]\n",
    "\n",
    "from openai_textgen import TextGenerator\n",
    "from summarizer import Summarizer\n",
    "from datamodel import Message, LLMResponse, Summary"
   ]
  },
  {
   "cell_type": "markdown",
   "metadata": {},
   "source": [
    "# Test TextGenerator Class"
   ]
  },
  {
   "cell_type": "code",
   "execution_count": 2,
   "metadata": {},
   "outputs": [
    {
     "data": {
      "text/plain": [
       "[Message(role='assistant', content=\"Oh, absolutely! Because who doesn't love freezing their buns off in the comfort of their own home? It's just so much fun to bundle up in layers upon layers and hibernate like a bear until the sun decides to grace us with its presence again. So cozy, I can hardly contain my excitement!\"),\n",
       " Message(role='assistant', content=\"Oh, absolutely! Because who doesn't love freezing their buns off in the comfort of their own home? It's just so much fun to bundle up in layers upon layers and hibernate like a bear until the sun decides to grace us with its presence again. So cozy, I can hardly contain my excitement!\"),\n",
       " Message(role='assistant', content=\"Oh, absolutely! Because who doesn't love freezing their buns off in the comfort of their own home? It's just so much fun to bundle up in layers upon layers and hibernate like a bear until the sun decides to grace us with its presence again. So cozy, I can hardly contain my excitement!\")]"
      ]
     },
     "execution_count": 2,
     "metadata": {},
     "output_type": "execute_result"
    }
   ],
   "source": [
    "config =  {'temperature' : 0, 'max_tokens': 300, 'n': 3}\n",
    "chatbot = TextGenerator()\n",
    "prompt = \"It seems like today is cold in bay area time to get cozy in the house. what do you think?\"\n",
    "messages = [\n",
    "    {\n",
    "        \"role\": \"system\",\n",
    "        \"content\": \"You are a sassy funny assistant tasked to respond in a sarcastic tone\",\n",
    "    },\n",
    "    {\n",
    "        \"role\": \"user\",\n",
    "        \"content\": f\"{prompt}\"\n",
    "    }\n",
    "]\n",
    "res = chatbot.generate(messages=messages, config=config)\n",
    "res.text"
   ]
  },
  {
   "cell_type": "markdown",
   "metadata": {},
   "source": [
    "# Test Summerizer Class"
   ]
  },
  {
   "cell_type": "code",
   "execution_count": 3,
   "metadata": {},
   "outputs": [],
   "source": [
    "text_gen_config = {'max_tokens':2000}\n",
    "text_gen = TextGenerator()\n",
    "df = pd.read_excel(\"../data/ROBERT_KING.xlsx\", index_col=0)\n",
    "get_summary = Summarizer()"
   ]
  },
  {
   "cell_type": "code",
   "execution_count": 4,
   "metadata": {},
   "outputs": [
    {
     "data": {
      "text/markdown": [
       "\n",
       "## Dataset Summary\n",
       "\n",
       "---\n",
       "\n",
       "**Name:** \n",
       "\n",
       "**File Name:** \n",
       "\n",
       "**Dataset Description:**\n",
       "\n",
       "\n",
       "\n",
       "**Fields:**\n",
       "\n",
       "- **Date:** {'column': 'Date', 'properties': {'dtype': 'date', 'min': '2023-08-01', 'max': '2023-11-01', 'samples': ['2023-09-10', '2023-08-23', '2023-09-25'], 'num_unique_values': 93, 'semantic_type': '', 'description': ''}}\n",
       "- **Account_Number:** {'column': 'Account_Number', 'properties': {'dtype': 'number', 'std': 0, 'min': 1012345678, 'max': 1012345679, 'samples': [1012345679, 1012345678], 'num_unique_values': 2, 'semantic_type': '', 'description': ''}}\n",
       "- **Transaction_Type:** {'column': 'Transaction_Type', 'properties': {'dtype': 'category', 'samples': ['ACH', 'Transfer'], 'num_unique_values': 6, 'semantic_type': '', 'description': ''}}\n",
       "- **Transaction_Purpose:** {'column': 'Transaction_Purpose', 'properties': {'dtype': 'category', 'samples': ['Bills & utilities', 'Investment'], 'num_unique_values': 16, 'semantic_type': '', 'description': ''}}\n",
       "- **Transaction_Amount:** {'column': 'Transaction_Amount', 'properties': {'dtype': 'number', 'std': 67302.40037054197, 'min': -120000.0, 'max': 250000.0, 'samples': [-85.0, -320.5], 'num_unique_values': 69, 'semantic_type': '', 'description': ''}}\n",
       "- **Transaction_Description:** {'column': 'Transaction_Description', 'properties': {'dtype': 'string', 'samples': [\"POS PURCHASE #2468 BARRY'S BOOTCAMP PACKAGE SF\", 'ACH DEBIT LEGAL FEES FOR HEDGE FUND A CONSULTATION'], 'num_unique_values': 68, 'semantic_type': '', 'description': ''}}\n"
      ],
      "text/plain": [
       "Summary(name='', file_name='', dataset_description='', field_names=['Date', 'Account_Number', 'Transaction_Type', 'Transaction_Purpose', 'Transaction_Amount', 'Transaction_Description'], fields=[{'column': 'Date', 'properties': {'dtype': 'date', 'min': '2023-08-01', 'max': '2023-11-01', 'samples': ['2023-09-10', '2023-08-23', '2023-09-25'], 'num_unique_values': 93, 'semantic_type': '', 'description': ''}}, {'column': 'Account_Number', 'properties': {'dtype': 'number', 'std': 0, 'min': 1012345678, 'max': 1012345679, 'samples': [1012345679, 1012345678], 'num_unique_values': 2, 'semantic_type': '', 'description': ''}}, {'column': 'Transaction_Type', 'properties': {'dtype': 'category', 'samples': ['ACH', 'Transfer'], 'num_unique_values': 6, 'semantic_type': '', 'description': ''}}, {'column': 'Transaction_Purpose', 'properties': {'dtype': 'category', 'samples': ['Bills & utilities', 'Investment'], 'num_unique_values': 16, 'semantic_type': '', 'description': ''}}, {'column': 'Transaction_Amount', 'properties': {'dtype': 'number', 'std': 67302.40037054197, 'min': -120000.0, 'max': 250000.0, 'samples': [-85.0, -320.5], 'num_unique_values': 69, 'semantic_type': '', 'description': ''}}, {'column': 'Transaction_Description', 'properties': {'dtype': 'string', 'samples': [\"POS PURCHASE #2468 BARRY'S BOOTCAMP PACKAGE SF\", 'ACH DEBIT LEGAL FEES FOR HEDGE FUND A CONSULTATION'], 'num_unique_values': 68, 'semantic_type': '', 'description': ''}}])"
      ]
     },
     "metadata": {},
     "output_type": "display_data"
    }
   ],
   "source": [
    "summary_default = get_summary.summarize(data=df, n_samples=3, text_gen=text_gen, textgen_config=text_gen_config, summary_method=\"default\")\n",
    "display(Summary(**summary_default))"
   ]
  },
  {
   "cell_type": "code",
   "execution_count": 5,
   "metadata": {},
   "outputs": [
    {
     "data": {
      "text/markdown": [
       "\n",
       "## Dataset Summary\n",
       "\n",
       "---\n",
       "\n",
       "**Name:** Bank Transactions\n",
       "\n",
       "**File Name:** \n",
       "\n",
       "**Dataset Description:**\n",
       "\n",
       "A dataset containing bank transactions\n",
       "\n",
       "**Fields:**\n",
       "\n",
       "- **Date:** {'column': 'Date', 'properties': {'dtype': 'date', 'min': '2023-08-01', 'max': '2023-11-01', 'samples': ['2023-09-10', '2023-08-23', '2023-09-25'], 'num_unique_values': 93, 'semantic_type': 'date', 'description': 'The date of the transaction'}}\n",
       "- **Account_Number:** {'column': 'Account_Number', 'properties': {'dtype': 'number', 'std': 0, 'min': 1012345678, 'max': 1012345679, 'samples': [1012345679, 1012345678], 'num_unique_values': 2, 'semantic_type': 'account_number', 'description': 'The account number associated with the transaction'}}\n",
       "- **Transaction_Type:** {'column': 'Transaction_Type', 'properties': {'dtype': 'category', 'samples': ['ACH', 'Transfer'], 'num_unique_values': 6, 'semantic_type': 'transaction_type', 'description': 'The type of transaction'}}\n",
       "- **Transaction_Purpose:** {'column': 'Transaction_Purpose', 'properties': {'dtype': 'category', 'samples': ['Bills & utilities', 'Investment'], 'num_unique_values': 16, 'semantic_type': 'transaction_purpose', 'description': 'The purpose of the transaction'}}\n",
       "- **Transaction_Amount:** {'column': 'Transaction_Amount', 'properties': {'dtype': 'number', 'std': 67302.40037054197, 'min': -120000.0, 'max': 250000.0, 'samples': [-85.0, -320.5], 'num_unique_values': 69, 'semantic_type': 'transaction_amount', 'description': 'The amount of the transaction'}}\n",
       "- **Transaction_Description:** {'column': 'Transaction_Description', 'properties': {'dtype': 'string', 'samples': [\"POS PURCHASE #2468 BARRY'S BOOTCAMP PACKAGE SF\", 'ACH DEBIT LEGAL FEES FOR HEDGE FUND A CONSULTATION'], 'num_unique_values': 68, 'semantic_type': 'transaction_description', 'description': 'The description of the transaction'}}\n"
      ],
      "text/plain": [
       "Summary(name='Bank Transactions', file_name='', dataset_description='A dataset containing bank transactions', field_names=['Date', 'Account_Number', 'Transaction_Type', 'Transaction_Purpose', 'Transaction_Amount', 'Transaction_Description'], fields=[{'column': 'Date', 'properties': {'dtype': 'date', 'min': '2023-08-01', 'max': '2023-11-01', 'samples': ['2023-09-10', '2023-08-23', '2023-09-25'], 'num_unique_values': 93, 'semantic_type': 'date', 'description': 'The date of the transaction'}}, {'column': 'Account_Number', 'properties': {'dtype': 'number', 'std': 0, 'min': 1012345678, 'max': 1012345679, 'samples': [1012345679, 1012345678], 'num_unique_values': 2, 'semantic_type': 'account_number', 'description': 'The account number associated with the transaction'}}, {'column': 'Transaction_Type', 'properties': {'dtype': 'category', 'samples': ['ACH', 'Transfer'], 'num_unique_values': 6, 'semantic_type': 'transaction_type', 'description': 'The type of transaction'}}, {'column': 'Transaction_Purpose', 'properties': {'dtype': 'category', 'samples': ['Bills & utilities', 'Investment'], 'num_unique_values': 16, 'semantic_type': 'transaction_purpose', 'description': 'The purpose of the transaction'}}, {'column': 'Transaction_Amount', 'properties': {'dtype': 'number', 'std': 67302.40037054197, 'min': -120000.0, 'max': 250000.0, 'samples': [-85.0, -320.5], 'num_unique_values': 69, 'semantic_type': 'transaction_amount', 'description': 'The amount of the transaction'}}, {'column': 'Transaction_Description', 'properties': {'dtype': 'string', 'samples': [\"POS PURCHASE #2468 BARRY'S BOOTCAMP PACKAGE SF\", 'ACH DEBIT LEGAL FEES FOR HEDGE FUND A CONSULTATION'], 'num_unique_values': 68, 'semantic_type': 'transaction_description', 'description': 'The description of the transaction'}}])"
      ]
     },
     "metadata": {},
     "output_type": "display_data"
    }
   ],
   "source": [
    "summary_llm = get_summary.summarize(data=df, n_samples=3, text_gen=text_gen, textgen_config=text_gen_config, summary_method=\"llm\")\n",
    "display(Summary(**summary_llm))"
   ]
  },
  {
   "cell_type": "markdown",
   "metadata": {},
   "source": [
    "# Test Vizualization Goal Generation"
   ]
  },
  {
   "cell_type": "code",
   "execution_count": 6,
   "metadata": {},
   "outputs": [],
   "source": [
    "import json\n",
    "import logging\n",
    "from utils import clean_code_snippet\n",
    "from openai_textgen import TextGenerator\n",
    "from datamodel import Goal, Persona\n",
    "\n",
    "SYSTEM_INSTRUCTIONS = \"\"\"\n",
    "You are a an experienced data analyst who can generate a given number of insightful GOALS about data, when given a summary of the data, and a specified persona. The VISUALIZATIONS YOU RECOMMEND MUST FOLLOW VISUALIZATION BEST PRACTICES (e.g., must use bar charts instead of pie charts for comparing quantities) AND BE MEANINGFUL (e.g., plot longitude and latitude on maps where appropriate). They must also be relevant to the specified persona. Each goal must include a question, a visualization (THE VISUALIZATION MUST REFERENCE THE EXACT COLUMN FIELDS FROM THE SUMMARY), and a rationale (JUSTIFICATION FOR WHICH dataset FIELDS ARE USED and what we will learn from the visualization). Each goal MUST mention the exact fields from the dataset summary above\n",
    "\"\"\"\n",
    "\n",
    "FORMAT_INSTRUCTIONS = \"\"\"\n",
    "THE OUTPUT MUST BE A CODE SNIPPET OF A VALID LIST OF JSON OBJECTS. IT MUST USE THE FOLLOWING FORMAT:\n",
    "\n",
    "```[\n",
    "    { \"index\": 0,  \"question\": \"What is the distribution of X\", \"visualization\": \"histogram of X\", \"rationale\": \"This tells about \"} ..\n",
    "    ]\n",
    "```\n",
    "THE OUTPUT SHOULD ONLY USE THE JSON FORMAT ABOVE.\n",
    "\"\"\"\n",
    "\n",
    "logger = logging.getLogger(\"chat2vis\")\n",
    "\n",
    "\n",
    "class GoalExplorer():\n",
    "    \"\"\"Generat goals given a summary of data\"\"\"\n",
    "\n",
    "    def __init__(self) -> None:\n",
    "        pass\n",
    "\n",
    "    def generate(self, summary: dict, textgen_config: dict,\n",
    "                 text_gen: TextGenerator, n=5, persona: Persona = None) -> list[Goal]:\n",
    "        \"\"\"Generate goals given a summary of data\"\"\"\n",
    "\n",
    "        user_prompt = f\"\"\"The number of GOALS to generate is {n}. The goals should be based on the data summary below, \\n\\n .\n",
    "        {summary} \\n\\n\"\"\"\n",
    "\n",
    "        if not persona:\n",
    "            persona = Persona(\n",
    "                persona=\"A highly skilled data analyst who can come up with complex, insightful goals about data\",\n",
    "                rationale=\"\")\n",
    "\n",
    "        user_prompt += f\"\"\"\\n The generated goals SHOULD BE FOCUSED ON THE INTERESTS AND PERSPECTIVE of a '{persona.persona} persona, who is insterested in complex, insightful goals about the data. \\n\"\"\"\n",
    "\n",
    "        messages = [\n",
    "            {\"role\": \"system\", \"content\": SYSTEM_INSTRUCTIONS},\n",
    "            {\"role\": \"assistant\",\n",
    "             \"content\":\n",
    "             f\"{user_prompt}\\n\\n {FORMAT_INSTRUCTIONS} \\n\\n. The generated {n} goals are: \\n \"}]\n",
    "\n",
    "        result: list[Goal] = text_gen.generate(messages=messages, config=textgen_config)\n",
    "\n",
    "        try:\n",
    "            json_string = clean_code_snippet(result.text[0].content)\n",
    "            result = json.loads(json_string)\n",
    "            # cast each item in the list to a Goal object\n",
    "            if isinstance(result, dict):\n",
    "                result = [result]\n",
    "            result = [Goal(**x) for x in result]\n",
    "        except json.decoder.JSONDecodeError:\n",
    "            logger.info(f\"Error decoding JSON: {result.text[0].content}\")\n",
    "            print(f\"Error decoding JSON: {result.text[0].content}\")\n",
    "            raise ValueError(\n",
    "                \"The model did not return a valid JSON object while attempting generate goals. Consider using a larger model or a model with higher max token length.\")\n",
    "        return result"
   ]
  },
  {
   "cell_type": "code",
   "execution_count": 7,
   "metadata": {},
   "outputs": [
    {
     "data": {
      "text/markdown": [
       "\n",
       "### Goal 0\n",
       "---\n",
       "**Question:** What is the distribution of transaction amounts?\n",
       "\n",
       "**Visualization:** `histogram of Transaction_Amount`\n",
       "\n",
       "**Rationale:** This visualization will show the frequency and range of transaction amounts, allowing us to understand the distribution of transaction amounts in the dataset. This can help identify any outliers or patterns in the transaction amounts.\n"
      ],
      "text/plain": [
       "Goal(question='What is the distribution of transaction amounts?', visualization='histogram of Transaction_Amount', rationale='This visualization will show the frequency and range of transaction amounts, allowing us to understand the distribution of transaction amounts in the dataset. This can help identify any outliers or patterns in the transaction amounts.', index=0)"
      ]
     },
     "metadata": {},
     "output_type": "display_data"
    },
    {
     "data": {
      "text/markdown": [
       "\n",
       "### Goal 1\n",
       "---\n",
       "**Question:** What are the most common transaction types?\n",
       "\n",
       "**Visualization:** `bar chart of Transaction_Type`\n",
       "\n",
       "**Rationale:** By visualizing the transaction types in a bar chart, we can easily identify the most common transaction types. This can provide insights into the most frequently occurring transaction types and help identify any trends or patterns in the data.\n"
      ],
      "text/plain": [
       "Goal(question='What are the most common transaction types?', visualization='bar chart of Transaction_Type', rationale='By visualizing the transaction types in a bar chart, we can easily identify the most common transaction types. This can provide insights into the most frequently occurring transaction types and help identify any trends or patterns in the data.', index=1)"
      ]
     },
     "metadata": {},
     "output_type": "display_data"
    },
    {
     "data": {
      "text/markdown": [
       "\n",
       "### Goal 2\n",
       "---\n",
       "**Question:** What is the distribution of transaction purposes?\n",
       "\n",
       "**Visualization:** `bar chart of Transaction_Purpose`\n",
       "\n",
       "**Rationale:** By visualizing the transaction purposes in a bar chart, we can understand the distribution of transaction purposes. This can help identify the most common transaction purposes and provide insights into the different categories of transactions in the dataset.\n"
      ],
      "text/plain": [
       "Goal(question='What is the distribution of transaction purposes?', visualization='bar chart of Transaction_Purpose', rationale='By visualizing the transaction purposes in a bar chart, we can understand the distribution of transaction purposes. This can help identify the most common transaction purposes and provide insights into the different categories of transactions in the dataset.', index=2)"
      ]
     },
     "metadata": {},
     "output_type": "display_data"
    }
   ],
   "source": [
    "text_gen_config = {'max_tokens':2000}\n",
    "text_gen = TextGenerator(model_name='gpt-3.5-turbo')\n",
    "df = pd.read_excel(\"../data/ROBERT_KING.xlsx\", index_col=0)\n",
    "goals_explorer = GoalExplorer()\n",
    "goals = goals_explorer.generate(summary=summary_llm, textgen_config=text_gen_config, text_gen=text_gen, n=3)\n",
    "for goal in goals:\n",
    "    display(goal)"
   ]
  },
  {
   "cell_type": "markdown",
   "metadata": {},
   "source": [
    "# Test Visualization Generator"
   ]
  },
  {
   "cell_type": "code",
   "execution_count": 8,
   "metadata": {},
   "outputs": [],
   "source": [
    "from openai_textgen import TextGenerator\n",
    "from datamodel import Goal, LLMResponse\n",
    "\n",
    "\n",
    "system_prompt = \"\"\"\n",
    "You are a helpful assistant highly skilled in writing PERFECT code for visualizations. Given some code template, you complete the template to generate a visualization given the dataset and the goal described. The code you write MUST FOLLOW VISUALIZATION BEST PRACTICES ie. meet the specified goal, apply the right transformation, use the right visualization type, use the right data encoding, and use the right aesthetics (e.g., ensure axis are legible). The transformations you apply MUST be correct and the fields you use MUST be correct. The visualization CODE MUST BE CORRECT and MUST NOT CONTAIN ANY SYNTAX OR LOGIC ERRORS (e.g., it must consider the field types and use them correctly). You MUST first generate a brief plan for how you would solve the task e.g. what transformations you would apply e.g. if you need to construct a new column, what fields you would use, what visualization type you would use, what aesthetics you would use, etc. .\n",
    "\"\"\"\n",
    "\n",
    "class VizGenerator:\n",
    "    \"\"\"Generate visualizations from prompt\"\"\"\n",
    "    def __init__(self) -> None:\n",
    "        pass\n",
    "\n",
    "    def get_template(self, goal: str, library: str = 'matplotlib'):\n",
    "        general_instructions = f\"If the solution requires a single value (e.g. max, min, median, first, last etc), ALWAYS add a line (axvline or axhline) to the chart, ALWAYS with a legend containing the single value (formatted with 0.2F). If using a <field> where semantic_type=date, YOU MUST APPLY the following transform before using that column i) convert date fields to date types using data[''] = pd.to_datetime(data[<field>], errors='coerce'), ALWAYS use  errors='coerce' ii) drop the rows with NaT values data = data[pd.notna(data[<field>])] iii) convert field to right time format for plotting.  ALWAYS make sure the x-axis labels are legible (e.g., rotate when needed). Solve the task  carefully by completing ONLY the <imports> AND <stub> section. Given the dataset summary, the plot(data) method should generate a {library} chart ({goal.visualization}) that addresses this goal: {goal.question}. DO NOT WRITE ANY CODE TO LOAD THE DATA. The data is already loaded and available in the variable data.\"\n",
    "\n",
    "        matplotlib_instructions = f\"{general_instructions} DO NOT include plt.show(). The plot method must return a matplotlib object (plt). Think step by step. \\n\"\n",
    "\n",
    "        if library == \"matplotlib\":\n",
    "            instructions = {\n",
    "                \"role\": \"assistant\",\n",
    "                \"content\": f\"  {matplotlib_instructions}. Use BaseMap for charts that require a map. \"}\n",
    "            template = \\\n",
    "                f\"\"\"\n",
    "import matplotlib.pyplot as plt\n",
    "import pandas as pd\n",
    "<imports>\n",
    "# plan -\n",
    "def plot(data: pd.DataFrame):\n",
    "    <stub> # only modify this section\n",
    "    plt.title('{goal.question}', wrap=True)\n",
    "    return plt;\n",
    "\n",
    "chart = plot(data) # data already contains the data to be plotted. Always include this line. No additional code beyond this line.\"\"\"\n",
    "        else:\n",
    "            raise ValueError(\"Unsupported library. Only 'matplotlib' is supported.\")\n",
    "        return template, instructions\n",
    "    \n",
    "\n",
    "    def generate(self, summary: dict, goal: Goal,\n",
    "                 textgen_config: dict, text_gen: TextGenerator, library='matplotlib'):\n",
    "        \"\"\"Generate visualization code given a summary and a goal\"\"\"\n",
    "\n",
    "        library_template, library_instructions = self.get_template(goal, library)\n",
    "        messages = [\n",
    "            {\"role\": \"system\", \"content\": system_prompt},\n",
    "            {\"role\": \"system\", \"content\": f\"The dataset summary is : {summary} \\n\\n\"},\n",
    "            library_instructions,\n",
    "            {\"role\": \"user\",\n",
    "             \"content\":\n",
    "             f\"Always add a legend with various colors where appropriate. The visualization code MUST only use data fields that exist in the dataset (field_names) or fields that are transformations based on existing field_names. Only use variables that have been defined in the code or are in the dataset summary. You MUST return a FULL PYTHON PROGRAM ENCLOSED IN BACKTICKS ``` that starts with an import statement. DO NOT add any explanation. \\n\\n THE GENERATED CODE SOLUTION SHOULD BE CREATED BY MODIFYING THE SPECIFIED PARTS OF THE TEMPLATE BELOW \\n\\n {library_template} \\n\\n.The FINAL COMPLETED CODE BASED ON THE TEMPLATE above is ... \\n\\n\"}]\n",
    "        \n",
    "        self.messages = messages\n",
    "\n",
    "        completions: LLMResponse = text_gen.generate(\n",
    "            messages=messages, config=textgen_config)\n",
    "        response = [x.content for x in completions.text]\n",
    "\n",
    "        return response\n",
    "\n"
   ]
  },
  {
   "cell_type": "code",
   "execution_count": 9,
   "metadata": {},
   "outputs": [],
   "source": [
    "question = \"analyze the distribution of transaction amounts across different transaction types\"\n",
    "text_gen_config = {'max_tokens':2000}\n",
    "text_gen = TextGenerator(model_name='gpt-3.5-turbo')\n",
    "df = pd.read_excel(\"../data/ROBERT_KING.xlsx\", index_col=0)\n",
    "viz_gen = VizGenerator()\n",
    "viz_code = viz_gen.generate(summary=summary_llm, goal=Goal(question=question, visualization=question, rationale=\"\"),textgen_config=text_gen_config, text_gen=text_gen)"
   ]
  },
  {
   "cell_type": "markdown",
   "metadata": {},
   "source": [
    "# Test Executing the plot"
   ]
  },
  {
   "cell_type": "code",
   "execution_count": 10,
   "metadata": {},
   "outputs": [],
   "source": [
    "\n",
    "import base64\n",
    "import io\n",
    "import traceback\n",
    "from typing import Any, List\n",
    "import matplotlib.pyplot as plt\n",
    "import pandas as pd\n",
    "from datamodel import ChartExecutorResponse, Summary\n",
    "from utils import preprocess_code, get_globals_dict\n",
    "\n",
    "\n",
    "class ChartExecutor:\n",
    "    \"\"\"Execute code and return chart object\"\"\"\n",
    "\n",
    "    def __init__(self) -> None:\n",
    "        pass\n",
    "\n",
    "    def execute(\n",
    "        self,\n",
    "        code_specs: List[str],\n",
    "        data: Any,\n",
    "        library=\"matplotlib\",\n",
    "        return_error: bool = False,\n",
    "    ) -> Any:\n",
    "        \"\"\"Validate and convert code\"\"\"\n",
    "\n",
    "        charts = []\n",
    "        code_spec_copy = code_specs.copy()\n",
    "        code_specs = [preprocess_code(code) for code in code_specs]\n",
    "        if library == \"matplotlib\":\n",
    "            for code in code_specs:\n",
    "                try:\n",
    "                    ex_locals = get_globals_dict(code, data)\n",
    "                    # print(ex_locals)\n",
    "                    exec(code, ex_locals)\n",
    "                    chart = ex_locals[\"chart\"]\n",
    "                    if plt:\n",
    "                        # hold the image data in the memory\n",
    "                        buf = io.BytesIO()\n",
    "                        plt.box(False)\n",
    "                        plt.grid(color=\"lightgray\", linestyle=\"dashed\", zorder=-10)\n",
    "                        plt.tight_layout()\n",
    "                        # try:\n",
    "                        #     plt.draw()\n",
    "                        #     # plt.tight_layout()\n",
    "                        # except AttributeError:\n",
    "                        #     print(\"Warning: tight_layout encountered an error. The layout may not be optimal.\")\n",
    "                        #     pass\n",
    "\n",
    "                        plt.savefig(buf, format=\"png\", dpi=100, pad_inches=3)\n",
    "                        buf.seek(0)\n",
    "                        # now the conent of the buffer is (containig the image data) are read and encoded into base64 format in text form which can be used stored or transmitted over the web\n",
    "                        plot_data = base64.b64encode(buf.read()).decode(\"ascii\")\n",
    "                        plt.close()\n",
    "                    charts.append(\n",
    "                        ChartExecutorResponse(\n",
    "                            status=True,\n",
    "                            raster=plot_data,\n",
    "                            code=code,\n",
    "                            library=library,\n",
    "                        )\n",
    "                    )\n",
    "                except Exception as exception_error:\n",
    "                    print(code_spec_copy[0])\n",
    "                    print(\"****\\n\", str(exception_error))\n",
    "                    # print(traceback.format_exc())\n",
    "                    if return_error:\n",
    "                        charts.append(\n",
    "                            ChartExecutorResponse(\n",
    "                                status=False,\n",
    "                                raster=None,\n",
    "                                code=code,\n",
    "                                library=library,\n",
    "                                error={\n",
    "                                    \"message\": str(exception_error),\n",
    "                                    \"traceback\": traceback.format_exc(),\n",
    "                                },\n",
    "                            )\n",
    "                        )\n",
    "            return charts\n",
    "        else:\n",
    "            raise Exception(\n",
    "                f\"Unsupported library. Only matplotlib library is supported.\"\n",
    "            )"
   ]
  },
  {
   "cell_type": "code",
   "execution_count": 11,
   "metadata": {},
   "outputs": [
    {
     "data": {
      "image/png": "[encoded data removed]",
      "text/plain": [
       "import matplotlib.pyplot as plt\n",
       "import pandas as pd\n",
       "\n",
       "# plan -\n",
       "def plot(data: pd.DataFrame):\n",
       "    # Group the data by transaction type and calculate the sum of transaction amounts for each type\n",
       "    transaction_amounts = data.groupby('Transaction_Type')['Transaction_Amount'].sum()\n",
       "\n",
       "    # Create a bar plot to visualize the distribution of transaction amounts across different transaction types\n",
       "    transaction_amounts.plot(kind='bar')\n",
       "\n",
       "    # Set the labels and title\n",
       "    plt.xlabel('Transaction Type')\n",
       "    plt.ylabel('Total Transaction Amount')\n",
       "    plt.title('Distribution of Transaction Amounts across Different Transaction Types')\n",
       "\n",
       "    # Add a legend\n",
       "    plt.legend()\n",
       "\n",
       "    return plt\n",
       "\n",
       "chart = plot(data)"
      ]
     },
     "execution_count": 11,
     "metadata": {},
     "output_type": "execute_result"
    }
   ],
   "source": [
    "chart_exec = ChartExecutor()\n",
    "charts = chart_exec.execute(code_specs=viz_code, data=df, return_error=True)\n",
    "charts[0]"
   ]
  },
  {
   "cell_type": "code",
   "execution_count": 14,
   "metadata": {},
   "outputs": [
    {
     "data": {
      "image/png": "[encoded data removed]",
      "text/plain": [
       "import matplotlib.pyplot as plt\n",
       "import pandas as pd\n",
       "\n",
       "# plan -\n",
       "def plot(data: pd.DataFrame):\n",
       "    plt.hist(data['Transaction_Amount'], bins=20, edgecolor='black')\n",
       "    plt.xlabel('Transaction Amount')\n",
       "    plt.ylabel('Frequency')\n",
       "    plt.title('Distribution of Transaction Amounts')\n",
       "    return plt\n",
       "\n",
       "chart = plot(data)"
      ]
     },
     "execution_count": 14,
     "metadata": {},
     "output_type": "execute_result"
    }
   ],
   "source": [
    "question = \"What is the distribution of transaction amounts?\"\n",
    "text_gen_config = {'temperature':0.0}\n",
    "text_gen = TextGenerator(model_name='gpt-3.5-turbo')\n",
    "df = pd.read_excel(\"../data/ROBERT_KING.xlsx\", index_col=0)\n",
    "viz_gen = VizGenerator()\n",
    "viz_code = viz_gen.generate(summary=summary_llm, goal=Goal(question=question, visualization='histogram of Transaction_Amount', rationale=\"\"),textgen_config=text_gen_config, text_gen=text_gen)\n",
    "chart_exec = ChartExecutor()\n",
    "charts = chart_exec.execute(code_specs=viz_code, data=df, return_error=True)\n",
    "charts[0]"
   ]
  },
  {
   "cell_type": "code",
   "execution_count": 13,
   "metadata": {},
   "outputs": [
    {
     "data": {
      "text/plain": [
       "[{'role': 'system',\n",
       "  'content': '\\nYou are a helpful assistant highly skilled in writing PERFECT code for visualizations. Given some code template, you complete the template to generate a visualization given the dataset and the goal described. The code you write MUST FOLLOW VISUALIZATION BEST PRACTICES ie. meet the specified goal, apply the right transformation, use the right visualization type, use the right data encoding, and use the right aesthetics (e.g., ensure axis are legible). The transformations you apply MUST be correct and the fields you use MUST be correct. The visualization CODE MUST BE CORRECT and MUST NOT CONTAIN ANY SYNTAX OR LOGIC ERRORS (e.g., it must consider the field types and use them correctly). You MUST first generate a brief plan for how you would solve the task e.g. what transformations you would apply e.g. if you need to construct a new column, what fields you would use, what visualization type you would use, what aesthetics you would use, etc. .\\n'},\n",
       " {'role': 'system',\n",
       "  'content': 'The dataset summary is : {\\'name\\': \\'Bank Transactions\\', \\'file_name\\': \\'\\', \\'dataset_description\\': \\'A dataset containing bank transactions\\', \\'fields\\': [{\\'column\\': \\'Date\\', \\'properties\\': {\\'dtype\\': \\'date\\', \\'min\\': \\'2023-08-01\\', \\'max\\': \\'2023-11-01\\', \\'samples\\': [\\'2023-09-10\\', \\'2023-08-23\\', \\'2023-09-25\\'], \\'num_unique_values\\': 93, \\'semantic_type\\': \\'date\\', \\'description\\': \\'The date of the transaction\\'}}, {\\'column\\': \\'Account_Number\\', \\'properties\\': {\\'dtype\\': \\'number\\', \\'std\\': 0, \\'min\\': 1012345678, \\'max\\': 1012345679, \\'samples\\': [1012345679, 1012345678], \\'num_unique_values\\': 2, \\'semantic_type\\': \\'account_number\\', \\'description\\': \\'The account number associated with the transaction\\'}}, {\\'column\\': \\'Transaction_Type\\', \\'properties\\': {\\'dtype\\': \\'category\\', \\'samples\\': [\\'ACH\\', \\'Transfer\\'], \\'num_unique_values\\': 6, \\'semantic_type\\': \\'transaction_type\\', \\'description\\': \\'The type of transaction\\'}}, {\\'column\\': \\'Transaction_Purpose\\', \\'properties\\': {\\'dtype\\': \\'category\\', \\'samples\\': [\\'Bills & utilities\\', \\'Investment\\'], \\'num_unique_values\\': 16, \\'semantic_type\\': \\'transaction_purpose\\', \\'description\\': \\'The purpose of the transaction\\'}}, {\\'column\\': \\'Transaction_Amount\\', \\'properties\\': {\\'dtype\\': \\'number\\', \\'std\\': 67302.40037054197, \\'min\\': -120000.0, \\'max\\': 250000.0, \\'samples\\': [-85.0, -320.5], \\'num_unique_values\\': 69, \\'semantic_type\\': \\'transaction_amount\\', \\'description\\': \\'The amount of the transaction\\'}}, {\\'column\\': \\'Transaction_Description\\', \\'properties\\': {\\'dtype\\': \\'string\\', \\'samples\\': [\"POS PURCHASE #2468 BARRY\\'S BOOTCAMP PACKAGE SF\", \\'ACH DEBIT LEGAL FEES FOR HEDGE FUND A CONSULTATION\\'], \\'num_unique_values\\': 68, \\'semantic_type\\': \\'transaction_description\\', \\'description\\': \\'The description of the transaction\\'}}], \\'field_names\\': [\\'Date\\', \\'Account_Number\\', \\'Transaction_Type\\', \\'Transaction_Purpose\\', \\'Transaction_Amount\\', \\'Transaction_Description\\']} \\n\\n'},\n",
       " {'role': 'assistant',\n",
       "  'content': \"  If the solution requires a single value (e.g. max, min, median, first, last etc), ALWAYS add a line (axvline or axhline) to the chart, ALWAYS with a legend containing the single value (formatted with 0.2F). If using a <field> where semantic_type=date, YOU MUST APPLY the following transform before using that column i) convert date fields to date types using data[''] = pd.to_datetime(data[<field>], errors='coerce'), ALWAYS use  errors='coerce' ii) drop the rows with NaT values data = data[pd.notna(data[<field>])] iii) convert field to right time format for plotting.  ALWAYS make sure the x-axis labels are legible (e.g., rotate when needed). Solve the task  carefully by completing ONLY the <imports> AND <stub> section. Given the dataset summary, the plot(data) method should generate a matplotlib chart (Boxplot with median values and outliers in the plot. color the face of the boxes to differentiate between transaction types, and label each box clearly.) that addresses this goal: analyze the distribution of transaction amounts across different transaction types. DO NOT WRITE ANY CODE TO LOAD THE DATA. The data is already loaded and available in the variable data. DO NOT include plt.show(). The plot method must return a matplotlib object (plt). Think step by step. \\n. Use BaseMap for charts that require a map. \"},\n",
       " {'role': 'user',\n",
       "  'content': \"Always add a legend with various colors where appropriate. The visualization code MUST only use data fields that exist in the dataset (field_names) or fields that are transformations based on existing field_names. Only use variables that have been defined in the code or are in the dataset summary. You MUST return a FULL PYTHON PROGRAM ENCLOSED IN BACKTICKS ``` that starts with an import statement. DO NOT add any explanation. \\n\\n THE GENERATED CODE SOLUTION SHOULD BE CREATED BY MODIFYING THE SPECIFIED PARTS OF THE TEMPLATE BELOW \\n\\n \\nimport matplotlib.pyplot as plt\\nimport pandas as pd\\n<imports>\\n# plan -\\ndef plot(data: pd.DataFrame):\\n    <stub> # only modify this section\\n    plt.title('analyze the distribution of transaction amounts across different transaction types', wrap=True)\\n    return plt;\\n\\nchart = plot(data) # data already contains the data to be plotted. Always include this line. No additional code beyond this line. \\n\\n.The FINAL COMPLETED CODE BASED ON THE TEMPLATE above is ... \\n\\n\"}]"
      ]
     },
     "execution_count": 13,
     "metadata": {},
     "output_type": "execute_result"
    }
   ],
   "source": [
    "viz_gen.messages"
   ]
  },
  {
   "cell_type": "markdown",
   "metadata": {},
   "source": [
    "# Test the entire app"
   ]
  },
  {
   "cell_type": "code",
   "execution_count": null,
   "metadata": {},
   "outputs": [],
   "source": []
  }
 ],
 "metadata": {
  "kernelspec": {
   "display_name": "llm",
   "language": "python",
   "name": "python3"
  },
  "language_info": {
   "codemirror_mode": {
    "name": "ipython",
    "version": 3
   },
   "file_extension": ".py",
   "mimetype": "text/x-python",
   "name": "python",
   "nbconvert_exporter": "python",
   "pygments_lexer": "ipython3",
   "version": "3.11.5"
  }
 },
 "nbformat": 4,
 "nbformat_minor": 2
}
