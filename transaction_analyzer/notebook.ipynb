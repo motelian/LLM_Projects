{
 "cells": [
  {
   "cell_type": "code",
   "execution_count": 1,
   "id": "449bc7d4",
   "metadata": {},
   "outputs": [],
   "source": [
    "import openai\n",
    "import os\n",
    "import pandas as pd\n",
    "import numpy as np\n",
    "#pd.set_option('display.max_colwidth', None)\n",
    "pd.set_option(\"max_colwidth\", None)\n",
    "#pd.set_option(\"max_rows\", None)"
   ]
  },
  {
   "cell_type": "code",
   "execution_count": 2,
   "id": "8393fb77",
   "metadata": {},
   "outputs": [],
   "source": [
    "from dotenv import load_dotenv, find_dotenv\n",
    "found = load_dotenv(find_dotenv())\n",
    "if found:\n",
    "    openai.api_key  = os.getenv('OPENAI_API_KEY')\n",
    "else:\n",
    "    print(\"couldn't find the key\")"
   ]
  },
  {
   "cell_type": "markdown",
   "id": "9048d267",
   "metadata": {},
   "source": [
    "## Utility functions"
   ]
  },
  {
   "cell_type": "code",
   "execution_count": 3,
   "id": "24cd57b7",
   "metadata": {},
   "outputs": [],
   "source": [
    "def get_completion(prompt_template,\n",
    "                   input_text=None,\n",
    "                   system_prompt=None,\n",
    "                   model=\"gpt-3.5-turbo\",\n",
    "                   max_tokens=250,\n",
    "                   temperature=0,\n",
    "                   top_p=1,\n",
    "                   frequency_penalty=0,\n",
    "                   presence_penalty=0, \n",
    "                   verbose=False):\n",
    "    ''' openai chat completion object '''\n",
    "    \n",
    "    prompt_template = (prompt_template if input_text is None else prompt_template.format(input_text=input_text))\n",
    "    \n",
    "    messages = [{\"role\": \"user\", \"content\": prompt_template}] \n",
    "    if system_prompt is not None:\n",
    "        messages = [\n",
    "                {\"role\": \"system\", \"content\": system_prompt},\n",
    "                {\"role\": \"user\", \"content\": prompt_template},\n",
    "            ]\n",
    "    \n",
    "    if verbose:\n",
    "        print(f'system prompt:\\n{system_prompt}\\n')\n",
    "        print(f'prompt template:\\n {prompt_template}\\n')\n",
    "\n",
    "    \n",
    "    response = openai.ChatCompletion.create(\n",
    "        model=model,\n",
    "        messages=messages,\n",
    "        temperature=temperature,\n",
    "        top_p=top_p,\n",
    "        frequency_penalty=frequency_penalty,\n",
    "        presence_penalty=presence_penalty,\n",
    "        max_tokens = max_tokens\n",
    "    )\n",
    "    return response.choices[0].message[\"content\"]"
   ]
  },
  {
   "cell_type": "code",
   "execution_count": 36,
   "id": "9d4a0783",
   "metadata": {},
   "outputs": [],
   "source": [
    "# adopted from https://cookbook.openai.com/examples/how_to_count_tokens_with_tiktoken\n",
    "def num_tokens_from_messages(messages, model=\"gpt-3.5-turbo-0613\"):\n",
    "    \"\"\"Return the number of tokens used by a list of messages.\"\"\"\n",
    "    try:\n",
    "        encoding = tiktoken.encoding_for_model(model)\n",
    "    except KeyError:\n",
    "        print(\"Warning: model not found. Using cl100k_base encoding.\")\n",
    "        encoding = tiktoken.get_encoding(\"cl100k_base\")\n",
    "    if model in {\n",
    "        \"gpt-3.5-turbo-0613\",\n",
    "        \"gpt-3.5-turbo-16k-0613\",\n",
    "        \"gpt-4-0314\",\n",
    "        \"gpt-4-32k-0314\",\n",
    "        \"gpt-4-0613\",\n",
    "        \"gpt-4-32k-0613\",\n",
    "        }:\n",
    "        tokens_per_message = 3\n",
    "        tokens_per_name = 1\n",
    "    elif model == \"gpt-3.5-turbo-0301\":\n",
    "        tokens_per_message = 4  # every message follows <|start|>{role/name}\\n{content}<|end|>\\n\n",
    "        tokens_per_name = -1  # if there's a name, the role is omitted\n",
    "    elif \"gpt-3.5-turbo\" in model:\n",
    "        print(\"Warning: gpt-3.5-turbo may update over time. Returning num tokens assuming gpt-3.5-turbo-0613.\")\n",
    "        return num_tokens_from_messages(messages, model=\"gpt-3.5-turbo-0613\")\n",
    "    elif \"gpt-4\" in model:\n",
    "        print(\"Warning: gpt-4 may update over time. Returning num tokens assuming gpt-4-0613.\")\n",
    "        return num_tokens_from_messages(messages, model=\"gpt-4-0613\")\n",
    "    else:\n",
    "        raise NotImplementedError(\n",
    "            f\"\"\"num_tokens_from_messages() is not implemented for model {model}. See https://github.com/openai/openai-python/blob/main/chatml.md for information on how messages are converted to tokens.\"\"\"\n",
    "        )\n",
    "    num_tokens = 0\n",
    "    for message in messages:\n",
    "        num_tokens += tokens_per_message\n",
    "        for key, value in message.items():\n",
    "            num_tokens += len(encoding.encode(value))\n",
    "            if key == \"name\":\n",
    "                num_tokens += tokens_per_name\n",
    "    num_tokens += 3  # every reply is primed with <|start|>assistant<|message|>\n",
    "    return num_tokens"
   ]
  },
  {
   "cell_type": "markdown",
   "id": "af34d188",
   "metadata": {},
   "source": [
    "## Temporary sample data"
   ]
  },
  {
   "cell_type": "code",
   "execution_count": 37,
   "id": "dde1f4ac",
   "metadata": {},
   "outputs": [],
   "source": [
    "df_ref = pd.read_csv('./100_labeled_consumer_transactions.csv')"
   ]
  },
  {
   "cell_type": "code",
   "execution_count": null,
   "id": "9acac2ba",
   "metadata": {},
   "outputs": [],
   "source": [
    "for i in df_ref.sort_values(by='description', ascending=False).iterrows():\n",
    "    if 'Wal' in i[1]['description'] or 'WAL' in i[1]['description']:\n",
    "        print(i[0], i[1]['description'])"
   ]
  },
  {
   "cell_type": "code",
   "execution_count": null,
   "id": "7d97f3ad",
   "metadata": {},
   "outputs": [],
   "source": [
    "for i in df_ref.sort_values(by='description', ascending=False)[['description']]:\n",
    "    print(i)\n",
    "    if 'Wal' in i or 'WAL' in i:\n",
    "        print(i)\n",
    "        break"
   ]
  },
  {
   "cell_type": "markdown",
   "id": "020ba0a5",
   "metadata": {},
   "source": [
    "## PoC: get transaction category from transaction statement"
   ]
  },
  {
   "cell_type": "code",
   "execution_count": 38,
   "id": "c8fc815d",
   "metadata": {},
   "outputs": [],
   "source": [
    "system_prompt = \"You are a financial assistant. You have to enrich transactions.\"\n",
    "\n",
    "prompt_template = \"\"\"\n",
    "Given a bank transaction statement, extract the transaction category, Merchant and website.\n",
    "\n",
    "Note: Use ' | ' as a seperator between transaction category and Merchant.\n",
    "\n",
    "Examples:\n",
    "Transaction: BEVERAGES & MOR GILROY CA \n",
    "Category: Food & Drink | Mechant: BevMo | website: bevmo.com\n",
    "Transaction: EARLY PAY: PETCO ANIMAL SUP DIRECT DEP 661021916777KVV 012243\n",
    "Category: Paycheck | Mechant: Petco | website: petco.com\n",
    "Transaction: Acorns Investing Transfer 123980 JIKCR7 Cristiano Pombal\n",
    "Category: Investment | Mechant: Aconrs | website: acorns.com\n",
    "Transaction: USAA CREDIT CARD PAYMENT 9926283729231 WEB ID: 12987121\n",
    "Category: Credit Card Bill | Merchant: USAA | usaa.com\n",
    "\n",
    "user_prompt:\n",
    "{input_text}\n",
    "\"\"\"\n",
    "\n",
    "input_text = 'BILL PAY BMW R18 CLASSIC RECURRING xxxxxx9876 ON 01-04'"
   ]
  },
  {
   "cell_type": "code",
   "execution_count": 39,
   "id": "183dfa36",
   "metadata": {},
   "outputs": [
    {
     "data": {
      "text/plain": [
       "'Category: Bill Payment | Merchant: BMW | Website: N/A'"
      ]
     },
     "execution_count": 39,
     "metadata": {},
     "output_type": "execute_result"
    }
   ],
   "source": [
    "get_completion(prompt_template=prompt_template,\n",
    "               input_text= input_text,\n",
    "               system_prompt=system_prompt,\n",
    "               model=\"gpt-3.5-turbo\",\n",
    "               max_tokens=500)"
   ]
  },
  {
   "cell_type": "code",
   "execution_count": 40,
   "id": "0ce11999",
   "metadata": {},
   "outputs": [],
   "source": [
    "prompt_template = \"\"\"\n",
    "Given a bank transaction statement, extract the transaction category, Merchant and website.\n",
    "\n",
    "Note: Use ' | ' as a seperator between transaction category and Merchant.\n",
    "\n",
    "Examples:\n",
    "Transaction: BEVERAGES & MOR GILROY CA \n",
    "Category: Food & Drink | Mechant: BevMo | website: bevmo.com\n",
    "Transaction: EARLY PAY: PETCO ANIMAL SUP DIRECT DEP 661021916777KVV 012243\n",
    "Category: Paycheck | Mechant: Petco | website: petco.com\n",
    "Transaction: Acorns Investing Transfer 123980 JIKCR7 Cristiano Pombal\n",
    "Category: Investment | Mechant: Aconrs | website: acorns.com\n",
    "Transaction: USAA CREDIT CARD PAYMENT 9926283729231 WEB ID: 12987121\n",
    "Category: Credit Card Bill | Merchant: USAA | usaa.com\n",
    "Transaction: BILL PAY BMW R18 CLASSIC RECURRING xxxxxx9876 ON 01-04\n",
    "Category: Auto Payment | Merchant: BMW | bmw.com\n",
    "\n",
    "user_prompt:\n",
    "{input_text}\n",
    "\"\"\"\n",
    "\n",
    "input_text = '0173 AMC MESQUITE 23 MESQUITE TX 01/06'"
   ]
  },
  {
   "cell_type": "code",
   "execution_count": 41,
   "id": "d2caefb1",
   "metadata": {},
   "outputs": [
    {
     "data": {
      "text/plain": [
       "'Category: Entertainment | Merchant: AMC | Website: amctheatres.com'"
      ]
     },
     "execution_count": 41,
     "metadata": {},
     "output_type": "execute_result"
    }
   ],
   "source": [
    "get_completion(prompt_template=prompt_template,\n",
    "               input_text= input_text,\n",
    "               system_prompt=system_prompt,\n",
    "               model=\"gpt-3.5-turbo\",\n",
    "               max_tokens=500)"
   ]
  },
  {
   "cell_type": "code",
   "execution_count": 42,
   "id": "ae47c54a",
   "metadata": {},
   "outputs": [
    {
     "data": {
      "text/plain": [
       "\"Category: Food & Drink | Merchant: Trader Joe's | Website: traderjoes.com\""
      ]
     },
     "execution_count": 42,
     "metadata": {},
     "output_type": "execute_result"
    }
   ],
   "source": [
    "input_text = \"Trader Joe's #012 Qps Sanfrancisco Ca\"\n",
    "get_completion(prompt_template=prompt_template,\n",
    "               input_text= input_text,\n",
    "               system_prompt=system_prompt,\n",
    "               model=\"gpt-3.5-turbo\",\n",
    "               max_tokens=500)"
   ]
  },
  {
   "cell_type": "code",
   "execution_count": 43,
   "id": "37ca7482",
   "metadata": {},
   "outputs": [],
   "source": [
    "prompt_template = \"\"\"\n",
    "Given a bank transaction statement, extract the transaction category, Merchant and website.\n",
    "\n",
    "Note: Use ' | ' as a seperator between transaction category and Merchant.\n",
    "\n",
    "Examples:\n",
    "Transaction: BEVERAGES & MOR GILROY CA \n",
    "Category: Food & Drink | Mechant: BevMo | website: bevmo.com\n",
    "Transaction: EARLY PAY: PETCO ANIMAL SUP DIRECT DEP 661021916777KVV 012243\n",
    "Category: Paycheck | Mechant: Petco | website: petco.com\n",
    "Transaction: Acorns Investing Transfer 123980 JIKCR7 Cristiano Pombal\n",
    "Category: Investment | Mechant: Aconrs | website: acorns.com\n",
    "Transaction: USAA CREDIT CARD PAYMENT 9926283729231 WEB ID: 12987121\n",
    "Category: Credit Card Bill | Merchant: USAA | usaa.com\n",
    "Transaction: BILL PAY BMW R18 CLASSIC RECURRING xxxxxx9876 ON 01-04\n",
    "Category: Auto Payment | Merchant: BMW | bmw.com\n",
    "Transaction: Trader Joe's #012 Qps Sanfrancisco Ca\n",
    "Category: Grocery | Merchant: Trader Joe's | traderjoes.com\n",
    "\n",
    "user_prompt:\n",
    "{input_text}\n",
    "\"\"\""
   ]
  },
  {
   "cell_type": "code",
   "execution_count": 44,
   "id": "c4da1994",
   "metadata": {},
   "outputs": [
    {
     "data": {
      "text/plain": [
       "'Category: Retail | Merchant: Wal-Mart | Website: walmart.com'"
      ]
     },
     "execution_count": 44,
     "metadata": {},
     "output_type": "execute_result"
    }
   ],
   "source": [
    "input_text = \"WAL-MART  Wal-  03/24 #000981637 PURCHASE\"\n",
    "get_completion(prompt_template=prompt_template,\n",
    "               input_text= input_text,\n",
    "               system_prompt=system_prompt,\n",
    "               model=\"gpt-3.5-turbo\",\n",
    "               max_tokens=500)"
   ]
  },
  {
   "cell_type": "code",
   "execution_count": null,
   "id": "6b5f5572",
   "metadata": {},
   "outputs": [],
   "source": [
    "def extract_response(self, pred: str) -> dict:\n",
    "        pred = pred.replace(self.QUESTION_PROMPT, \"\").strip()\n",
    "        if pred[-1] in [\".\", \";\"]:  # Case when LLM add a punctuation point at the end\n",
    "            pred = pred[:-1]\n",
    "        # If output doesn't match the list of possible labels,\n",
    "        # replace with \"Not enough information\"\n",
    "        if pred not in self.ALL_LABELS:\n",
    "            warnings.warn(\n",
    "                f\"LLM answer: '{pred}' not in label list, replacing by '{NOT_ENOUGH_INFO_LABEL}'.\"\n",
    "            )\n",
    "            pred = NOT_ENOUGH_INFO_LABEL\n",
    "        return {\"labels\": pred}"
   ]
  },
  {
   "cell_type": "markdown",
   "id": "30a47fe5",
   "metadata": {},
   "source": [
    "### create fake transactions "
   ]
  },
  {
   "cell_type": "code",
   "execution_count": 30,
   "id": "cac882fb",
   "metadata": {},
   "outputs": [],
   "source": [
    "prompt_template = \"\"\"\n",
    "Generate a list of diverse banking transactions for a fictional character named Robert King,\n",
    "who is a CEO of a hedge fund in San Francisco. He is wealthy and has various banking activities. \n",
    "Create transactions that reflect activities like tax payments, salary credits, payroll, loan payments, \n",
    "benefits, investments, and app-related transfers, such as Bill pay, Venmo, PayPal, Apple Cash, and more.\n",
    "\n",
    "Maintain privacy and use a standard financial transaction format. \n",
    "Include different transaction types and channels. Out of every 10 transactions, 7\n",
    "should be standard financial activities, and 3 should be fun references to famous movies,\n",
    "but ensure they are still plausible as bank transactions. \n",
    "\n",
    "Avoid repetition, and do not use the same transaction type more than twice. \n",
    "Below are the details for each transaction type:\n",
    "\n",
    "1. ATM transactions - withdrawals and deposits at various locations in the US mostly California and New York.\n",
    "2. ACH payroll - salary and wages payments.\n",
    "3. Online bill payments - payments for utilities, credit cards, and other services.\n",
    "4. App-related payments - casual payments to friends or for services using apps like Venmo.\n",
    "5. Tax payments - payments to the IRS and local tax authorities.\n",
    "6. Loan payments - mortgage or car loan payments.\n",
    "7. Investment activities - purchases or sales of stocks and other securities.\n",
    "8. Cashier's checks, wire transfers, and remote deposits.\n",
    "9. Point-of-Sales (POS) purchases\n",
    "\n",
    "Examples are as follows:\n",
    "\n",
    "'ATM WITHDRAWAL #1278 69 AWESOME AVE MIAMI FL TERMIL NH299912'.\n",
    "'ATM DEPOSIT #1111 22 S MARKET STREET SANFRANCISCO CA TERMIL'.\n",
    "'ACH DEBIT PAYROLL PAYROLL ROBERT KING'.\n",
    "'ACH CREDIT GOOGLE DIRECT DEP , ROBERT KING'.\n",
    "'POS PURCHASE #0755 UBER TECHNOLOGIES, INC, SANFRANCISCO, CA'\n",
    "'POS PURCHASE #9876 7-ELEVEN FAIRFAX CA'\n",
    "'ZELLE CREDIT PAYMENT FROM: HENRY FORD'\n",
    "'ZELLE DEBOT PAYMENT TO: SHELDON BIG'\n",
    "'ACH DEBIT IRS USATAXPYMT ROBERT KING'\n",
    "'INCOMING WIRE FIDELITY NATIONAL TITLE COMPANY'\n",
    "'AUTO TRANSFER TO LN TRANSFER TO SCHECUELED LOAN PAYMNET XXXXX212'\n",
    "'DOMESTIC WIRE SEQUOIA MORTGAGE T R 444'\n",
    "'CASHIERS CHECK WD TLR 55 BR 43 5567777 J&G INVESTMENT FUND'\n",
    "'REMOTE DEPOSIT KING 40'\n",
    "'ACH DEPIT PAYPAL INST XFER JULIA ROBERTS'\n",
    "\n",
    "Now, create 10 diverse transactions for Robert King using the above instructions and the specified formats.\n",
    "\n",
    "\"\"\""
   ]
  },
  {
   "cell_type": "code",
   "execution_count": 19,
   "id": "b9dbe1a1",
   "metadata": {},
   "outputs": [
    {
     "name": "stdout",
     "output_type": "stream",
     "text": [
      "system prompt:\n",
      "None\n",
      "\n",
      "prompt template:\n",
      " \n",
      "Generate a list of diverse banking transactions for a fictional character named Robert King,\n",
      "who is a CEO of a hedge fund in San Francisco. He is wealthy and has various banking activities. \n",
      "Create transactions that reflect activities like tax payments, salary credits, payroll, loan payments, \n",
      "benefits, investments, and app-related transfers, such as Bill pay, Venmo, PayPal, Apple Cash, and more.\n",
      "\n",
      "Maintain privacy and use a standard financial transaction format. \n",
      "Include different transaction types and channels. Out of every 10 transactions, 7\n",
      "should be standard financial activities, and 3 should be fun references to famous movies,\n",
      "but ensure they are still plausible as bank transactions. \n",
      "\n",
      "Avoid repetition, and do not use the same transaction type more than twice. \n",
      "Below are the details for each transaction type:\n",
      "\n",
      "1. ATM transactions - withdrawals and deposits at various locations in the US mostly California and New York.\n",
      "2. ACH payroll - salary and wages payments.\n",
      "3. Online bill payments - payments for utilities, credit cards, and other services.\n",
      "4. App-related payments - casual payments to friends or for services using apps like Venmo.\n",
      "5. Tax payments - payments to the IRS and local tax authorities.\n",
      "6. Loan payments - mortgage or car loan payments.\n",
      "7. Investment activities - purchases or sales of stocks and other securities.\n",
      "8. Cashier's checks, wire transfers, and remote deposits.\n",
      "9. Point-of-Sales (POS) purchases\n",
      "\n",
      "Examples are as follows:\n",
      "\n",
      "'ATM WITHDRAWAL #1278 69 AWESOME AVE MIAMI FL TERMIL NH299912'.\n",
      "'ATM DEPOSIT #1111 22 S MARKET STREET SANFRANCISCO CA TERMIL'.\n",
      "'ACH DEBIT PAYROLL PAYROLL ROBERT KING'.\n",
      "'ACH CREDIT GOOGLE DIRECT DEP , ROBERT KING'.\n",
      "'POS PURCHASE #0755 UBER TECHNOLOGIES, INC, SANFRANCISCO, CA'\n",
      "'POS PURCHASE #9876 7-ELEVEN FAIRFAX CA'\n",
      "'ZELLE CREDIT PAYMENT FROM: HENRY FORD'\n",
      "'ZELLE DEBOT PAYMENT TO: SHELDON BIG'\n",
      "'ACH DEBIT IRS USATAXPYMT ROBERT KING'\n",
      "'INCOMING WIRE FIDELITY NATIONAL TITLE COMPANY'\n",
      "'AUTO TRANSFER TO LN TRANSFER TO SCHECUELED LOAN PAYMNET XXXXX212'\n",
      "'DOMESTIC WIRE SEQUOIA MORTGAGE T R 444'\n",
      "'CASHIERS CHECK WD TLR 55 BR 43 5567777 J&G INVESTMENT FUND'\n",
      "'REMOTE DEPOSIT KING 40'\n",
      "'ACH DEPIT PAYPAL INST XFER JULIA ROBERTS'\n",
      "\n",
      "Now, create 10 diverse transactions for Robert King using the above instructions and the specified formats.\n",
      "\n",
      "\n",
      "\n"
     ]
    }
   ],
   "source": [
    "results_gpt_4 = get_completion(prompt_template=prompt_template,\n",
    "               input_text=None,\n",
    "               system_prompt=None,\n",
    "               model=\"gpt-4\",\n",
    "               max_tokens=3000, verbose=True)"
   ]
  },
  {
   "cell_type": "code",
   "execution_count": 16,
   "id": "39248bb0",
   "metadata": {},
   "outputs": [
    {
     "name": "stdout",
     "output_type": "stream",
     "text": [
      "system prompt:\n",
      "None\n",
      "\n",
      "prompt template:\n",
      " \n",
      "Generate a list of diverse banking transactions for a fictional character named Robert King,\n",
      "who is a CEO of a hedge fund in San Francisco. He is wealthy and has various banking activities. \n",
      "Create transactions that reflect activities like tax payments, salary credits, payroll, loan payments, \n",
      "benefits, investments, and app-related transfers, such as Bill pay, Venmo, PayPal, Apple Cash, and more.\n",
      "\n",
      "Maintain privacy and use a standard financial transaction format. \n",
      "Include different transaction types and channels. Out of every 10 transactions, 7\n",
      "should be standard financial activities, and 3 should be fun references to famous movies,\n",
      "but ensure they are still plausible as bank transactions. \n",
      "\n",
      "Avoid repetition, and do not use the same transaction type more than twice. \n",
      "Below are the details for each transaction type:\n",
      "\n",
      "1. ATM transactions - withdrawals and deposits at various locations in the US mostly California and New York.\n",
      "2. ACH payroll - salary and wages payments.\n",
      "3. Online bill payments - payments for utilities, credit cards, and other services.\n",
      "4. App-related payments - casual payments to friends or for services using apps like Venmo.\n",
      "5. Tax payments - payments to the IRS and local tax authorities.\n",
      "6. Loan payments - mortgage or car loan payments.\n",
      "7. Investment activities - purchases or sales of stocks and other securities.\n",
      "8. Cashier's checks, wire transfers, and remote deposits.\n",
      "9. Point-of-Sales (POS) purchases\n",
      "\n",
      "Examples are as follows:\n",
      "\n",
      "'ATM WITHDRAWAL #1278 69 AWESOME AVE MIAMI FL TERMIL NH299912'.\n",
      "'ATM DEPOSIT #1111 22 S MARKET STREET SANFRANCISCO CA TERMIL'.\n",
      "'ACH DEBIT PAYROLL PAYROLL ROBERT KING'.\n",
      "'ACH CREDIT GOOGLE DIRECT DEP , ROBERT KING'.\n",
      "'POS PURCHASE #0755 UBER TECHNOLOGIES, INC, SANFRANCISCO, CA'\n",
      "'POS PURCHASE #9876 7-ELEVEN FAIRFAX CA'\n",
      "'ZELLE CREDIT PAYMENT FROM: HENRY FORD'\n",
      "'ZELLE DEBOT PAYMENT TO: SHELDON BIG'\n",
      "'ACH DEBIT IRS USATAXPYMT ROBERT KING'\n",
      "'INCOMING WIRE FIDELITY NATIONAL TITLE COMPANY'\n",
      "'AUTO TRANSFER TO LN TRANSFER TO SCHECUELED LOAN PAYMNET XXXXX212'\n",
      "'DOMESTIC WIRE SEQUOIA MORTGAGE T R 444'\n",
      "'CASHIERS CHECK WD TLR 55 BR 43 5567777 J&G INVESTMENT FUND'\n",
      "'REMOTE DEPOSIT KING 40'\n",
      "'ACH DEPIT PAYPAL INST XFER JULIA ROBERTS'\n",
      "\n",
      "Now, create 10 diverse transactions for Robert King using the above instructions and the specified formats.\n",
      "\n",
      "\n",
      "\n"
     ]
    }
   ],
   "source": [
    "results = get_completion(prompt_template=prompt_template,\n",
    "               input_text=None,\n",
    "               system_prompt=None,\n",
    "               model=\"gpt-3.5-turbo\",\n",
    "               max_tokens=3000, verbose=True)"
   ]
  },
  {
   "cell_type": "code",
   "execution_count": 18,
   "id": "a6ad791c",
   "metadata": {},
   "outputs": [
    {
     "name": "stdout",
     "output_type": "stream",
     "text": [
      "1. ATM WITHDRAWAL #1234 123 MAIN ST SAN FRANCISCO CA TERMIL\n",
      "2. ACH CREDIT PAYROLL PAYMENT - ROBERT KING\n",
      "3. ONLINE BILL PAYMENT - ELECTRICITY BILL - ROBERT KING\n",
      "4. VENMO PAYMENT TO JOHN DOE - DINNER AT CHEZ PIERRE\n",
      "5. TAX PAYMENT - IRS - ROBERT KING\n",
      "6. LOAN PAYMENT - MORTGAGE - ROBERT KING\n",
      "7. STOCK PURCHASE - APPLE INC. - ROBERT KING\n",
      "8. WIRE TRANSFER - INTERNATIONAL - ROBERT KING\n",
      "9. POS PURCHASE #5678 - GROCERY STORE - SAN FRANCISCO CA\n",
      "10. CASHIER'S CHECK - PAYMENT TO CHARITY - ROBERT KING\n"
     ]
    }
   ],
   "source": [
    "print(results)"
   ]
  },
  {
   "cell_type": "code",
   "execution_count": 20,
   "id": "b81c59d0",
   "metadata": {},
   "outputs": [
    {
     "name": "stdout",
     "output_type": "stream",
     "text": [
      "1. 'ATM WITHDRAWAL #3456 123 BROADWAY NEW YORK NY TERMIL NH345612'\n",
      "2. 'ACH DEBIT PAYROLL PAYROLL ROBERT KING'\n",
      "3. 'ONLINE BILL PAYMENT #7890 PG&E UTILITIES, SAN FRANCISCO, CA'\n",
      "4. 'VENMO DEBIT PAYMENT TO: JOHN WICK FOR DOG SITTING'\n",
      "5. 'ACH DEBIT IRS USATAXPYMT ROBERT KING'\n",
      "6. 'AUTO TRANSFER TO LN TRANSFER TO SCHEDULED LOAN PAYMENT XXXXX345'\n",
      "7. 'INVESTMENT ACTIVITY #5678 PURCHASE OF TESLA STOCKS'\n",
      "8. 'DOMESTIC WIRE TRANSFER #1234 TO GOLDMAN SACHS FOR INVESTMENT'\n",
      "9. 'POS PURCHASE #4567 STARBUCKS, SAN FRANCISCO, CA'\n",
      "10. 'APPLE CASH CREDIT PAYMENT FROM: TONY STARK FOR POKER NIGHT WINNINGS'\n"
     ]
    }
   ],
   "source": [
    "print(results_gpt_4)"
   ]
  },
  {
   "cell_type": "code",
   "execution_count": 31,
   "id": "f69102ee",
   "metadata": {},
   "outputs": [],
   "source": [
    "prompt_template = \"\"\"\n",
    "Here are a series of banking transactions for a fictional individual named Robert King, \n",
    "who is CEO of a hedge fund in San Francisco and serves on multiple local boards. \n",
    "His transactions are diverse and include tax payments, salary credits, payroll processing, \n",
    "loan payments, benefits, investments, and various forms of online banking and app-related payments \n",
    "like Venmo, PayPal, and Apple Cash. For a touch of creativity, include occasional references to \n",
    "famous movies, with the ratio of about two movie-related transactions to every ten real-world banking transactions. \n",
    "Here are some examples:\n",
    "\n",
    "1. ATM WITHDRAWAL #1278 69 AWESOME AVE MIAMI FL TERMIL NH299912\n",
    "2. ATM DEPOSIT #1111 22 S MARKET STREET SANFRANCISCO CA TERMIL\n",
    "3. ACH DEBIT PAYROLL PAYROLL ROBERT KING\n",
    "4. ACH CREDIT GOOGLE DIRECT DEP, ROBERT KING\n",
    "5. POS PURCHASE #0755 UBER TECHNOLOGIES, INC, SANFRANCISCO, CA\n",
    "6. POS PURCHASE #9876 7-ELEVEN FAIRFAX CA\n",
    "7. ZELLE CREDIT PAYMENT FROM: HENRY FORD\n",
    "8. ZELLE DEBIT PAYMENT TO: SHELDON BIG\n",
    "9. ACH DEBIT IRS USATAXPYMT ROBERT KING\n",
    "10. INCOMING WIRE FIDELITY NATIONAL TITLE COMPANY\n",
    "\n",
    "Please continue to create a similar list of transactions for Robert King, making sure each one is clear, \n",
    "plausible, and respects privacy standards while maintaining a standard format for financial statements. \n",
    "Remember to not repeat similar transactions more than twice and to keep the playful movie references subtle \n",
    "and infrequent.\n",
    "\"\"\""
   ]
  },
  {
   "cell_type": "code",
   "execution_count": 33,
   "id": "1d4d9118",
   "metadata": {},
   "outputs": [
    {
     "name": "stdout",
     "output_type": "stream",
     "text": [
      "system prompt:\n",
      "None\n",
      "\n",
      "prompt template:\n",
      " \n",
      "Here are a series of banking transactions for a fictional individual named Robert King, \n",
      "who is CEO of a hedge fund in San Francisco and serves on multiple local boards. \n",
      "His transactions are diverse and include tax payments, salary credits, payroll processing, \n",
      "loan payments, benefits, investments, and various forms of online banking and app-related payments \n",
      "like Venmo, PayPal, and Apple Cash. For a touch of creativity, include occasional references to \n",
      "famous movies, with the ratio of about two movie-related transactions to every ten real-world banking transactions. \n",
      "Here are some examples:\n",
      "\n",
      "1. ATM WITHDRAWAL #1278 69 AWESOME AVE MIAMI FL TERMIL NH299912\n",
      "2. ATM DEPOSIT #1111 22 S MARKET STREET SANFRANCISCO CA TERMIL\n",
      "3. ACH DEBIT PAYROLL PAYROLL ROBERT KING\n",
      "4. ACH CREDIT GOOGLE DIRECT DEP, ROBERT KING\n",
      "5. POS PURCHASE #0755 UBER TECHNOLOGIES, INC, SANFRANCISCO, CA\n",
      "6. POS PURCHASE #9876 7-ELEVEN FAIRFAX CA\n",
      "7. ZELLE CREDIT PAYMENT FROM: HENRY FORD\n",
      "8. ZELLE DEBIT PAYMENT TO: SHELDON BIG\n",
      "9. ACH DEBIT IRS USATAXPYMT ROBERT KING\n",
      "10. INCOMING WIRE FIDELITY NATIONAL TITLE COMPANY\n",
      "\n",
      "Please continue to create a similar list of transactions for Robert King, making sure each one is clear, \n",
      "plausible, and respects privacy standards while maintaining a standard format for financial statements. \n",
      "Remember to not repeat similar transactions more than twice and to keep the playful movie references subtle \n",
      "and infrequent.\n",
      "\n",
      "\n"
     ]
    }
   ],
   "source": [
    "result_GPT3_new_prompt = get_completion(prompt_template=prompt_template,\n",
    "               input_text=None,\n",
    "               system_prompt=None,\n",
    "               model=\"gpt-3.5-turbo\",\n",
    "               max_tokens=3000, verbose=True)"
   ]
  },
  {
   "cell_type": "code",
   "execution_count": 35,
   "id": "82fcf97c",
   "metadata": {},
   "outputs": [
    {
     "name": "stdout",
     "output_type": "stream",
     "text": [
      "11. ATM WITHDRAWAL #1357 123 MAIN STREET SAN FRANCISCO CA TERMIL\n",
      "12. ATM DEPOSIT #2222 456 PARK AVENUE SAN FRANCISCO CA TERMIL\n",
      "13. ACH DEBIT PAYROLL PAYROLL ROBERT KING\n",
      "14. ACH CREDIT APPLE DIRECT DEP, ROBERT KING\n",
      "15. POS PURCHASE #0987 STARBUCKS, SAN FRANCISCO, CA\n",
      "16. POS PURCHASE #5432 WHOLE FOODS MARKET, SAN FRANCISCO, CA\n",
      "17. ZELLE CREDIT PAYMENT FROM: LUCY WILLIAMS\n",
      "18. ZELLE DEBIT PAYMENT TO: JAMES ANDERSON\n",
      "19. ACH DEBIT IRS USATAXPYMT ROBERT KING\n",
      "20. INCOMING WIRE JP MORGAN CHASE BANK\n",
      "\n",
      "21. ATM WITHDRAWAL #2468 789 OCEAN AVENUE SAN FRANCISCO CA TERMIL\n",
      "22. ATM DEPOSIT #3333 987 SUNSET BOULEVARD SAN FRANCISCO CA TERMIL\n",
      "23. ACH DEBIT PAYROLL PAYROLL ROBERT KING\n",
      "24. ACH CREDIT AMAZON DIRECT DEP, ROBERT KING\n",
      "25. POS PURCHASE #6543 NETFLIX, SAN FRANCISCO, CA\n",
      "26. POS PURCHASE #2109 TARGET, SAN FRANCISCO, CA\n",
      "27. ZELLE CREDIT PAYMENT FROM: EMILY JOHNSON\n",
      "28. ZELLE DEBIT PAYMENT TO: MICHAEL THOMPSON\n",
      "29. ACH DEBIT IRS USATAXPYMT ROBERT KING\n",
      "30. INCOMING WIRE BANK OF AMERICA\n",
      "\n",
      "31. ATM WITHDRAWAL #3698 321 BROADWAY STREET SAN FRANCISCO CA TERMIL\n",
      "32. ATM DEPOSIT #4444 654 MAIN STREET SAN FRANCISCO CA TERMIL\n",
      "33. ACH DEBIT PAYROLL PAYROLL ROBERT KING\n",
      "34. ACH CREDIT MICROSOFT DIRECT DEP, ROBERT KING\n",
      "35. POS PURCHASE #7890 AMAZON, SAN FRANCISCO, CA\n",
      "36. POS PURCHASE #1234 WALMART, SAN FRANCISCO, CA\n",
      "37. ZELLE CREDIT PAYMENT FROM: OLIVIA SMITH\n",
      "38. ZELLE DEBIT PAYMENT TO: WILLIAM BROWN\n",
      "39. ACH DEBIT IRS USATAXPYMT ROBERT KING\n",
      "40. INCOMING WIRE WELLS FARGO BANK\n",
      "\n",
      "41. ATM WITHDRAWAL #4826 987 SUNSET BOULEVARD SAN FRANCISCO CA TERMIL\n",
      "42. ATM DEPOSIT #5555 123 MAIN STREET SAN FRANCISCO CA TERMIL\n",
      "43. ACH DEBIT PAYROLL PAYROLL ROBERT KING\n",
      "44. ACH CREDIT FACEBOOK DIRECT DEP, ROBERT KING\n",
      "45. POS PURCHASE #4321 MCDONALD'S, SAN FRANCISCO, CA\n",
      "46. POS PURCHASE #8765 BEST BUY, SAN FRANCISCO, CA\n",
      "47. ZELLE CREDIT PAYMENT FROM: JACKSON THOMAS\n",
      "48. ZELLE DEBIT PAYMENT TO: SOPHIA WILSON\n",
      "49. ACH DEBIT IRS USATAXPYMT ROBERT KING\n",
      "50. INCOMING WIRE CITIBANK\n",
      "\n",
      "51. ATM WITHDRAWAL #5937 456 PARK AVENUE SAN FRANCISCO CA TERMIL\n",
      "52. ATM DEPOSIT #6666 789 OCEAN AVENUE SAN FRANCISCO CA TERMIL\n",
      "53. ACH DEBIT PAYROLL PAYROLL ROBERT KING\n",
      "54. ACH CREDIT TWITTER DIRECT DEP, ROBERT KING\n",
      "55. POS PURCHASE #7654 STARBUCKS, SAN FRANCISCO, CA\n",
      "56. POS PURCHASE #1098 TARGET, SAN FRANCISCO, CA\n",
      "57. ZELLE CREDIT PAYMENT FROM: ALEXANDER MARTIN\n",
      "58. ZELLE DEBIT PAYMENT TO: ISABELLA ANDERSON\n",
      "59. ACH DEBIT IRS USATAXPYMT ROBERT KING\n",
      "60. INCOMING WIRE BANK OF AMERICA\n",
      "\n",
      "61. ATM WITHDRAWAL #7129 321 BROADWAY STREET SAN FRANCISCO CA TERMIL\n",
      "62. ATM DEPOSIT #7777 654 MAIN STREET SAN FRANCISCO CA TERMIL\n",
      "63. ACH DEBIT PAYROLL PAYROLL ROBERT KING\n",
      "64. ACH CREDIT UBER DIRECT DEP, ROBERT KING\n",
      "65. POS PURCHASE #9876 NETFLIX, SAN FRANCISCO, CA\n",
      "66. POS PURCHASE #5432 WHOLE FOODS MARKET, SAN FRANCISCO, CA\n",
      "67. ZELLE CREDIT PAYMENT FROM: EMMA WOODS\n",
      "68. ZELLE DEBIT PAYMENT TO: JACOB HARRIS\n",
      "69. ACH DEBIT IRS USATAXPYMT ROBERT KING\n",
      "70. INCOMING WIRE JP MORGAN CHASE BANK\n"
     ]
    }
   ],
   "source": [
    "print(result_GPT3_new_prompt)"
   ]
  },
  {
   "cell_type": "code",
   "execution_count": 5,
   "id": "cebd6782",
   "metadata": {},
   "outputs": [
    {
     "data": {
      "text/plain": [
       "188"
      ]
     },
     "execution_count": 5,
     "metadata": {},
     "output_type": "execute_result"
    }
   ],
   "source": [
    "import tiktoken\n",
    "encoding = tiktoken.encoding_for_model(\"gpt-3.5-turbo\")\n",
    "len(encoding.encode(prompt_template))"
   ]
  },
  {
   "cell_type": "markdown",
   "id": "eda40f4e",
   "metadata": {},
   "source": [
    "### Predefined categories"
   ]
  },
  {
   "cell_type": "code",
   "execution_count": null,
   "id": "7cfa440d",
   "metadata": {},
   "outputs": [],
   "source": [
    "{\n",
    "    \"Earned Income\": [\n",
    "        \"Freelance\", \n",
    "        \"Paycheck\", \n",
    "        \"Rideshare and delivery\"\n",
    "    ], \n",
    "    \"Essential Expenses\": [\n",
    "        \"Auto lease payment\", \n",
    "        \"Auto loan repayment\", \n",
    "        \"Childcare\", \n",
    "        \"Contribution to reserve fund\", \n",
    "        \"Council tax\", \n",
    "        \"Credit card bill\", \n",
    "        \"Credit card fee\", \n",
    "        \"Credit report\", \n",
    "        \"Debt collection\", \n",
    "        \"Drugstores and pharmacies\", \n",
    "        \"Education\", \n",
    "        \"Fuel\", \n",
    "        \"Funerals and bequests\", \n",
    "        \"Government\", \n",
    "        \"Groceries\", \n",
    "        \"Insurance\", \n",
    "        \"Interest\", \n",
    "        \"Loan repayment\", \n",
    "        \"Medical bill\", \n",
    "        \"Mortgage\", \n",
    "        \"Other transport\", \n",
    "        \"Pets\", \n",
    "        \"Public transport\", \n",
    "        \"Rent and property management fee\", \n",
    "        \"Retirement contributions\", \n",
    "        \"Ridesharing and taxis\", \n",
    "        \"Student loan repayment\", \n",
    "        \"Taxes\", \n",
    "        \"Utilities\", \n",
    "        \"Vehicle maintenance\"\n",
    "    ], \n",
    "    \"Non-Essential Expenses\": [\n",
    "        \"ATM/bank withdrawal\", \n",
    "        \"App stores\", \n",
    "        \"Bank fee\", \n",
    "        \"Books, newsletters, newspapers\", \n",
    "        \"Buy now, pay later\", \n",
    "        \"Cafes and coffee shops\", \n",
    "        \"Clothing\", \n",
    "        \"Convenience stores\", \n",
    "        \"Department and discount stores\", \n",
    "        \"Donation\", \n",
    "        \"Electronics\", \n",
    "        \"Entertainment and recreation\", \n",
    "        \"Firearms\", \n",
    "        \"Food and Drink\", \n",
    "        \"Gambling\", \n",
    "        \"Gifts\", \n",
    "        \"Home improvements and maintenance services\", \n",
    "        \"Hotels and lodging\", \n",
    "        \"Inter account transfer\", \n",
    "        \"Intra account transfer\", \n",
    "        \"Investment\", \n",
    "        \"Laundry\", \n",
    "        \"Legal services\", \n",
    "        \"Liquor\", \n",
    "        \"Media\", \n",
    "        \"Other consumer services\", \n",
    "        \"Other non-essential\", \n",
    "        \"Pawn shops\", \n",
    "        \"Peer to peer transfer\", \n",
    "        \"Recreational goods\", \n",
    "        \"Rent to own\", \n",
    "        \"SaaS tools\", \n",
    "        \"Self care\", \n",
    "        \"Sport and fitness\", \n",
    "        \"Toll charge\", \n",
    "        \"Towing companies\", \n",
    "        \"Trading (crypto)\", \n",
    "        \"Trading (non-crypto)\", \n",
    "        \"eCommerce purchase\"\n",
    "    ], \n",
    "    \"Other Incoming Transactions\": [\n",
    "        \"ATM/bank deposit\", \n",
    "        \"Cashback\", \n",
    "        \"Chargeback\", \n",
    "        \"Ecommerce\", \n",
    "        \"Grants and stipends\", \n",
    "        \"Insurance\", \n",
    "        \"Inter account transfer\", \n",
    "        \"Intra account transfer\", \n",
    "        \"Loans\", \n",
    "        \"Not enough information\", \n",
    "        \"Other\", \n",
    "        \"Pawn shops\", \n",
    "        \"Peer to peer transfer\", \n",
    "        \"Prenote\", \n",
    "        \"Refund\", \n",
    "        \"Reversal / adjustment\", \n",
    "        \"Tax refund\", \n",
    "        \"Trading (crypto)\", \n",
    "        \"Trading (non-crypto)\", \n",
    "        \"missing account holder information\"\n",
    "    ], \n",
    "    \"Other Outgoing Transactions\": [\n",
    "        \"Non-sufficient funds / Overdraft fee\", \n",
    "        \"Not enough information\", \n",
    "        \"Prenote\", \n",
    "        \"Reversal / adjustment\", \n",
    "        \"missing account holder information\"\n",
    "    ], \n",
    "    \"Passive Income\": [\n",
    "        \"Benefits\", \n",
    "        \"Interest / dividend\", \n",
    "        \"Property rental\"\n",
    "    ]\n",
    "}"
   ]
  },
  {
   "cell_type": "code",
   "execution_count": 25,
   "id": "f1747a46",
   "metadata": {},
   "outputs": [
    {
     "data": {
      "text/plain": [
       "'1. `ACH CREDIT SALARY KING HEDGE FUND LLC ROBERT KING`'"
      ]
     },
     "execution_count": 25,
     "metadata": {},
     "output_type": "execute_result"
    }
   ],
   "source": [
    "transaction_samples.split('\\n')[1]"
   ]
  },
  {
   "cell_type": "code",
   "execution_count": 2,
   "id": "37fdb3f7",
   "metadata": {},
   "outputs": [],
   "source": [
    "with open('./synthetic_transactions.txt', 'r') as f:\n",
    "    transaction_text = f.read()"
   ]
  },
  {
   "cell_type": "code",
   "execution_count": 4,
   "id": "b61fc93f",
   "metadata": {},
   "outputs": [],
   "source": [
    "test_trans = sorted(transaction_text.split('\\n'))"
   ]
  },
  {
   "cell_type": "code",
   "execution_count": 9,
   "id": "40c94dff",
   "metadata": {},
   "outputs": [
    {
     "name": "stdout",
     "output_type": "stream",
     "text": [
      "ACH DEBIT - CHARITY DONATION - SAVE THE REDWOODS LEAGUE\n",
      "INCOMING PAYPAL TRANSFER - \"SNAKE EYES\" GAME APP PROCEEDS\n",
      "INCOMING WIRE REFUND - CASABLANCA RESORT & SPA\n",
      "MOBILE DEPOSIT - CHECK #2875 FROM \"THE USUAL SUSPECTS\" FILM ROYALTIES\n",
      "VENMO PAYMENT TO: TONY STARK IRON SUITS\n"
     ]
    }
   ],
   "source": [
    "import random\n",
    "for i in range(5):\n",
    "    print(random.choice(test_trans))"
   ]
  },
  {
   "cell_type": "code",
   "execution_count": null,
   "id": "170626aa",
   "metadata": {},
   "outputs": [],
   "source": []
  }
 ],
 "metadata": {
  "kernelspec": {
   "display_name": "llm",
   "language": "python",
   "name": "llm"
  },
  "language_info": {
   "codemirror_mode": {
    "name": "ipython",
    "version": 3
   },
   "file_extension": ".py",
   "mimetype": "text/x-python",
   "name": "python",
   "nbconvert_exporter": "python",
   "pygments_lexer": "ipython3",
   "version": "3.11.5"
  }
 },
 "nbformat": 4,
 "nbformat_minor": 5
}
