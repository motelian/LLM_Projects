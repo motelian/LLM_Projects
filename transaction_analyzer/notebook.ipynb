{
 "cells": [
  {
   "cell_type": "code",
   "execution_count": 77,
   "id": "449bc7d4",
   "metadata": {},
   "outputs": [],
   "source": [
    "import openai\n",
    "import os\n",
    "import pandas as pd\n",
    "import numpy as np\n",
    "#pd.set_option('display.max_colwidth', None)\n",
    "pd.set_option(\"max_colwidth\", None)\n",
    "#pd.set_option(\"max_rows\", None)"
   ]
  },
  {
   "cell_type": "code",
   "execution_count": 3,
   "id": "8393fb77",
   "metadata": {},
   "outputs": [],
   "source": [
    "from dotenv import load_dotenv, find_dotenv\n",
    "found = load_dotenv(find_dotenv())\n",
    "if found:\n",
    "    openai.api_key  = os.getenv('OPENAI_API_KEY')\n",
    "else:\n",
    "    print(\"couldn't find the key\")"
   ]
  },
  {
   "cell_type": "markdown",
   "id": "9048d267",
   "metadata": {},
   "source": [
    "## Utility functions"
   ]
  },
  {
   "cell_type": "code",
   "execution_count": 50,
   "id": "24cd57b7",
   "metadata": {},
   "outputs": [],
   "source": [
    "def get_completion(transaction_prompt,\n",
    "                   prompt_template,\n",
    "                   system_prompt=None,\n",
    "                   model=\"gpt-3.5-turbo\",\n",
    "                   max_tokens=250,\n",
    "                   temperature=0,\n",
    "                   top_p=1,\n",
    "                   frequency_penalty=0,\n",
    "                   presence_penalty=0):\n",
    "    ''' openai chat completion object '''\n",
    "    \n",
    "    prompt_template = prompt_template.format(tran_desc=transaction_prompt)\n",
    "    messages = [{\"role\": \"user\", \"content\": prompt_template}] \n",
    "    if system_prompt is not None:\n",
    "        messages = [\n",
    "                {\"role\": \"system\", \"content\": system_prompt},\n",
    "                {\"role\": \"user\", \"content\": prompt_template},\n",
    "            ]\n",
    "    \n",
    "    response = openai.ChatCompletion.create(\n",
    "        model=model,\n",
    "        messages=messages,\n",
    "        temperature=temperature,\n",
    "        top_p=top_p,\n",
    "        frequency_penalty=frequency_penalty,\n",
    "        presence_penalty=presence_penalty\n",
    "    )\n",
    "    return response.choices[0].message[\"content\"]"
   ]
  },
  {
   "cell_type": "code",
   "execution_count": 16,
   "id": "9d4a0783",
   "metadata": {},
   "outputs": [],
   "source": [
    "# adopted from https://cookbook.openai.com/examples/how_to_count_tokens_with_tiktoken\n",
    "def num_tokens_from_messages(messages, model=\"gpt-3.5-turbo-0613\"):\n",
    "    \"\"\"Return the number of tokens used by a list of messages.\"\"\"\n",
    "    try:\n",
    "        encoding = tiktoken.encoding_for_model(model)\n",
    "    except KeyError:\n",
    "        print(\"Warning: model not found. Using cl100k_base encoding.\")\n",
    "        encoding = tiktoken.get_encoding(\"cl100k_base\")\n",
    "    if model in {\n",
    "        \"gpt-3.5-turbo-0613\",\n",
    "        \"gpt-3.5-turbo-16k-0613\",\n",
    "        \"gpt-4-0314\",\n",
    "        \"gpt-4-32k-0314\",\n",
    "        \"gpt-4-0613\",\n",
    "        \"gpt-4-32k-0613\",\n",
    "        }:\n",
    "        tokens_per_message = 3\n",
    "        tokens_per_name = 1\n",
    "    elif model == \"gpt-3.5-turbo-0301\":\n",
    "        tokens_per_message = 4  # every message follows <|start|>{role/name}\\n{content}<|end|>\\n\n",
    "        tokens_per_name = -1  # if there's a name, the role is omitted\n",
    "    elif \"gpt-3.5-turbo\" in model:\n",
    "        print(\"Warning: gpt-3.5-turbo may update over time. Returning num tokens assuming gpt-3.5-turbo-0613.\")\n",
    "        return num_tokens_from_messages(messages, model=\"gpt-3.5-turbo-0613\")\n",
    "    elif \"gpt-4\" in model:\n",
    "        print(\"Warning: gpt-4 may update over time. Returning num tokens assuming gpt-4-0613.\")\n",
    "        return num_tokens_from_messages(messages, model=\"gpt-4-0613\")\n",
    "    else:\n",
    "        raise NotImplementedError(\n",
    "            f\"\"\"num_tokens_from_messages() is not implemented for model {model}. See https://github.com/openai/openai-python/blob/main/chatml.md for information on how messages are converted to tokens.\"\"\"\n",
    "        )\n",
    "    num_tokens = 0\n",
    "    for message in messages:\n",
    "        num_tokens += tokens_per_message\n",
    "        for key, value in message.items():\n",
    "            num_tokens += len(encoding.encode(value))\n",
    "            if key == \"name\":\n",
    "                num_tokens += tokens_per_name\n",
    "    num_tokens += 3  # every reply is primed with <|start|>assistant<|message|>\n",
    "    return num_tokens"
   ]
  },
  {
   "cell_type": "markdown",
   "id": "af34d188",
   "metadata": {},
   "source": [
    "## Temporary sample data"
   ]
  },
  {
   "cell_type": "code",
   "execution_count": 11,
   "id": "dde1f4ac",
   "metadata": {},
   "outputs": [],
   "source": [
    "df_ref = pd.read_csv('./100_labeled_consumer_transactions.csv')"
   ]
  },
  {
   "cell_type": "code",
   "execution_count": 95,
   "id": "9acac2ba",
   "metadata": {},
   "outputs": [
    {
     "name": "stdout",
     "output_type": "stream",
     "text": [
      "82 WAL-MART  Wal-  03/24 #000981637 PURCHASE                   WAL-MART  Wal-Mar  SAN DIEGO (C) CA\n"
     ]
    }
   ],
   "source": [
    "for i in df_ref.sort_values(by='description', ascending=False).iterrows():\n",
    "    if 'Wal' in i[1]['description'] or 'WAL' in i[1]['description']:\n",
    "        print(i[0], i[1]['description'])"
   ]
  },
  {
   "cell_type": "code",
   "execution_count": 81,
   "id": "7d97f3ad",
   "metadata": {},
   "outputs": [
    {
     "name": "stdout",
     "output_type": "stream",
     "text": [
      "description\n"
     ]
    }
   ],
   "source": [
    "for i in df_ref.sort_values(by='description', ascending=False)[['description']]:\n",
    "    print(i)\n",
    "    if 'Wal' in i or 'WAL' in i:\n",
    "        print(i)\n",
    "        break"
   ]
  },
  {
   "cell_type": "markdown",
   "id": "020ba0a5",
   "metadata": {},
   "source": [
    "## PoC: get transaction category from transaction statement"
   ]
  },
  {
   "cell_type": "code",
   "execution_count": 47,
   "id": "c8fc815d",
   "metadata": {},
   "outputs": [],
   "source": [
    "system_prompt = \"You are a financial assistant. You have to enrich transactions.\"\n",
    "\n",
    "prompt_template = \"\"\"\n",
    "Given a bank transaction statement, extract the transaction category, Merchant and website.\n",
    "\n",
    "Note: Use ' | ' as a seperator between transaction category and Merchant.\n",
    "\n",
    "Examples:\n",
    "Transaction: BEVERAGES & MOR GILROY CA \n",
    "Category: Food & Drink | Mechant: BevMo | website: bevmo.com\n",
    "Transaction: EARLY PAY: PETCO ANIMAL SUP DIRECT DEP 661021916777KVV 012243\n",
    "Category: Paycheck | Mechant: Petco | website: petco.com\n",
    "Transaction: Acorns Investing Transfer 123980 JIKCR7 Cristiano Pombal\n",
    "Category: Investment | Mechant: Aconrs | website: acorns.com\n",
    "Transaction: USAA CREDIT CARD PAYMENT 9926283729231 WEB ID: 12987121\n",
    "Category: Credit Card Bill | Merchant: USAA | usaa.com\n",
    "\n",
    "user_prompt:\n",
    "{tran_desc}\n",
    "\"\"\"\n",
    "\n",
    "sample_transaction_statement = 'BILL PAY BMW R18 CLASSIC RECURRING xxxxxx9876 ON 01-04'"
   ]
  },
  {
   "cell_type": "code",
   "execution_count": 51,
   "id": "183dfa36",
   "metadata": {},
   "outputs": [],
   "source": [
    "get_completion(transaction_prompt= sample_transaction_statement,\n",
    "                          prompt_template=prompt_template,\n",
    "                          system_prompt=system_prompt,\n",
    "                          model=\"gpt-3.5-turbo\", max_tokens=500)"
   ]
  },
  {
   "cell_type": "code",
   "execution_count": 52,
   "id": "1439b24c",
   "metadata": {},
   "outputs": [
    {
     "data": {
      "text/plain": [
       "'Category: Bill Payment | Merchant: BMW | Website: N/A'"
      ]
     },
     "execution_count": 52,
     "metadata": {},
     "output_type": "execute_result"
    }
   ],
   "source": [
    "response"
   ]
  },
  {
   "cell_type": "code",
   "execution_count": 54,
   "id": "0ce11999",
   "metadata": {},
   "outputs": [],
   "source": [
    "prompt_template = \"\"\"\n",
    "Given a bank transaction statement, extract the transaction category, Merchant and website.\n",
    "\n",
    "Note: Use ' | ' as a seperator between transaction category and Merchant.\n",
    "\n",
    "Examples:\n",
    "Transaction: BEVERAGES & MOR GILROY CA \n",
    "Category: Food & Drink | Mechant: BevMo | website: bevmo.com\n",
    "Transaction: EARLY PAY: PETCO ANIMAL SUP DIRECT DEP 661021916777KVV 012243\n",
    "Category: Paycheck | Mechant: Petco | website: petco.com\n",
    "Transaction: Acorns Investing Transfer 123980 JIKCR7 Cristiano Pombal\n",
    "Category: Investment | Mechant: Aconrs | website: acorns.com\n",
    "Transaction: USAA CREDIT CARD PAYMENT 9926283729231 WEB ID: 12987121\n",
    "Category: Credit Card Bill | Merchant: USAA | usaa.com\n",
    "Transaction: BILL PAY BMW R18 CLASSIC RECURRING xxxxxx9876 ON 01-04\n",
    "Category: Auto Payment | Merchant: BMW | bmw.com\n",
    "\n",
    "user_prompt:\n",
    "{tran_desc}\n",
    "\"\"\"\n",
    "\n",
    "sample_transaction_statement = '0173 AMC MESQUITE 23 MESQUITE TX 01/06'"
   ]
  },
  {
   "cell_type": "code",
   "execution_count": 55,
   "id": "d2caefb1",
   "metadata": {},
   "outputs": [
    {
     "data": {
      "text/plain": [
       "'Category: Entertainment | Merchant: AMC | Website: amctheatres.com'"
      ]
     },
     "execution_count": 55,
     "metadata": {},
     "output_type": "execute_result"
    }
   ],
   "source": [
    "get_completion(transaction_prompt= sample_transaction_statement,\n",
    "                          prompt_template=prompt_template,\n",
    "                          system_prompt=system_prompt,\n",
    "                          model=\"gpt-3.5-turbo\", max_tokens=500)"
   ]
  },
  {
   "cell_type": "code",
   "execution_count": 56,
   "id": "ae47c54a",
   "metadata": {},
   "outputs": [
    {
     "data": {
      "text/plain": [
       "\"Category: Food & Drink | Merchant: Trader Joe's | Website: traderjoes.com\""
      ]
     },
     "execution_count": 56,
     "metadata": {},
     "output_type": "execute_result"
    }
   ],
   "source": [
    "sample_transaction_statement = \"Trader Joe's #012 Qps Sanfrancisco Ca\"\n",
    "get_completion(transaction_prompt= sample_transaction_statement,\n",
    "                          prompt_template=prompt_template,\n",
    "                          system_prompt=system_prompt,\n",
    "                          model=\"gpt-3.5-turbo\", max_tokens=500)"
   ]
  },
  {
   "cell_type": "code",
   "execution_count": 60,
   "id": "37ca7482",
   "metadata": {},
   "outputs": [],
   "source": [
    "prompt_template = \"\"\"\n",
    "Given a bank transaction statement, extract the transaction category, Merchant and website.\n",
    "\n",
    "Note: Use ' | ' as a seperator between transaction category and Merchant.\n",
    "\n",
    "Examples:\n",
    "Transaction: BEVERAGES & MOR GILROY CA \n",
    "Category: Food & Drink | Mechant: BevMo | website: bevmo.com\n",
    "Transaction: EARLY PAY: PETCO ANIMAL SUP DIRECT DEP 661021916777KVV 012243\n",
    "Category: Paycheck | Mechant: Petco | website: petco.com\n",
    "Transaction: Acorns Investing Transfer 123980 JIKCR7 Cristiano Pombal\n",
    "Category: Investment | Mechant: Aconrs | website: acorns.com\n",
    "Transaction: USAA CREDIT CARD PAYMENT 9926283729231 WEB ID: 12987121\n",
    "Category: Credit Card Bill | Merchant: USAA | usaa.com\n",
    "Transaction: BILL PAY BMW R18 CLASSIC RECURRING xxxxxx9876 ON 01-04\n",
    "Category: Auto Payment | Merchant: BMW | bmw.com\n",
    "Transaction: Trader Joe's #012 Qps Sanfrancisco Ca\n",
    "Category: Grocery | Merchant: Trader Joe's | traderjoes.com\n",
    "\n",
    "user_prompt:\n",
    "{tran_desc}\n",
    "\"\"\""
   ]
  },
  {
   "cell_type": "code",
   "execution_count": 61,
   "id": "c4da1994",
   "metadata": {},
   "outputs": [
    {
     "data": {
      "text/plain": [
       "'Category: Retail | Merchant: Wal-Mart | Website: walmart.com'"
      ]
     },
     "execution_count": 61,
     "metadata": {},
     "output_type": "execute_result"
    }
   ],
   "source": [
    "sample_transaction_statement = \"WAL-MART  Wal-  03/24 #000981637 PURCHASE\"\n",
    "get_completion(transaction_prompt= sample_transaction_statement,\n",
    "                          prompt_template=prompt_template,\n",
    "                          system_prompt=system_prompt,\n",
    "                          model=\"gpt-3.5-turbo\", max_tokens=500)"
   ]
  },
  {
   "cell_type": "code",
   "execution_count": null,
   "id": "6b5f5572",
   "metadata": {},
   "outputs": [],
   "source": [
    "def extract_response(self, pred: str) -> dict:\n",
    "        pred = pred.replace(self.QUESTION_PROMPT, \"\").strip()\n",
    "        if pred[-1] in [\".\", \";\"]:  # Case when LLM add a punctuation point at the end\n",
    "            pred = pred[:-1]\n",
    "        # If output doesn't match the list of possible labels,\n",
    "        # replace with \"Not enough information\"\n",
    "        if pred not in self.ALL_LABELS:\n",
    "            warnings.warn(\n",
    "                f\"LLM answer: '{pred}' not in label list, replacing by '{NOT_ENOUGH_INFO_LABEL}'.\"\n",
    "            )\n",
    "            pred = NOT_ENOUGH_INFO_LABEL\n",
    "        return {\"labels\": pred}"
   ]
  }
 ],
 "metadata": {
  "kernelspec": {
   "display_name": "llm",
   "language": "python",
   "name": "llm"
  },
  "language_info": {
   "codemirror_mode": {
    "name": "ipython",
    "version": 3
   },
   "file_extension": ".py",
   "mimetype": "text/x-python",
   "name": "python",
   "nbconvert_exporter": "python",
   "pygments_lexer": "ipython3",
   "version": "3.11.5"
  }
 },
 "nbformat": 4,
 "nbformat_minor": 5
}
