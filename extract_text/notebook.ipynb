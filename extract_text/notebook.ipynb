{
 "cells": [
  {
   "cell_type": "code",
   "execution_count": 1,
   "id": "af232c89",
   "metadata": {},
   "outputs": [
    {
     "data": {
      "text/html": [
       "\n",
       "    <style>\n",
       "        div#notebook-container    {width: 95%; }\n",
       "        div#menubar-container     {width: 65%; }\n",
       "        div#maintoolbar-container {width: 99%; }\n",
       "    </style>\n",
       "    "
      ],
      "text/plain": [
       "<IPython.core.display.HTML object>"
      ]
     },
     "metadata": {},
     "output_type": "display_data"
    }
   ],
   "source": [
    "def set_jupyter_widescreen():\n",
    "    from IPython.display import display, HTML\n",
    "    \n",
    "    display(HTML(data=\"\"\"\n",
    "    <style>\n",
    "        div#notebook-container    {width: 95%; }\n",
    "        div#menubar-container     {width: 65%; }\n",
    "        div#maintoolbar-container {width: 99%; }\n",
    "    </style>\n",
    "    \"\"\"))\n",
    "set_jupyter_widescreen()"
   ]
  },
  {
   "cell_type": "code",
   "execution_count": null,
   "id": "7736f002",
   "metadata": {},
   "outputs": [],
   "source": [
    "# installing packages for text extraction\n",
    "# !/Volumes/develop/anaconda3/envs/llm/bin/pip install langchain\n",
    "# !/Volumes/develop/anaconda3/envs/llm/bin/pip install unstructured==0.5.6\n",
    "# !/Volumes/develop/anaconda3/envs/llm/bin/pip show pdfminer.six\n",
    "# !/Volumes/develop/anaconda3/envs/llm/bin/pip install --upgrade langchain pdfminer.six\n",
    "# !/Volumes/develop/anaconda3/envs/llm/bin/pip install pypdf\n",
    "# !/Volumes/develop/anaconda3/envs/llm/bin/pip install pymupdf\n",
    "# !/Volumes/develop/anaconda3/envs/llm/bin/pip install faiss-cpu"
   ]
  },
  {
   "cell_type": "code",
   "execution_count": 3,
   "id": "7baba7cd",
   "metadata": {},
   "outputs": [],
   "source": [
    "import openai\n",
    "import os\n",
    "import pandas as pd\n",
    "import numpy as np\n",
    "import tiktoken\n",
    "from utils import *\n",
    "from langchain.document_loaders import PyMuPDFLoader\n",
    "from openai.embeddings_utils import get_embedding\n",
    "from openai.embeddings_utils import  cosine_similarity\n",
    "from langchain.text_splitter import CharacterTextSplitter, RecursiveCharacterTextSplitter\n",
    "\n",
    "pd.set_option('display.max_rows', None)\n",
    "pd.set_option('display.max_columns', None)\n",
    "pd.options.mode.chained_assignment = None"
   ]
  },
  {
   "cell_type": "code",
   "execution_count": 4,
   "id": "b5c4b139",
   "metadata": {},
   "outputs": [],
   "source": [
    "from dotenv import load_dotenv, find_dotenv\n",
    "found = load_dotenv(find_dotenv())\n",
    "if found:\n",
    "    openai.api_key  = os.getenv('OPENAI_API_KEY')\n",
    "else:\n",
    "    print(\"couldn't find the key\")"
   ]
  },
  {
   "cell_type": "code",
   "execution_count": null,
   "id": "4012b41b",
   "metadata": {},
   "outputs": [],
   "source": [
    "# from langchain.document_loaders import UnstructuredFileLoader\n",
    "# loader = UnstructuredFileLoader('./sample_form_150522.pdf')\n",
    "# documents = loader.load()\n",
    "# documents_content = '\\n'.join(doc.page_content for doc in documents)"
   ]
  },
  {
   "cell_type": "markdown",
   "id": "36a24ebf",
   "metadata": {},
   "source": [
    "### a. PDF loader to text"
   ]
  },
  {
   "cell_type": "code",
   "execution_count": 5,
   "id": "8d375c77",
   "metadata": {},
   "outputs": [
    {
     "name": "stdout",
     "output_type": "stream",
     "text": [
      "0 ---  advisory business as of\n",
      "\n",
      "1 --- to less than $50 billion\n",
      "\n",
      "2 --- GISTRANT'S ADMINISTRATOR\n",
      "\n",
      "3 --- n 2.A.(8) of Schedule D.\n",
      "\n",
      "4 --- egistering with the SEC.\n",
      "\n",
      "5 --- e Part 1A Instruction 4.\n",
      "\n",
      "6 --- worth individuals)\n",
      "0\n",
      "$ 0\n",
      "\n",
      "7 --- he investment company or\n",
      "\n",
      "8 --- in rule 206(4)-1(a)(5))?\n",
      "\n",
      "9 --- sets included in \"Other\"\n",
      "\n",
      "10 --- (a) Interest\n",
      "(b) Foreign\n",
      "\n",
      "11 --- ures commission merchant\n",
      "\n",
      "12 --- sed under Item 5.B.(2). \n",
      "\n",
      "13 --- xempt from registration?\n",
      "\n",
      "14 --- ed.\n",
      "No Information Filed\n",
      "\n",
      "15 ---  same physical location?\n",
      "\n",
      "16 --- AL PARTNERS GP VIII, LLC\n",
      "\n",
      "17 --- er \n",
      "4.\n",
      "Related Person's \n",
      "\n",
      "18 --- Page: \n",
      "15\n",
      "Total Funds: 9\n",
      "\n",
      "19 --- the following questions:\n",
      "\n",
      "20 --- lands Monetary Authority\n",
      "\n",
      "21 --- ment Company Act of\n",
      "1940\n",
      "\n",
      "22 --- tor in the private fund:\n",
      "\n",
      "23 --- ion : 2 Record(s) Filed.\n",
      "\n",
      "24 --- : \n",
      "BARCLAYS CAPITAL INC.\n",
      "\n",
      "25 --- tity\n",
      "identifier (if any)\n",
      "\n",
      "26 --- ANK NATIONAL ASSOCIATION\n",
      "\n",
      "27 --- t of the) private fund's\n",
      "\n",
      "28 --- k\n",
      "Country:\n",
      "United States\n",
      "\n",
      "29 --- n About the Private Fund\n",
      "\n",
      "30 ---  or by a related person?\n",
      "\n",
      "31 --- led\n",
      "B. SERVICE PROVIDERS\n",
      "\n",
      "32 ---  BANK OF NEW YORK MELLON\n",
      "\n",
      "33 --- er.\n",
      "No Information Filed\n",
      "\n",
      "34 --- ed investment companies.\n",
      "\n",
      "35 --- any):\n",
      "Form D file number\n",
      "\n",
      "36 --- ity, state and country):\n",
      "\n",
      "37 --- n one administrator, you\n",
      "\n",
      "38 --- ge(s) this private fund.\n",
      "\n",
      "39 --- lands Monetary Authority\n",
      "\n",
      "40 --- nds of the private fund.\n",
      "\n",
      "41 --- y for each prime broker.\n",
      "\n",
      "42 --- - \n",
      "CRD Number (if any): \n",
      "\n",
      "43 ---  including obtaining any\n",
      "\n",
      "44 --- the following questions:\n",
      "\n",
      "45 --- est in the private fund?\n",
      "\n",
      "46 --- er.\n",
      "No Information Filed\n",
      "\n",
      "47 --- ministrator, that is not\n",
      "\n",
      "48 --- on the funds separately.\n",
      "\n",
      "49 --- ave this question blank.\n",
      "\n",
      "50 --- y for each prime broker.\n",
      "\n",
      "51 --- spond \"not applicable.\" \n",
      "\n",
      "52 --- UND, LTD.\n",
      "805-6875629582\n",
      "\n",
      "53 --- \n",
      "Country: \n",
      "United States\n",
      "\n",
      "54 --- fix also)\n",
      "805-9033047217\n",
      "\n",
      "55 --- NITY OFFSHORE FUND, LTD.\n",
      "\n",
      "56 --- your related persons:\n",
      "3%\n",
      "\n",
      "57 --- ry:\n",
      "United States\n",
      "Yes No\n",
      "\n",
      "58 --- k\n",
      "Country:\n",
      "United States\n",
      "\n",
      "59 --- ry:\n",
      "United States\n",
      "Yes No\n",
      "\n",
      "60 --- any)\n",
      "BYL5QZYBDK8S7L73M02\n",
      "\n",
      "61 --- ately for each marketer.\n",
      "\n",
      "62 --- ng in this private fund?\n",
      "\n",
      "63 --- ed to qualified clients?\n",
      "\n",
      "64 --- e with its rules?\n",
      "Yes No\n",
      "\n",
      "65 --- ) Name of administrator:\n",
      "\n",
      "66 --- ial Regulatory Authority\n",
      "\n",
      "67 --- lands Monetary Authority\n",
      "\n",
      "68 --- in the private fund?\n",
      "41%\n",
      "\n",
      "69 --- its registration number:\n",
      "\n",
      "70 ---  BANK OF NEW YORK MELLON\n",
      "\n",
      "71 --- \n",
      "Country:\n",
      "Cayman Islands\n",
      "\n",
      "72 ---  for a client's account?\n",
      "\n",
      "73 ---  investors in the pools.\n",
      "\n",
      "74 --- tant:\n",
      "ERNST & YOUNG, LLP\n",
      "\n",
      "75 --- about your direct owners\n",
      "\n",
      "76 --- stment-related activity?\n",
      "\n",
      "77 --- most recent fiscal year?\n",
      "\n",
      "78 --- he right to receive upon\n",
      "\n",
      "79 --- D ON 3/27/23.\n",
      "Schedule R\n",
      "\n",
      "80 --- : MM/DD/YYYY \n",
      "04/06/2023\n",
      "\n",
      "81 --- iser CRD Number: \n",
      "150522\n",
      "\n"
     ]
    }
   ],
   "source": [
    "loader = PyMuPDFLoader(\"./sample_form_150522.pdf\")\n",
    "data = loader.load()\n",
    "#print(data[19].page_content)\n",
    "for i in range(82):\n",
    "    print(i, '---', data[i].page_content[-25:])\n",
    "doc_content = '\\n'.join(doc.page_content for doc in data)"
   ]
  },
  {
   "cell_type": "markdown",
   "id": "d006e8b6",
   "metadata": {},
   "source": [
    "### b. Split the documents into chunks"
   ]
  },
  {
   "cell_type": "code",
   "execution_count": 12,
   "id": "5490dbb7",
   "metadata": {},
   "outputs": [
    {
     "name": "stdout",
     "output_type": "stream",
     "text": [
      "\n",
      "chunk: 0\n",
      "\n",
      "FORM ADV\n",
      "UNIFORM APPLICATION FOR INVESTMENT ADVISER REGISTRATION AND REPORT BY EXEMPT REPORTING ADVISERS\n",
      "Primary Business Name: ONE WILLIAM STREET CAPITAL MANAGEMENT, LP.\n",
      "CRD Number: 150522\n",
      "Other-Than-Annual Amendment - All Sections\n",
      "Rev. 10/2021\n",
      "4/6/2023 8:04:11 AM\n",
      "WARNING: Complete this form truthf\n",
      "--------------------------------------------------\n",
      "u are filing an umbrella registration, the\n",
      "information in Item 1 should be provided for the filing adviser only. General Instruction 5 provides information to assist you with filing an umbrella registration.\n",
      "A.  Your full legal name (if you are a sole proprietor, your last, first, and middle names):\n",
      "****************************************************************************************************\n",
      "\n",
      "chunk: 1\n",
      "\n",
      "A.  Your full legal name (if you are a sole proprietor, your last, first, and middle names): \n",
      "ONE WILLIAM STREET CAPITAL MANAGEMENT, LP.\n",
      "B.\n",
      "(1) Name under which you primarily conduct your advisory business, if different from Item 1.A.\n",
      "ONE WILLIAM STREET CAPITAL MANAGEMENT, LP.\n",
      "List on Section 1.B. o\n",
      "--------------------------------------------------\n",
      ".B.(1)), enter the new name and specify whether the\n",
      "name change is of\n",
      "your legal name or \n",
      "your primary business name:\n",
      "D.\n",
      "(1) If you are registered with the SEC as an investment adviser, your SEC file number: 801-70264\n",
      "(2) If you report to the SEC as an exempt reporting adviser, your SEC file number:\n",
      "****************************************************************************************************\n",
      "\n",
      "chunk: 2\n",
      "\n",
      "D.\n",
      "(1) If you are registered with the SEC as an investment adviser, your SEC file number: 801-70264\n",
      "(2) If you report to the SEC as an exempt reporting adviser, your SEC file number:\n",
      "(3) If you have one or more Central Index Key numbers assigned by the SEC (\"CIK Numbers\"), all of your CIK numbers: \n",
      "\n",
      "--------------------------------------------------\n",
      "Information Filed\n",
      "F.\n",
      "Principal Office and Place of Business\n",
      "(1) Address (do not use a P.O. Box):\n",
      "Number and Street 1:\n",
      "299 PARK AVENUE\n",
      "Number and Street 2:\n",
      "25TH FLOOR\n",
      "City:\n",
      "NEW YORK\n",
      "State:\n",
      "New York\n",
      "Country:\n",
      "United States\n",
      "ZIP+4/Postal Code:\n",
      "10171\n",
      "If this address is a private residence, check this box:\n",
      "****************************************************************************************************\n",
      "\n",
      "chunk: 3\n",
      "\n",
      "299 PARK AVENUE\n",
      "Number and Street 2:\n",
      "25TH FLOOR\n",
      "City:\n",
      "NEW YORK\n",
      "State:\n",
      "New York\n",
      "Country:\n",
      "United States\n",
      "ZIP+4/Postal Code:\n",
      "10171\n",
      "If this address is a private residence, check this box: \n",
      "List on Section 1.F. of Schedule D any office, other than your principal office and place of business, at which you \n",
      "--------------------------------------------------\n",
      "ting to the SEC as an exempt reporting adviser, list the largest twenty-five offices in terms of numbers of employees as of the end of your\n",
      "most recently completed fiscal year.\n",
      "(2) Days of week that you normally conduct business at your principal office and place of business:\n",
      "Monday - Friday \n",
      "Other:\n",
      "****************************************************************************************************\n"
     ]
    }
   ],
   "source": [
    "text_splitter = RecursiveCharacterTextSplitter(        \n",
    "    chunk_size = 1000,\n",
    "    chunk_overlap  = 200,\n",
    "    length_function = len,\n",
    "    is_separator_regex = False,\n",
    ")\n",
    "doc_chunks = text_splitter.split_text(doc_content)\n",
    "#showing some examples of the chunks and overlaps\n",
    "for i in range(4):\n",
    "    print(f'\\nchunk: {i}\\n')    \n",
    "    print(doc_chunks[i][:300])\n",
    "    print(''.join(50*['-']))\n",
    "    print(doc_chunks[i][-300:])\n",
    "    print(''.join(100*['*']))"
   ]
  },
  {
   "cell_type": "markdown",
   "id": "5aee8aca",
   "metadata": {},
   "source": [
    "### c. Create embeddings and construct a vector database"
   ]
  },
  {
   "cell_type": "code",
   "execution_count": 8,
   "id": "a25f4b81",
   "metadata": {},
   "outputs": [
    {
     "name": "stdout",
     "output_type": "stream",
     "text": [
      "encoding name for text-embedding-ada-002: cl100k_base\n",
      "--\n",
      "maximum tokens:(chunk number:324, token numbers: 415)\n",
      "--\n",
      "Total embedding cost: $0.0068\n"
     ]
    }
   ],
   "source": [
    "# embedding model parameters\n",
    "embedding_model = \"text-embedding-ada-002\"\n",
    "embedding_encoding = \"cl100k_base\" \n",
    "cost = 0.0001/1000 \n",
    "\n",
    "# get the token numbers for the document chunks\n",
    "encoding = tiktoken.encoding_for_model(embedding_model)\n",
    "print(f'encoding name for {embedding_model}: {encoding.name}')\n",
    "print(f\"{''.join(2*['-'])}\")\n",
    "#save embeddings\n",
    "df = pd.DataFrame()\n",
    "df['text'] = doc_chunks\n",
    "df['tokens'] = df['text'].apply(lambda x: len(encoding.encode(x)))\n",
    "df['embedding'] = df.text.apply(lambda x: get_embedding(x, engine=embedding_model))\n",
    "df['cost'] = cost*df['tokens']\n",
    "\n",
    "print(f\"maximum tokens:(chunk number:{df.sort_values(by='tokens', ascending=False).iloc[0].name}, token numbers: {df.sort_values(by='tokens', ascending=False).iloc[0].values[1]})\")\n",
    "\n",
    "print(f\"{''.join(2*['-'])}\")\n",
    "\n",
    "print(f'Total embedding cost: ${np.round(df.cost.sum(),4)}')\n",
    "df.to_csv(\"./sample_form_150522_chunks_with_embeddings.csv\")"
   ]
  },
  {
   "cell_type": "code",
   "execution_count": 10,
   "id": "804cf69a",
   "metadata": {},
   "outputs": [
    {
     "data": {
      "text/html": [
       "<div>\n",
       "<style scoped>\n",
       "    .dataframe tbody tr th:only-of-type {\n",
       "        vertical-align: middle;\n",
       "    }\n",
       "\n",
       "    .dataframe tbody tr th {\n",
       "        vertical-align: top;\n",
       "    }\n",
       "\n",
       "    .dataframe thead th {\n",
       "        text-align: right;\n",
       "    }\n",
       "</style>\n",
       "<table border=\"1\" class=\"dataframe\">\n",
       "  <thead>\n",
       "    <tr style=\"text-align: right;\">\n",
       "      <th></th>\n",
       "      <th>text</th>\n",
       "      <th>tokens</th>\n",
       "      <th>embedding</th>\n",
       "      <th>cost</th>\n",
       "    </tr>\n",
       "  </thead>\n",
       "  <tbody>\n",
       "    <tr>\n",
       "      <th>0</th>\n",
       "      <td>FORM ADV\\nUNIFORM APPLICATION FOR INVESTMENT A...</td>\n",
       "      <td>226</td>\n",
       "      <td>[0.001449032686650753, 0.005998051725327969, -...</td>\n",
       "      <td>0.000023</td>\n",
       "    </tr>\n",
       "    <tr>\n",
       "      <th>1</th>\n",
       "      <td>A.  Your full legal name (if you are a sole pr...</td>\n",
       "      <td>231</td>\n",
       "      <td>[0.003249892732128501, 0.00674661248922348, -0...</td>\n",
       "      <td>0.000023</td>\n",
       "    </tr>\n",
       "    <tr>\n",
       "      <th>2</th>\n",
       "      <td>D.\\n(1) If you are registered with the SEC as ...</td>\n",
       "      <td>263</td>\n",
       "      <td>[-0.004217831883579493, 0.00452733738347888, 0...</td>\n",
       "      <td>0.000026</td>\n",
       "    </tr>\n",
       "    <tr>\n",
       "      <th>3</th>\n",
       "      <td>299 PARK AVENUE\\nNumber and Street 2:\\n25TH FL...</td>\n",
       "      <td>216</td>\n",
       "      <td>[-0.019397292286157608, 0.005637296941131353, ...</td>\n",
       "      <td>0.000022</td>\n",
       "    </tr>\n",
       "    <tr>\n",
       "      <th>4</th>\n",
       "      <td>most recently completed fiscal year.\\n(2) Days...</td>\n",
       "      <td>114</td>\n",
       "      <td>[0.0030712413135915995, 0.009709085337817669, ...</td>\n",
       "      <td>0.000011</td>\n",
       "    </tr>\n",
       "  </tbody>\n",
       "</table>\n",
       "</div>"
      ],
      "text/plain": [
       "                                                text  tokens  \\\n",
       "0  FORM ADV\\nUNIFORM APPLICATION FOR INVESTMENT A...     226   \n",
       "1  A.  Your full legal name (if you are a sole pr...     231   \n",
       "2  D.\\n(1) If you are registered with the SEC as ...     263   \n",
       "3  299 PARK AVENUE\\nNumber and Street 2:\\n25TH FL...     216   \n",
       "4  most recently completed fiscal year.\\n(2) Days...     114   \n",
       "\n",
       "                                           embedding      cost  \n",
       "0  [0.001449032686650753, 0.005998051725327969, -...  0.000023  \n",
       "1  [0.003249892732128501, 0.00674661248922348, -0...  0.000023  \n",
       "2  [-0.004217831883579493, 0.00452733738347888, 0...  0.000026  \n",
       "3  [-0.019397292286157608, 0.005637296941131353, ...  0.000022  \n",
       "4  [0.0030712413135915995, 0.009709085337817669, ...  0.000011  "
      ]
     },
     "execution_count": 10,
     "metadata": {},
     "output_type": "execute_result"
    }
   ],
   "source": [
    "df.head()"
   ]
  },
  {
   "cell_type": "code",
   "execution_count": 9,
   "id": "56200e22",
   "metadata": {},
   "outputs": [],
   "source": [
    "query = 'how many employees do you have?'"
   ]
  },
  {
   "cell_type": "code",
   "execution_count": 11,
   "id": "0d015fa2",
   "metadata": {},
   "outputs": [
    {
     "name": "stdout",
     "output_type": "stream",
     "text": [
      "query embedding cost:$7.000000000000001e-07\n",
      "--------------------\n",
      "\n",
      "Answer the following Question based on the Context only. Only answer from the Context. If you don't know the answer, say 'I don't know'.\n",
      "\n",
      "SECTION 4 Successions\n",
      "No Information Filed\n",
      "Item 5 Information About Your Advisory Business - Employees, Clients, and Compensation\n",
      "Responses to this Item help us understand your business, assist us in preparing for on-site examinations, and provide us with data we use when making\n",
      "regulatory policy. Part 1A Instruction 5.a. provides additional guidance to newly formed advisers for completing this Item 5.\n",
      "Employees\n",
      "If you are organized as a sole proprietorship, include yourself as an employee in your responses to Item 5.A. and Items 5.B.(1), (2), (3), (4), and (5). If an\n",
      "employee performs more than one function, you should count that employee in each of your responses to Items 5.B.(1), (2), (3), (4), and (5).\n",
      "A.  Approximately how many employees do you have? Include full- and part-time employees but do not include any clerical workers.\n",
      "96\n",
      "B.\n",
      "(1)  Approximately how many of the employees reported in 5.A. perform investment advisory functions (including research)?\n",
      "47\n",
      "(2)\n",
      "\n",
      "\n",
      "\n",
      "96\n",
      "B.\n",
      "(1)  Approximately how many of the employees reported in 5.A. perform investment advisory functions (including research)?\n",
      "47\n",
      "(2)\n",
      "Approximately how many of the employees reported in 5.A. are registered representatives of a broker-dealer?\n",
      "4\n",
      "(3)\n",
      "Approximately how many of the employees reported in 5.A. are registered with one or more state securities authorities as investment adviser\n",
      "representatives?\n",
      "0\n",
      "(4)\n",
      "Approximately how many of the employees reported in 5.A. are registered with one or more state securities authorities as investment adviser\n",
      "representatives for an investment adviser other than you?\n",
      "0\n",
      "(5)\n",
      "Approximately how many of the employees reported in 5.A. are licensed agents of an insurance company or agency?\n",
      "0\n",
      "(6)\n",
      "Approximately how many firms or other persons solicit advisory clients on your behalf?\n",
      "0\n",
      "In your response to Item 5.B.(6), do not count any of your employees and count a firm only once – do not count each of the firm's employees that solicit on\n",
      "your behalf.\n",
      "Clients\n",
      "\n",
      "\n",
      "\n",
      "0\n",
      "In your response to Item 5.B.(6), do not count any of your employees and count a firm only once – do not count each of the firm's employees that solicit on\n",
      "your behalf.\n",
      "Clients\n",
      "In your responses to Items 5.C. and 5.D. do not include as \"clients\" the investors in a private fund you advise, unless you have a separate advisory relationship\n",
      "with those investors.\n",
      "C.\n",
      "(1)\n",
      "To approximately how many clients for whom you do not have regulatory assets under management did you provide investment advisory services\n",
      "during your most recently completed fiscal year?\n",
      "0\n",
      "(2)\n",
      "Approximately what percentage of your clients are non-United States persons?\n",
      "70%\n",
      "D.\n",
      "For purposes of this Item 5.D., the category \"individuals\" includes trusts, estates, and 401(k) plans and IRAs of individuals and their family members, but does\n",
      "not include businesses organized as sole proprietorships.\n",
      "\n",
      "\n",
      "\n",
      "Question: how many employees do you have?\n",
      "--------------------\n",
      "Warning: gpt-3.5-turbo may update over time. Returning num tokens assuming gpt-3.5-turbo-0613.\n",
      "Total GPT cost: $0.0\n"
     ]
    },
    {
     "data": {
      "text/plain": [
       "'Approximately 96 employees.'"
      ]
     },
     "execution_count": 11,
     "metadata": {},
     "output_type": "execute_result"
    }
   ],
   "source": [
    "ask(query, df.copy(), verbose=True, max_tokens=1250)"
   ]
  },
  {
   "cell_type": "code",
   "execution_count": 25,
   "id": "3e757142",
   "metadata": {},
   "outputs": [],
   "source": [
    "queries = [\n",
    "    'what is the name of the company?',\n",
    "    'what is the address?',\n",
    "    'list the names of the partners and managers?',\n",
    "    'list the names of all private funds?',\n",
    "    'is this a feeder fund?',\n",
    "    'how many employees do you have?',\n",
    "    'what is the total numebr of accounts?',\n",
    "    'what percentage of your clients are non-United States persons?',\n",
    "    'how much asset under management do you have under pooled investment vehicles?',\n",
    "    'what is a Pooled Investment Vehicle?',\n",
    "    'how mcuh is under pension and profit sharing plans?',\n",
    "    'give me the full table of indirect owners?',\n",
    "]"
   ]
  },
  {
   "cell_type": "code",
   "execution_count": 27,
   "id": "d6b56a37",
   "metadata": {},
   "outputs": [
    {
     "name": "stdout",
     "output_type": "stream",
     "text": [
      "\n",
      "question: what is the name of the company?\n",
      "Answer: The name of the company is ONE WILLIAM STREET CAPITAL INTERMEDIATE FUND, L.P.\n"
     ]
    }
   ],
   "source": [
    "print(f'\\nquestion: {queries[0]}')\n",
    "answer = ask(queries[0], df.copy(), verbose=False, max_tokens=2000)\n",
    "print(f'Answer: {answer}')"
   ]
  },
  {
   "cell_type": "code",
   "execution_count": 28,
   "id": "753ad57d",
   "metadata": {},
   "outputs": [
    {
     "name": "stdout",
     "output_type": "stream",
     "text": [
      "\n",
      "question: what is the address?\n",
      "Answer: The address is 299 Park Avenue, 25th Floor, New York, New York, United States, 10171.\n"
     ]
    }
   ],
   "source": [
    "q = queries[1]\n",
    "print(f'\\nquestion: {q}')\n",
    "answer = ask(q, df.copy(), verbose=False, max_tokens=2000)\n",
    "print(f'Answer: {answer}')"
   ]
  },
  {
   "cell_type": "code",
   "execution_count": 29,
   "id": "aecf6e42",
   "metadata": {},
   "outputs": [
    {
     "name": "stdout",
     "output_type": "stream",
     "text": [
      "\n",
      "question: list the names of the partners and managers?\n",
      "Answer: The names of the partners and managers are Alaina Danley, David Sherr, John D'Agostino, Kurt Locher, and Vanessa Gilman.\n"
     ]
    }
   ],
   "source": [
    "q = queries[2]\n",
    "print(f'\\nquestion: {q}')\n",
    "answer = ask(q, df.copy(), verbose=False, max_tokens=2000)\n",
    "print(f'Answer: {answer}')"
   ]
  },
  {
   "cell_type": "code",
   "execution_count": 31,
   "id": "970fc80d",
   "metadata": {},
   "outputs": [
    {
     "name": "stdout",
     "output_type": "stream",
     "text": [
      "\n",
      "question: list the names of all private funds?\n"
     ]
    },
    {
     "ename": "InvalidRequestError",
     "evalue": "This model's maximum context length is 4097 tokens. However, you requested 5557 tokens (557 in the messages, 5000 in the completion). Please reduce the length of the messages or completion.",
     "output_type": "error",
     "traceback": [
      "\u001b[0;31m---------------------------------------------------------------------------\u001b[0m",
      "\u001b[0;31mInvalidRequestError\u001b[0m                       Traceback (most recent call last)",
      "Cell \u001b[0;32mIn[31], line 3\u001b[0m\n\u001b[1;32m      1\u001b[0m q \u001b[38;5;241m=\u001b[39m queries[\u001b[38;5;241m3\u001b[39m]\n\u001b[1;32m      2\u001b[0m \u001b[38;5;28mprint\u001b[39m(\u001b[38;5;124mf\u001b[39m\u001b[38;5;124m'\u001b[39m\u001b[38;5;130;01m\\n\u001b[39;00m\u001b[38;5;124mquestion: \u001b[39m\u001b[38;5;132;01m{\u001b[39;00mq\u001b[38;5;132;01m}\u001b[39;00m\u001b[38;5;124m'\u001b[39m)\n\u001b[0;32m----> 3\u001b[0m answer \u001b[38;5;241m=\u001b[39m ask(q, df\u001b[38;5;241m.\u001b[39mcopy(), verbose\u001b[38;5;241m=\u001b[39m\u001b[38;5;28;01mFalse\u001b[39;00m, max_tokens\u001b[38;5;241m=\u001b[39m\u001b[38;5;241m5000\u001b[39m)\n\u001b[1;32m      4\u001b[0m \u001b[38;5;28mprint\u001b[39m(\u001b[38;5;124mf\u001b[39m\u001b[38;5;124m'\u001b[39m\u001b[38;5;124mAnswer: \u001b[39m\u001b[38;5;132;01m{\u001b[39;00manswer\u001b[38;5;132;01m}\u001b[39;00m\u001b[38;5;124m'\u001b[39m)\n",
      "File \u001b[0;32m/Volumes/develop/LLM_Projects/extract_text/utils.py:121\u001b[0m, in \u001b[0;36mask\u001b[0;34m(query, vectordb, model, embedding_model, max_tokens, verbose, temperature, top_p, frequency_penalty, presence_penalty)\u001b[0m\n\u001b[1;32m    117\u001b[0m     \u001b[38;5;28mprint\u001b[39m(\u001b[38;5;124mf\u001b[39m\u001b[38;5;124m\"\u001b[39m\u001b[38;5;132;01m{\u001b[39;00m\u001b[38;5;124m'\u001b[39m\u001b[38;5;124m'\u001b[39m\u001b[38;5;241m.\u001b[39mjoin(\u001b[38;5;241m20\u001b[39m\u001b[38;5;241m*\u001b[39m[\u001b[38;5;124m'\u001b[39m\u001b[38;5;124m-\u001b[39m\u001b[38;5;124m'\u001b[39m])\u001b[38;5;132;01m}\u001b[39;00m\u001b[38;5;124m\"\u001b[39m)\n\u001b[1;32m    118\u001b[0m     \u001b[38;5;28mprint\u001b[39m(\u001b[38;5;124mf\u001b[39m\u001b[38;5;124m'\u001b[39m\u001b[38;5;124mTotal GPT cost: $\u001b[39m\u001b[38;5;132;01m{\u001b[39;00mnp\u001b[38;5;241m.\u001b[39mround(num_tokens_from_messages(messages\u001b[38;5;241m=\u001b[39mmessages,\u001b[38;5;250m \u001b[39mmodel\u001b[38;5;241m=\u001b[39mmodel)\u001b[38;5;241m*\u001b[39m\u001b[38;5;241m0.003\u001b[39m\u001b[38;5;241m/\u001b[39m\u001b[38;5;241m1000\u001b[39m)\u001b[38;5;132;01m}\u001b[39;00m\u001b[38;5;124m'\u001b[39m)\n\u001b[0;32m--> 121\u001b[0m response \u001b[38;5;241m=\u001b[39m openai\u001b[38;5;241m.\u001b[39mChatCompletion\u001b[38;5;241m.\u001b[39mcreate(\n\u001b[1;32m    122\u001b[0m     model\u001b[38;5;241m=\u001b[39mmodel,\n\u001b[1;32m    123\u001b[0m     messages\u001b[38;5;241m=\u001b[39mmessages,\n\u001b[1;32m    124\u001b[0m     max_tokens\u001b[38;5;241m=\u001b[39mmax_tokens,\n\u001b[1;32m    125\u001b[0m     temperature\u001b[38;5;241m=\u001b[39mtemperature,\n\u001b[1;32m    126\u001b[0m     top_p\u001b[38;5;241m=\u001b[39mtop_p,\n\u001b[1;32m    127\u001b[0m     frequency_penalty\u001b[38;5;241m=\u001b[39mfrequency_penalty,\n\u001b[1;32m    128\u001b[0m     presence_penalty\u001b[38;5;241m=\u001b[39mpresence_penalty\n\u001b[1;32m    129\u001b[0m )\n\u001b[1;32m    130\u001b[0m response_message \u001b[38;5;241m=\u001b[39m response[\u001b[38;5;124m\"\u001b[39m\u001b[38;5;124mchoices\u001b[39m\u001b[38;5;124m\"\u001b[39m][\u001b[38;5;241m0\u001b[39m][\u001b[38;5;124m\"\u001b[39m\u001b[38;5;124mmessage\u001b[39m\u001b[38;5;124m\"\u001b[39m][\u001b[38;5;124m\"\u001b[39m\u001b[38;5;124mcontent\u001b[39m\u001b[38;5;124m\"\u001b[39m]\n\u001b[1;32m    131\u001b[0m \u001b[38;5;28;01mreturn\u001b[39;00m response_message\n",
      "File \u001b[0;32m/Volumes/develop/anaconda3/envs/llm/lib/python3.11/site-packages/openai/api_resources/chat_completion.py:25\u001b[0m, in \u001b[0;36mChatCompletion.create\u001b[0;34m(cls, *args, **kwargs)\u001b[0m\n\u001b[1;32m     23\u001b[0m \u001b[38;5;28;01mwhile\u001b[39;00m \u001b[38;5;28;01mTrue\u001b[39;00m:\n\u001b[1;32m     24\u001b[0m     \u001b[38;5;28;01mtry\u001b[39;00m:\n\u001b[0;32m---> 25\u001b[0m         \u001b[38;5;28;01mreturn\u001b[39;00m \u001b[38;5;28msuper\u001b[39m()\u001b[38;5;241m.\u001b[39mcreate(\u001b[38;5;241m*\u001b[39margs, \u001b[38;5;241m*\u001b[39m\u001b[38;5;241m*\u001b[39mkwargs)\n\u001b[1;32m     26\u001b[0m     \u001b[38;5;28;01mexcept\u001b[39;00m TryAgain \u001b[38;5;28;01mas\u001b[39;00m e:\n\u001b[1;32m     27\u001b[0m         \u001b[38;5;28;01mif\u001b[39;00m timeout \u001b[38;5;129;01mis\u001b[39;00m \u001b[38;5;129;01mnot\u001b[39;00m \u001b[38;5;28;01mNone\u001b[39;00m \u001b[38;5;129;01mand\u001b[39;00m time\u001b[38;5;241m.\u001b[39mtime() \u001b[38;5;241m>\u001b[39m start \u001b[38;5;241m+\u001b[39m timeout:\n",
      "File \u001b[0;32m/Volumes/develop/anaconda3/envs/llm/lib/python3.11/site-packages/openai/api_resources/abstract/engine_api_resource.py:155\u001b[0m, in \u001b[0;36mEngineAPIResource.create\u001b[0;34m(cls, api_key, api_base, api_type, request_id, api_version, organization, **params)\u001b[0m\n\u001b[1;32m    129\u001b[0m \u001b[38;5;129m@classmethod\u001b[39m\n\u001b[1;32m    130\u001b[0m \u001b[38;5;28;01mdef\u001b[39;00m \u001b[38;5;21mcreate\u001b[39m(\n\u001b[1;32m    131\u001b[0m     \u001b[38;5;28mcls\u001b[39m,\n\u001b[0;32m   (...)\u001b[0m\n\u001b[1;32m    138\u001b[0m     \u001b[38;5;241m*\u001b[39m\u001b[38;5;241m*\u001b[39mparams,\n\u001b[1;32m    139\u001b[0m ):\n\u001b[1;32m    140\u001b[0m     (\n\u001b[1;32m    141\u001b[0m         deployment_id,\n\u001b[1;32m    142\u001b[0m         engine,\n\u001b[0;32m   (...)\u001b[0m\n\u001b[1;32m    152\u001b[0m         api_key, api_base, api_type, api_version, organization, \u001b[38;5;241m*\u001b[39m\u001b[38;5;241m*\u001b[39mparams\n\u001b[1;32m    153\u001b[0m     )\n\u001b[0;32m--> 155\u001b[0m     response, _, api_key \u001b[38;5;241m=\u001b[39m requestor\u001b[38;5;241m.\u001b[39mrequest(\n\u001b[1;32m    156\u001b[0m         \u001b[38;5;124m\"\u001b[39m\u001b[38;5;124mpost\u001b[39m\u001b[38;5;124m\"\u001b[39m,\n\u001b[1;32m    157\u001b[0m         url,\n\u001b[1;32m    158\u001b[0m         params\u001b[38;5;241m=\u001b[39mparams,\n\u001b[1;32m    159\u001b[0m         headers\u001b[38;5;241m=\u001b[39mheaders,\n\u001b[1;32m    160\u001b[0m         stream\u001b[38;5;241m=\u001b[39mstream,\n\u001b[1;32m    161\u001b[0m         request_id\u001b[38;5;241m=\u001b[39mrequest_id,\n\u001b[1;32m    162\u001b[0m         request_timeout\u001b[38;5;241m=\u001b[39mrequest_timeout,\n\u001b[1;32m    163\u001b[0m     )\n\u001b[1;32m    165\u001b[0m     \u001b[38;5;28;01mif\u001b[39;00m stream:\n\u001b[1;32m    166\u001b[0m         \u001b[38;5;66;03m# must be an iterator\u001b[39;00m\n\u001b[1;32m    167\u001b[0m         \u001b[38;5;28;01massert\u001b[39;00m \u001b[38;5;129;01mnot\u001b[39;00m \u001b[38;5;28misinstance\u001b[39m(response, OpenAIResponse)\n",
      "File \u001b[0;32m/Volumes/develop/anaconda3/envs/llm/lib/python3.11/site-packages/openai/api_requestor.py:299\u001b[0m, in \u001b[0;36mAPIRequestor.request\u001b[0;34m(self, method, url, params, headers, files, stream, request_id, request_timeout)\u001b[0m\n\u001b[1;32m    278\u001b[0m \u001b[38;5;28;01mdef\u001b[39;00m \u001b[38;5;21mrequest\u001b[39m(\n\u001b[1;32m    279\u001b[0m     \u001b[38;5;28mself\u001b[39m,\n\u001b[1;32m    280\u001b[0m     method,\n\u001b[0;32m   (...)\u001b[0m\n\u001b[1;32m    287\u001b[0m     request_timeout: Optional[Union[\u001b[38;5;28mfloat\u001b[39m, Tuple[\u001b[38;5;28mfloat\u001b[39m, \u001b[38;5;28mfloat\u001b[39m]]] \u001b[38;5;241m=\u001b[39m \u001b[38;5;28;01mNone\u001b[39;00m,\n\u001b[1;32m    288\u001b[0m ) \u001b[38;5;241m-\u001b[39m\u001b[38;5;241m>\u001b[39m Tuple[Union[OpenAIResponse, Iterator[OpenAIResponse]], \u001b[38;5;28mbool\u001b[39m, \u001b[38;5;28mstr\u001b[39m]:\n\u001b[1;32m    289\u001b[0m     result \u001b[38;5;241m=\u001b[39m \u001b[38;5;28mself\u001b[39m\u001b[38;5;241m.\u001b[39mrequest_raw(\n\u001b[1;32m    290\u001b[0m         method\u001b[38;5;241m.\u001b[39mlower(),\n\u001b[1;32m    291\u001b[0m         url,\n\u001b[0;32m   (...)\u001b[0m\n\u001b[1;32m    297\u001b[0m         request_timeout\u001b[38;5;241m=\u001b[39mrequest_timeout,\n\u001b[1;32m    298\u001b[0m     )\n\u001b[0;32m--> 299\u001b[0m     resp, got_stream \u001b[38;5;241m=\u001b[39m \u001b[38;5;28mself\u001b[39m\u001b[38;5;241m.\u001b[39m_interpret_response(result, stream)\n\u001b[1;32m    300\u001b[0m     \u001b[38;5;28;01mreturn\u001b[39;00m resp, got_stream, \u001b[38;5;28mself\u001b[39m\u001b[38;5;241m.\u001b[39mapi_key\n",
      "File \u001b[0;32m/Volumes/develop/anaconda3/envs/llm/lib/python3.11/site-packages/openai/api_requestor.py:710\u001b[0m, in \u001b[0;36mAPIRequestor._interpret_response\u001b[0;34m(self, result, stream)\u001b[0m\n\u001b[1;32m    702\u001b[0m     \u001b[38;5;28;01mreturn\u001b[39;00m (\n\u001b[1;32m    703\u001b[0m         \u001b[38;5;28mself\u001b[39m\u001b[38;5;241m.\u001b[39m_interpret_response_line(\n\u001b[1;32m    704\u001b[0m             line, result\u001b[38;5;241m.\u001b[39mstatus_code, result\u001b[38;5;241m.\u001b[39mheaders, stream\u001b[38;5;241m=\u001b[39m\u001b[38;5;28;01mTrue\u001b[39;00m\n\u001b[1;32m    705\u001b[0m         )\n\u001b[1;32m    706\u001b[0m         \u001b[38;5;28;01mfor\u001b[39;00m line \u001b[38;5;129;01min\u001b[39;00m parse_stream(result\u001b[38;5;241m.\u001b[39miter_lines())\n\u001b[1;32m    707\u001b[0m     ), \u001b[38;5;28;01mTrue\u001b[39;00m\n\u001b[1;32m    708\u001b[0m \u001b[38;5;28;01melse\u001b[39;00m:\n\u001b[1;32m    709\u001b[0m     \u001b[38;5;28;01mreturn\u001b[39;00m (\n\u001b[0;32m--> 710\u001b[0m         \u001b[38;5;28mself\u001b[39m\u001b[38;5;241m.\u001b[39m_interpret_response_line(\n\u001b[1;32m    711\u001b[0m             result\u001b[38;5;241m.\u001b[39mcontent\u001b[38;5;241m.\u001b[39mdecode(\u001b[38;5;124m\"\u001b[39m\u001b[38;5;124mutf-8\u001b[39m\u001b[38;5;124m\"\u001b[39m),\n\u001b[1;32m    712\u001b[0m             result\u001b[38;5;241m.\u001b[39mstatus_code,\n\u001b[1;32m    713\u001b[0m             result\u001b[38;5;241m.\u001b[39mheaders,\n\u001b[1;32m    714\u001b[0m             stream\u001b[38;5;241m=\u001b[39m\u001b[38;5;28;01mFalse\u001b[39;00m,\n\u001b[1;32m    715\u001b[0m         ),\n\u001b[1;32m    716\u001b[0m         \u001b[38;5;28;01mFalse\u001b[39;00m,\n\u001b[1;32m    717\u001b[0m     )\n",
      "File \u001b[0;32m/Volumes/develop/anaconda3/envs/llm/lib/python3.11/site-packages/openai/api_requestor.py:775\u001b[0m, in \u001b[0;36mAPIRequestor._interpret_response_line\u001b[0;34m(self, rbody, rcode, rheaders, stream)\u001b[0m\n\u001b[1;32m    773\u001b[0m stream_error \u001b[38;5;241m=\u001b[39m stream \u001b[38;5;129;01mand\u001b[39;00m \u001b[38;5;124m\"\u001b[39m\u001b[38;5;124merror\u001b[39m\u001b[38;5;124m\"\u001b[39m \u001b[38;5;129;01min\u001b[39;00m resp\u001b[38;5;241m.\u001b[39mdata\n\u001b[1;32m    774\u001b[0m \u001b[38;5;28;01mif\u001b[39;00m stream_error \u001b[38;5;129;01mor\u001b[39;00m \u001b[38;5;129;01mnot\u001b[39;00m \u001b[38;5;241m200\u001b[39m \u001b[38;5;241m<\u001b[39m\u001b[38;5;241m=\u001b[39m rcode \u001b[38;5;241m<\u001b[39m \u001b[38;5;241m300\u001b[39m:\n\u001b[0;32m--> 775\u001b[0m     \u001b[38;5;28;01mraise\u001b[39;00m \u001b[38;5;28mself\u001b[39m\u001b[38;5;241m.\u001b[39mhandle_error_response(\n\u001b[1;32m    776\u001b[0m         rbody, rcode, resp\u001b[38;5;241m.\u001b[39mdata, rheaders, stream_error\u001b[38;5;241m=\u001b[39mstream_error\n\u001b[1;32m    777\u001b[0m     )\n\u001b[1;32m    778\u001b[0m \u001b[38;5;28;01mreturn\u001b[39;00m resp\n",
      "\u001b[0;31mInvalidRequestError\u001b[0m: This model's maximum context length is 4097 tokens. However, you requested 5557 tokens (557 in the messages, 5000 in the completion). Please reduce the length of the messages or completion."
     ]
    }
   ],
   "source": [
    "q = queries[3]\n",
    "print(f'\\nquestion: {q}')\n",
    "answer = ask(q, df.copy(), verbose=False, max_tokens=5000)\n",
    "print(f'Answer: {answer}')"
   ]
  },
  {
   "cell_type": "code",
   "execution_count": 33,
   "id": "917fefe6",
   "metadata": {},
   "outputs": [
    {
     "name": "stdout",
     "output_type": "stream",
     "text": [
      "\n",
      "question: list the names of all private funds?\n",
      "Answer: ONE WILLIAM STREET CAPITAL PARTNERS II, L.P.\n"
     ]
    }
   ],
   "source": [
    "q = queries[3]\n",
    "print(f'\\nquestion: {q}')\n",
    "answer = ask(q, df.copy(), verbose=False, max_tokens=2000)\n",
    "print(f'Answer: {answer}')"
   ]
  },
  {
   "cell_type": "code",
   "execution_count": 34,
   "id": "78f69929",
   "metadata": {},
   "outputs": [
    {
     "name": "stdout",
     "output_type": "stream",
     "text": [
      "\n",
      "question: is this a feeder fund?\n",
      "Answer: I don't know.\n"
     ]
    }
   ],
   "source": [
    "q = queries[4]\n",
    "print(f'\\nquestion: {q}')\n",
    "answer = ask(q, df.copy(), verbose=False, max_tokens=2000)\n",
    "print(f'Answer: {answer}')"
   ]
  },
  {
   "cell_type": "code",
   "execution_count": 35,
   "id": "60de3760",
   "metadata": {},
   "outputs": [
    {
     "name": "stdout",
     "output_type": "stream",
     "text": [
      "\n",
      "question: how many employees do you have?\n",
      "Answer: Approximately 96 employees.\n"
     ]
    }
   ],
   "source": [
    "q = queries[5]\n",
    "print(f'\\nquestion: {q}')\n",
    "answer = ask(q, df.copy(), verbose=False, max_tokens=2000)\n",
    "print(f'Answer: {answer}')"
   ]
  },
  {
   "cell_type": "code",
   "execution_count": 36,
   "id": "f18cb17b",
   "metadata": {},
   "outputs": [
    {
     "name": "stdout",
     "output_type": "stream",
     "text": [
      "\n",
      "question: what is the total numebr of accounts?\n",
      "Answer: The total number of accounts is not provided in the given context.\n"
     ]
    }
   ],
   "source": [
    "q = queries[6]\n",
    "print(f'\\nquestion: {q}')\n",
    "answer = ask(q, df.copy(), verbose=False, max_tokens=2000)\n",
    "print(f'Answer: {answer}')"
   ]
  },
  {
   "cell_type": "code",
   "execution_count": 47,
   "id": "0408d696",
   "metadata": {},
   "outputs": [
    {
     "name": "stdout",
     "output_type": "stream",
     "text": [
      "(b) High net worth individuals\n",
      "0\n",
      "$ 0\n",
      "(c) Banking or thrift institutions\n",
      "0\n",
      "$ 0\n",
      "(d) Investment companies\n",
      "0\n",
      "$ 0\n",
      "(e) Business development companies\n",
      "0\n",
      "$ 0\n",
      "(f) Pooled investment vehicles (other than investment companies and\n",
      "business development companies)\n",
      "21\n",
      "$ 7,622,640,223\n",
      "(g) Pension and profit sharing plans (but not the plan participants or\n",
      "government pension plans)\n",
      "$ 486,203,304\n",
      "(h) Charitable organizations\n",
      "0\n",
      "$ 0\n",
      "(i) State or municipal government entities (including government pension\n",
      "plans)\n",
      "0\n",
      "$ 0\n",
      "(j) Other investment advisers\n",
      "0\n",
      "$ 0\n",
      "(k) Insurance companies\n",
      "0\n",
      "$ 0\n",
      "(l) Sovereign wealth funds and foreign official institutions\n",
      "0\n",
      "$ 0\n",
      "(m) Corporations or other businesses not listed above\n",
      "0\n",
      "$ 0\n",
      "(n) Other:  \n",
      "0\n",
      "$ 0\n",
      "Compensation Arrangements\n",
      "E.\n",
      "You are compensated for your investment advisory services by (check all that apply):\n",
      "(1)   A percentage of assets under your management\n",
      "(2)\n",
      "Hourly charges\n",
      "(3)\n",
      "Subscription fees (for a newsletter or periodical)\n",
      "(4)\n",
      "Fixed fees (other than subscription fees)\n",
      "(5)\n",
      "Commissions\n",
      "(6)\n",
      "Performance-based fees\n",
      "(7)\n",
      "Other (specify):\n",
      "Item 5 Information About Your Advisory Business - Regulatory Assets Under Management\n",
      "Regulatory Assets Under Management\n",
      "Yes No\n",
      "F.  (1) Do you provide continuous and regular supervisory or management services to securities portfolios? \n",
      "(2) If yes, what is the amount of your regulatory assets under management and total number of accounts?\n",
      "U.S. Dollar Amount\n",
      "Total Number of Accounts\n",
      "Discretionary:\n",
      "(a)\n",
      "$ 8,108,843,527\n",
      "(d)\n",
      "22\n",
      "Non-Discretionary:\n",
      "(b)\n",
      "$ 0\n",
      "(e)\n",
      "0\n",
      "Total:\n",
      "(c)\n",
      "$ 8,108,843,527\n",
      "(f)\n",
      "22\n",
      "Part 1A Instruction 5.b. explains how to calculate your regulatory assets under management. You must follow these instructions carefully when\n",
      "completing this Item.\n",
      "(3) What is the approximate amount of your total regulatory assets under management (reported in Item 5.F.(2)(c) above) attributable to clients who\n",
      "are non-United States persons? \n",
      "$ 5,688,688,761\n",
      "Item 5 Information About Your Advisory Business - Advisory Activities\n",
      "Advisory Activities\n",
      "G.  What type(s) of advisory services do you provide? Check all that apply.\n",
      "(1)   Financial planning services\n",
      "(2)\n",
      "Portfolio management for individuals and/or small businesses\n",
      "(3)\n",
      "Portfolio management for investment companies (as well as \"business development companies\" that have made an election pursuant to\n",
      "section 54 of the Investment Company Act of 1940)\n",
      "(4)\n",
      "Portfolio management for pooled investment vehicles (other than investment companies)\n",
      "(5)\n",
      "Portfolio management for businesses (other than small businesses) or institutional clients (other than registered investment companies and\n",
      "other pooled investment vehicles)\n",
      "(6)\n",
      "Pension consulting services\n",
      "(7)\n",
      "Selection of other advisers (including private fund managers)\n",
      "(8)\n",
      "Publication of periodicals or newsletters\n",
      "(9)\n",
      "Security ratings or pricing services\n",
      "(10)\n",
      "Market timing services\n",
      "(11)\n",
      "Educational seminars/workshops\n",
      "(12)\n",
      "Other(specify):\n",
      "Do not check Item 5.G.(3) unless you provide advisory services pursuant to an investment advisory contract to an investment company registered under the\n",
      "Investment Company Act of 1940, including as a subadviser. If you check Item 5.G.(3), report the 811 or 814 number of the investment company or\n",
      "\n"
     ]
    }
   ],
   "source": [
    "print(data[7].page_content)"
   ]
  },
  {
   "cell_type": "code",
   "execution_count": 37,
   "id": "25378141",
   "metadata": {},
   "outputs": [
    {
     "name": "stdout",
     "output_type": "stream",
     "text": [
      "\n",
      "question: what percentage of your clients are non-United States persons?\n",
      "Answer: Approximately 70% of the clients are non-United States persons.\n"
     ]
    }
   ],
   "source": [
    "q = queries[7]\n",
    "print(f'\\nquestion: {q}')\n",
    "answer = ask(q, df.copy(), verbose=False, max_tokens=2000)\n",
    "print(f'Answer: {answer}')"
   ]
  },
  {
   "cell_type": "code",
   "execution_count": 38,
   "id": "db30ba24",
   "metadata": {},
   "outputs": [
    {
     "name": "stdout",
     "output_type": "stream",
     "text": [
      "\n",
      "question: how much asset under management do you have under pooled investment vehicles?\n",
      "Answer: Based on the context provided, the amount of assets under management under pooled investment vehicles is $8,108,843,527.\n"
     ]
    }
   ],
   "source": [
    "q = queries[8]\n",
    "print(f'\\nquestion: {q}')\n",
    "answer = ask(q, df.copy(), verbose=False, max_tokens=2000)\n",
    "print(f'Answer: {answer}')"
   ]
  },
  {
   "cell_type": "code",
   "execution_count": 39,
   "id": "a84e676d",
   "metadata": {},
   "outputs": [
    {
     "name": "stdout",
     "output_type": "stream",
     "text": [
      "\n",
      "question: what is a Pooled Investment Vehicle?\n",
      "Answer: A Pooled Investment Vehicle is a type of investment fund where multiple investors pool their money together to invest in various securities or assets.\n"
     ]
    }
   ],
   "source": [
    "q = queries[9]\n",
    "print(f'\\nquestion: {q}')\n",
    "answer = ask(q, df.copy(), verbose=False, max_tokens=2000)\n",
    "print(f'Answer: {answer}')"
   ]
  },
  {
   "cell_type": "code",
   "execution_count": 40,
   "id": "fb2e5def",
   "metadata": {},
   "outputs": [
    {
     "name": "stdout",
     "output_type": "stream",
     "text": [
      "\n",
      "question: how mcuh is under pension and profit sharing plans?\n",
      "Answer: $ 486,203,304 is under pension and profit sharing plans.\n"
     ]
    }
   ],
   "source": [
    "q = queries[10]\n",
    "print(f'\\nquestion: {q}')\n",
    "answer = ask(q, df.copy(), verbose=False, max_tokens=2000)\n",
    "print(f'Answer: {answer}')"
   ]
  },
  {
   "cell_type": "code",
   "execution_count": 41,
   "id": "14180630",
   "metadata": {},
   "outputs": [
    {
     "name": "stdout",
     "output_type": "stream",
     "text": [
      "\n",
      "question: give me the full table of indirect owners?\n",
      "Answer: I don't know.\n"
     ]
    }
   ],
   "source": [
    "q = queries[11]\n",
    "print(f'\\nquestion: {q}')\n",
    "answer = ask(q, df.copy(), verbose=False, max_tokens=2000)\n",
    "print(f'Answer: {answer}')"
   ]
  },
  {
   "cell_type": "code",
   "execution_count": 42,
   "id": "06798a89",
   "metadata": {},
   "outputs": [
    {
     "name": "stdout",
     "output_type": "stream",
     "text": [
      "\n",
      "question: what are the list of indirect owners?\n",
      "Answer: Based on the given context, the list of indirect owners is not provided.\n"
     ]
    }
   ],
   "source": [
    "q = 'what are the list of indirect owners?'\n",
    "print(f'\\nquestion: {q}')\n",
    "answer = ask(q, df.copy(), verbose=False, max_tokens=2000)\n",
    "print(f'Answer: {answer}')"
   ]
  },
  {
   "cell_type": "code",
   "execution_count": null,
   "id": "a4577987",
   "metadata": {},
   "outputs": [],
   "source": []
  },
  {
   "cell_type": "code",
   "execution_count": null,
   "id": "955dcf63",
   "metadata": {},
   "outputs": [],
   "source": []
  },
  {
   "cell_type": "code",
   "execution_count": null,
   "id": "ae7388d7",
   "metadata": {},
   "outputs": [],
   "source": [
    "# from langchain.vectorstores import FAISS\n",
    "# from langchain.embeddings.openai import OpenAIEmbeddings\n",
    "# from dotenv import load_dotenv, find_dotenv\n",
    "# found = load_dotenv(find_dotenv())\n",
    "# if found:\n",
    "#     os.environ[\"OPENAI_API_KEY\"] = os.getenv('OPENAI_API_KEY')\n",
    "# else:\n",
    "#     print(\"couldn't find the key\")\n",
    "\n",
    "\n",
    "# def get_doc_search(texts, embedding_model=None):\n",
    "#     if embedding_model is None:\n",
    "#         embeddings = OpenAIEmbeddings()\n",
    "#     else:\n",
    "#         embeddings = OpenAIEmbeddings(model=embedding_model, deployment=embedding_model)\n",
    "#     return FAISS.from_texts(texts, embeddings)\n",
    "\n",
    "# query = 'how many employees do you have?'\n",
    "# documents = doc_search.similarity_search(query)\n",
    "\n",
    "# for d in documents:\n",
    "#     if 'employee' in d.page_content:\n",
    "#         print(d.page_content)\n",
    "        \n",
    "# from langchain.llms import OpenAI\n",
    "# from langchain.chains.question_answering import load_qa_chain\n",
    "# llm = OpenAI(max_tokens=250,\n",
    "#              temperature=0,\n",
    "#              top_p=1,\n",
    "#              frequency_penalty=0,\n",
    "#              presence_penalty=0)\n",
    "# chain = load_qa_chain(llm, chain_type = \"map_rerank\",  \n",
    "#                       return_intermediate_steps=True)\n",
    "\n",
    "# from langchain.callbacks import get_openai_callback\n",
    "\n",
    "# with get_openai_callback() as cb:\n",
    "#     results = chain({\"input_documents\":documents, \n",
    "#                     \"question\": query},\n",
    "#                     return_only_outputs=False)\n",
    "#     print(f\"Total Tokens: {cb.total_tokens}\")\n",
    "#     print(f\"Prompt Tokens: {cb.prompt_tokens}\")\n",
    "#     print(f\"Completion Tokens: {cb.completion_tokens}\")\n",
    "#     print(f\"Total Cost (USD): ${cb.total_cost}\")\n",
    "    \n",
    "# results = chain({\n",
    "#                     \"input_documents\":documents, \n",
    "#                     \"question\": query\n",
    "#                 }, \n",
    "#                 return_only_outputs=True)\n",
    "\n",
    "# results['intermediate_steps'][0]['answer'].strip()"
   ]
  }
 ],
 "metadata": {
  "kernelspec": {
   "display_name": "llm",
   "language": "python",
   "name": "llm"
  },
  "language_info": {
   "codemirror_mode": {
    "name": "ipython",
    "version": 3
   },
   "file_extension": ".py",
   "mimetype": "text/x-python",
   "name": "python",
   "nbconvert_exporter": "python",
   "pygments_lexer": "ipython3",
   "version": "3.11.5"
  }
 },
 "nbformat": 4,
 "nbformat_minor": 5
}
